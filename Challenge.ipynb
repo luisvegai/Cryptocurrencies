{
 "cells": [
  {
   "cell_type": "code",
   "execution_count": 380,
   "metadata": {},
   "outputs": [
    {
     "data": {
      "text/html": [
       "        <script type=\"text/javascript\">\n",
       "        window.PlotlyConfig = {MathJaxConfig: 'local'};\n",
       "        if (window.MathJax) {MathJax.Hub.Config({SVG: {font: \"STIX-Web\"}});}\n",
       "        if (typeof require !== 'undefined') {\n",
       "        require.undef(\"plotly\");\n",
       "        requirejs.config({\n",
       "            paths: {\n",
       "                'plotly': ['https://cdn.plot.ly/plotly-latest.min']\n",
       "            }\n",
       "        });\n",
       "        require(['plotly'], function(Plotly) {\n",
       "            window._Plotly = Plotly;\n",
       "        });\n",
       "        }\n",
       "        </script>\n",
       "        "
      ]
     },
     "metadata": {},
     "output_type": "display_data"
    }
   ],
   "source": [
    "# Initial imports\n",
    "import plotly as py\n",
    "import pandas as pd\n",
    "import numpy as np\n",
    "\n",
    "from sklearn.cluster import KMeans\n",
    "from sklearn.preprocessing import LabelEncoder, StandardScaler\n",
    "import plotly.express as px\n",
    "import hvplot.pandas\n",
    "py.offline.init_notebook_mode(connected = True)\n",
    "\n",
    "# Import PCA from sci-kit learn\n",
    "from sklearn.decomposition import PCA\n",
    "import hvplot.pandas"
   ]
  },
  {
   "cell_type": "code",
   "execution_count": 381,
   "metadata": {
    "scrolled": true
   },
   "outputs": [
    {
     "data": {
      "text/html": [
       "<div>\n",
       "<style scoped>\n",
       "    .dataframe tbody tr th:only-of-type {\n",
       "        vertical-align: middle;\n",
       "    }\n",
       "\n",
       "    .dataframe tbody tr th {\n",
       "        vertical-align: top;\n",
       "    }\n",
       "\n",
       "    .dataframe thead th {\n",
       "        text-align: right;\n",
       "    }\n",
       "</style>\n",
       "<table border=\"1\" class=\"dataframe\">\n",
       "  <thead>\n",
       "    <tr style=\"text-align: right;\">\n",
       "      <th></th>\n",
       "      <th>Index</th>\n",
       "      <th>CoinName</th>\n",
       "      <th>Algorithm</th>\n",
       "      <th>IsTrading</th>\n",
       "      <th>ProofType</th>\n",
       "      <th>TotalCoinsMined</th>\n",
       "      <th>TotalCoinSupply</th>\n",
       "    </tr>\n",
       "  </thead>\n",
       "  <tbody>\n",
       "    <tr>\n",
       "      <th>0</th>\n",
       "      <td>42</td>\n",
       "      <td>42 Coin</td>\n",
       "      <td>Scrypt</td>\n",
       "      <td>True</td>\n",
       "      <td>PoW/PoS</td>\n",
       "      <td>4.199995e+01</td>\n",
       "      <td>42</td>\n",
       "    </tr>\n",
       "    <tr>\n",
       "      <th>1</th>\n",
       "      <td>365</td>\n",
       "      <td>365Coin</td>\n",
       "      <td>X11</td>\n",
       "      <td>True</td>\n",
       "      <td>PoW/PoS</td>\n",
       "      <td>NaN</td>\n",
       "      <td>2300000000</td>\n",
       "    </tr>\n",
       "    <tr>\n",
       "      <th>2</th>\n",
       "      <td>404</td>\n",
       "      <td>404Coin</td>\n",
       "      <td>Scrypt</td>\n",
       "      <td>True</td>\n",
       "      <td>PoW/PoS</td>\n",
       "      <td>1.055185e+09</td>\n",
       "      <td>532000000</td>\n",
       "    </tr>\n",
       "    <tr>\n",
       "      <th>3</th>\n",
       "      <td>611</td>\n",
       "      <td>SixEleven</td>\n",
       "      <td>SHA-256</td>\n",
       "      <td>True</td>\n",
       "      <td>PoW</td>\n",
       "      <td>NaN</td>\n",
       "      <td>611000</td>\n",
       "    </tr>\n",
       "    <tr>\n",
       "      <th>4</th>\n",
       "      <td>808</td>\n",
       "      <td>808</td>\n",
       "      <td>SHA-256</td>\n",
       "      <td>True</td>\n",
       "      <td>PoW/PoS</td>\n",
       "      <td>0.000000e+00</td>\n",
       "      <td>0</td>\n",
       "    </tr>\n",
       "  </tbody>\n",
       "</table>\n",
       "</div>"
      ],
      "text/plain": [
       "  Index   CoinName Algorithm  IsTrading ProofType  TotalCoinsMined  \\\n",
       "0    42    42 Coin    Scrypt       True   PoW/PoS     4.199995e+01   \n",
       "1   365    365Coin       X11       True   PoW/PoS              NaN   \n",
       "2   404    404Coin    Scrypt       True   PoW/PoS     1.055185e+09   \n",
       "3   611  SixEleven   SHA-256       True       PoW              NaN   \n",
       "4   808        808   SHA-256       True   PoW/PoS     0.000000e+00   \n",
       "\n",
       "  TotalCoinSupply  \n",
       "0              42  \n",
       "1      2300000000  \n",
       "2       532000000  \n",
       "3          611000  \n",
       "4               0  "
      ]
     },
     "execution_count": 381,
     "metadata": {},
     "output_type": "execute_result"
    }
   ],
   "source": [
    "file_path = \"Resources/crypto_data.csv\"\n",
    "crypto_df = pd.read_csv(file_path)\n",
    "crypto_df.rename(columns={'Unnamed: 0':'Index'}, inplace=True)\n",
    "crypto_df.head()"
   ]
  },
  {
   "cell_type": "code",
   "execution_count": 382,
   "metadata": {},
   "outputs": [],
   "source": [
    "crypto_df = crypto_df.set_index('Index')"
   ]
  },
  {
   "cell_type": "code",
   "execution_count": 383,
   "metadata": {},
   "outputs": [
    {
     "data": {
      "text/plain": [
       "CoinName            object\n",
       "Algorithm           object\n",
       "IsTrading             bool\n",
       "ProofType           object\n",
       "TotalCoinsMined    float64\n",
       "TotalCoinSupply     object\n",
       "dtype: object"
      ]
     },
     "execution_count": 383,
     "metadata": {},
     "output_type": "execute_result"
    }
   ],
   "source": [
    "crypto_df.dtypes"
   ]
  },
  {
   "cell_type": "code",
   "execution_count": 384,
   "metadata": {},
   "outputs": [
    {
     "name": "stdout",
     "output_type": "stream",
     "text": [
      "      CoinName Algorithm  IsTrading ProofType  TotalCoinsMined TotalCoinSupply\n",
      "Index                                                                         \n",
      "KRAK    Kraken   SHA-256       True   PoW/PoS              NaN      20 000 000\n",
      "NBIT    NetBit    Scrypt       True   PoW/PoS              NaN      10.500.000\n",
      "MLITE   MeLite  SHA-256D       True   PoW/PoS              NaN       1.000.000\n"
     ]
    }
   ],
   "source": [
    "print (crypto_df[pd.to_numeric(crypto_df['TotalCoinSupply'], errors='coerce').isnull()])"
   ]
  },
  {
   "cell_type": "code",
   "execution_count": 385,
   "metadata": {},
   "outputs": [],
   "source": [
    "crypto_df['TotalCoinSupply'] = crypto_df['TotalCoinSupply'].str.replace(\" \",\"\")"
   ]
  },
  {
   "cell_type": "code",
   "execution_count": 386,
   "metadata": {},
   "outputs": [],
   "source": [
    "crypto_df['TotalCoinSupply'] = crypto_df['TotalCoinSupply'].str.replace(\".\",\"\")"
   ]
  },
  {
   "cell_type": "code",
   "execution_count": 387,
   "metadata": {},
   "outputs": [],
   "source": [
    "crypto_df[['TotalCoinSupply']] = crypto_df[['TotalCoinSupply']].apply(pd.to_numeric)"
   ]
  },
  {
   "cell_type": "code",
   "execution_count": 388,
   "metadata": {},
   "outputs": [
    {
     "data": {
      "text/plain": [
       "(1144, 6)"
      ]
     },
     "execution_count": 388,
     "metadata": {},
     "output_type": "execute_result"
    }
   ],
   "source": [
    "# Remove all cryptocurrencies that aren’t trading.\n",
    "crypto_df[crypto_df['IsTrading']==True].shape"
   ]
  },
  {
   "cell_type": "code",
   "execution_count": 389,
   "metadata": {},
   "outputs": [],
   "source": [
    "crypto_df = crypto_df[crypto_df['IsTrading']==True]"
   ]
  },
  {
   "cell_type": "code",
   "execution_count": 390,
   "metadata": {
    "scrolled": true
   },
   "outputs": [
    {
     "data": {
      "text/html": [
       "<div>\n",
       "<style scoped>\n",
       "    .dataframe tbody tr th:only-of-type {\n",
       "        vertical-align: middle;\n",
       "    }\n",
       "\n",
       "    .dataframe tbody tr th {\n",
       "        vertical-align: top;\n",
       "    }\n",
       "\n",
       "    .dataframe thead th {\n",
       "        text-align: right;\n",
       "    }\n",
       "</style>\n",
       "<table border=\"1\" class=\"dataframe\">\n",
       "  <thead>\n",
       "    <tr style=\"text-align: right;\">\n",
       "      <th></th>\n",
       "      <th>CoinName</th>\n",
       "      <th>Algorithm</th>\n",
       "      <th>IsTrading</th>\n",
       "      <th>ProofType</th>\n",
       "      <th>TotalCoinsMined</th>\n",
       "      <th>TotalCoinSupply</th>\n",
       "    </tr>\n",
       "    <tr>\n",
       "      <th>Index</th>\n",
       "      <th></th>\n",
       "      <th></th>\n",
       "      <th></th>\n",
       "      <th></th>\n",
       "      <th></th>\n",
       "      <th></th>\n",
       "    </tr>\n",
       "  </thead>\n",
       "  <tbody>\n",
       "  </tbody>\n",
       "</table>\n",
       "</div>"
      ],
      "text/plain": [
       "Empty DataFrame\n",
       "Columns: [CoinName, Algorithm, IsTrading, ProofType, TotalCoinsMined, TotalCoinSupply]\n",
       "Index: []"
      ]
     },
     "execution_count": 390,
     "metadata": {},
     "output_type": "execute_result"
    }
   ],
   "source": [
    "#Remove all cryptocurrencies that don’t have an algorithm defined\n",
    "crypto_df[crypto_df.Algorithm.isnull()]"
   ]
  },
  {
   "cell_type": "code",
   "execution_count": 391,
   "metadata": {},
   "outputs": [],
   "source": [
    "# Remove the IsTrading column.\n",
    "crypto_df = crypto_df.drop('IsTrading', 1)"
   ]
  },
  {
   "cell_type": "code",
   "execution_count": 392,
   "metadata": {},
   "outputs": [],
   "source": [
    "# Remove all cryptocurrencies with at least one null value.\n",
    "crypto_df_clean = crypto_df.dropna()"
   ]
  },
  {
   "cell_type": "code",
   "execution_count": 393,
   "metadata": {},
   "outputs": [
    {
     "data": {
      "text/html": [
       "<div>\n",
       "<style scoped>\n",
       "    .dataframe tbody tr th:only-of-type {\n",
       "        vertical-align: middle;\n",
       "    }\n",
       "\n",
       "    .dataframe tbody tr th {\n",
       "        vertical-align: top;\n",
       "    }\n",
       "\n",
       "    .dataframe thead th {\n",
       "        text-align: right;\n",
       "    }\n",
       "</style>\n",
       "<table border=\"1\" class=\"dataframe\">\n",
       "  <thead>\n",
       "    <tr style=\"text-align: right;\">\n",
       "      <th></th>\n",
       "      <th>CoinName</th>\n",
       "      <th>Algorithm</th>\n",
       "      <th>ProofType</th>\n",
       "      <th>TotalCoinsMined</th>\n",
       "      <th>TotalCoinSupply</th>\n",
       "    </tr>\n",
       "    <tr>\n",
       "      <th>Index</th>\n",
       "      <th></th>\n",
       "      <th></th>\n",
       "      <th></th>\n",
       "      <th></th>\n",
       "      <th></th>\n",
       "    </tr>\n",
       "  </thead>\n",
       "  <tbody>\n",
       "    <tr>\n",
       "      <th>42</th>\n",
       "      <td>42 Coin</td>\n",
       "      <td>Scrypt</td>\n",
       "      <td>PoW/PoS</td>\n",
       "      <td>4.199995e+01</td>\n",
       "      <td>42</td>\n",
       "    </tr>\n",
       "    <tr>\n",
       "      <th>404</th>\n",
       "      <td>404Coin</td>\n",
       "      <td>Scrypt</td>\n",
       "      <td>PoW/PoS</td>\n",
       "      <td>1.055185e+09</td>\n",
       "      <td>532000000</td>\n",
       "    </tr>\n",
       "    <tr>\n",
       "      <th>808</th>\n",
       "      <td>808</td>\n",
       "      <td>SHA-256</td>\n",
       "      <td>PoW/PoS</td>\n",
       "      <td>0.000000e+00</td>\n",
       "      <td>0</td>\n",
       "    </tr>\n",
       "    <tr>\n",
       "      <th>1337</th>\n",
       "      <td>EliteCoin</td>\n",
       "      <td>X13</td>\n",
       "      <td>PoW/PoS</td>\n",
       "      <td>2.927942e+10</td>\n",
       "      <td>314159265359</td>\n",
       "    </tr>\n",
       "    <tr>\n",
       "      <th>BTC</th>\n",
       "      <td>Bitcoin</td>\n",
       "      <td>SHA-256</td>\n",
       "      <td>PoW</td>\n",
       "      <td>1.792718e+07</td>\n",
       "      <td>21000000</td>\n",
       "    </tr>\n",
       "  </tbody>\n",
       "</table>\n",
       "</div>"
      ],
      "text/plain": [
       "        CoinName Algorithm ProofType  TotalCoinsMined  TotalCoinSupply\n",
       "Index                                                                 \n",
       "42       42 Coin    Scrypt   PoW/PoS     4.199995e+01               42\n",
       "404      404Coin    Scrypt   PoW/PoS     1.055185e+09        532000000\n",
       "808          808   SHA-256   PoW/PoS     0.000000e+00                0\n",
       "1337   EliteCoin       X13   PoW/PoS     2.927942e+10     314159265359\n",
       "BTC      Bitcoin   SHA-256       PoW     1.792718e+07         21000000"
      ]
     },
     "execution_count": 393,
     "metadata": {},
     "output_type": "execute_result"
    }
   ],
   "source": [
    "crypto_df_clean.head()"
   ]
  },
  {
   "cell_type": "code",
   "execution_count": 394,
   "metadata": {},
   "outputs": [
    {
     "data": {
      "text/html": [
       "<div>\n",
       "<style scoped>\n",
       "    .dataframe tbody tr th:only-of-type {\n",
       "        vertical-align: middle;\n",
       "    }\n",
       "\n",
       "    .dataframe tbody tr th {\n",
       "        vertical-align: top;\n",
       "    }\n",
       "\n",
       "    .dataframe thead th {\n",
       "        text-align: right;\n",
       "    }\n",
       "</style>\n",
       "<table border=\"1\" class=\"dataframe\">\n",
       "  <thead>\n",
       "    <tr style=\"text-align: right;\">\n",
       "      <th></th>\n",
       "      <th>CoinName</th>\n",
       "      <th>Algorithm</th>\n",
       "      <th>ProofType</th>\n",
       "      <th>TotalCoinSupply_log</th>\n",
       "      <th>TotalCoinsMined_log</th>\n",
       "    </tr>\n",
       "    <tr>\n",
       "      <th>Index</th>\n",
       "      <th></th>\n",
       "      <th></th>\n",
       "      <th></th>\n",
       "      <th></th>\n",
       "      <th></th>\n",
       "    </tr>\n",
       "  </thead>\n",
       "  <tbody>\n",
       "    <tr>\n",
       "      <th>42</th>\n",
       "      <td>42 Coin</td>\n",
       "      <td>Scrypt</td>\n",
       "      <td>PoW/PoS</td>\n",
       "      <td>5.392317</td>\n",
       "      <td>5.392316</td>\n",
       "    </tr>\n",
       "    <tr>\n",
       "      <th>404</th>\n",
       "      <td>404Coin</td>\n",
       "      <td>Scrypt</td>\n",
       "      <td>PoW/PoS</td>\n",
       "      <td>28.986851</td>\n",
       "      <td>29.974849</td>\n",
       "    </tr>\n",
       "    <tr>\n",
       "      <th>1337</th>\n",
       "      <td>EliteCoin</td>\n",
       "      <td>X13</td>\n",
       "      <td>PoW/PoS</td>\n",
       "      <td>38.192705</td>\n",
       "      <td>34.769168</td>\n",
       "    </tr>\n",
       "    <tr>\n",
       "      <th>BTC</th>\n",
       "      <td>Bitcoin</td>\n",
       "      <td>SHA-256</td>\n",
       "      <td>PoW</td>\n",
       "      <td>24.323886</td>\n",
       "      <td>24.095645</td>\n",
       "    </tr>\n",
       "    <tr>\n",
       "      <th>LTC</th>\n",
       "      <td>Litecoin</td>\n",
       "      <td>Scrypt</td>\n",
       "      <td>PoW</td>\n",
       "      <td>26.323886</td>\n",
       "      <td>25.909747</td>\n",
       "    </tr>\n",
       "  </tbody>\n",
       "</table>\n",
       "</div>"
      ],
      "text/plain": [
       "        CoinName Algorithm ProofType  TotalCoinSupply_log  TotalCoinsMined_log\n",
       "Index                                                                         \n",
       "42       42 Coin    Scrypt   PoW/PoS             5.392317             5.392316\n",
       "404      404Coin    Scrypt   PoW/PoS            28.986851            29.974849\n",
       "1337   EliteCoin       X13   PoW/PoS            38.192705            34.769168\n",
       "BTC      Bitcoin   SHA-256       PoW            24.323886            24.095645\n",
       "LTC     Litecoin    Scrypt       PoW            26.323886            25.909747"
      ]
     },
     "execution_count": 394,
     "metadata": {},
     "output_type": "execute_result"
    }
   ],
   "source": [
    "# Remove all cryptocurrencies without coins mined.\n",
    "cond = crypto_df_clean['TotalCoinsMined'] > 0\n",
    "crypto_df_clean = crypto_df_clean[cond]\n",
    "\n",
    "# TotalCoinSupply has many outliers, so it is log transformed.\n",
    "# Removing all cryptocurrencies without coins supplied.\n",
    "cond = crypto_df_clean['TotalCoinSupply'] > 0\n",
    "crypto_df_clean = crypto_df_clean[cond]\n",
    "\n",
    "crypto_df_clean['TotalCoinSupply_log'] = np.log2(crypto_df_clean['TotalCoinSupply'])\n",
    "crypto_df_clean = crypto_df_clean.drop('TotalCoinSupply', 1)\n",
    "crypto_df_clean['TotalCoinsMined_log'] = np.log2(crypto_df_clean['TotalCoinsMined'])\n",
    "crypto_df_clean = crypto_df_clean.drop('TotalCoinsMined', 1)\n",
    "crypto_df_clean.head()"
   ]
  },
  {
   "cell_type": "code",
   "execution_count": 320,
   "metadata": {},
   "outputs": [],
   "source": [
    "# Outlier detected when doing 3d scatter plot. Deleting outlier row with index label 'b' \n",
    "# crypto_df_clean = crypto_df_clean.drop(['BTT' , 'VET'])"
   ]
  },
  {
   "cell_type": "code",
   "execution_count": 395,
   "metadata": {},
   "outputs": [],
   "source": [
    "coins_name = crypto_df_clean['CoinName']\n",
    "coins_name.head()\n",
    "# Remove the CoinName column.\n",
    "crypto_df_clean = crypto_df_clean.drop('CoinName', 1)"
   ]
  },
  {
   "cell_type": "code",
   "execution_count": 396,
   "metadata": {},
   "outputs": [],
   "source": [
    "# Binary encoding using Pandas (multiple columns)\n",
    "X = pd.get_dummies(crypto_df_clean, columns=[\"Algorithm\",\"ProofType\"])"
   ]
  },
  {
   "cell_type": "code",
   "execution_count": 397,
   "metadata": {
    "scrolled": false
   },
   "outputs": [
    {
     "data": {
      "text/html": [
       "<div>\n",
       "<style scoped>\n",
       "    .dataframe tbody tr th:only-of-type {\n",
       "        vertical-align: middle;\n",
       "    }\n",
       "\n",
       "    .dataframe tbody tr th {\n",
       "        vertical-align: top;\n",
       "    }\n",
       "\n",
       "    .dataframe thead th {\n",
       "        text-align: right;\n",
       "    }\n",
       "</style>\n",
       "<table border=\"1\" class=\"dataframe\">\n",
       "  <thead>\n",
       "    <tr style=\"text-align: right;\">\n",
       "      <th></th>\n",
       "      <th>TotalCoinSupply_log</th>\n",
       "      <th>TotalCoinsMined_log</th>\n",
       "      <th>Algorithm_1GB AES Pattern Search</th>\n",
       "      <th>Algorithm_536</th>\n",
       "      <th>Algorithm_BLAKE256</th>\n",
       "      <th>Algorithm_Blake</th>\n",
       "      <th>Algorithm_Blake2S</th>\n",
       "      <th>Algorithm_Blake2b</th>\n",
       "      <th>Algorithm_C11</th>\n",
       "      <th>Algorithm_Cloverhash</th>\n",
       "      <th>...</th>\n",
       "      <th>ProofType_PoW/PoS</th>\n",
       "      <th>ProofType_PoW/PoS</th>\n",
       "      <th>ProofType_PoW/PoW</th>\n",
       "      <th>ProofType_PoW/nPoS</th>\n",
       "      <th>ProofType_Pos</th>\n",
       "      <th>ProofType_Proof of Authority</th>\n",
       "      <th>ProofType_Proof of Trust</th>\n",
       "      <th>ProofType_TPoS</th>\n",
       "      <th>ProofType_Zero-Knowledge Proof</th>\n",
       "      <th>ProofType_dPoW/PoW</th>\n",
       "    </tr>\n",
       "    <tr>\n",
       "      <th>Index</th>\n",
       "      <th></th>\n",
       "      <th></th>\n",
       "      <th></th>\n",
       "      <th></th>\n",
       "      <th></th>\n",
       "      <th></th>\n",
       "      <th></th>\n",
       "      <th></th>\n",
       "      <th></th>\n",
       "      <th></th>\n",
       "      <th></th>\n",
       "      <th></th>\n",
       "      <th></th>\n",
       "      <th></th>\n",
       "      <th></th>\n",
       "      <th></th>\n",
       "      <th></th>\n",
       "      <th></th>\n",
       "      <th></th>\n",
       "      <th></th>\n",
       "      <th></th>\n",
       "    </tr>\n",
       "  </thead>\n",
       "  <tbody>\n",
       "    <tr>\n",
       "      <th>42</th>\n",
       "      <td>5.392317</td>\n",
       "      <td>5.392316</td>\n",
       "      <td>0</td>\n",
       "      <td>0</td>\n",
       "      <td>0</td>\n",
       "      <td>0</td>\n",
       "      <td>0</td>\n",
       "      <td>0</td>\n",
       "      <td>0</td>\n",
       "      <td>0</td>\n",
       "      <td>...</td>\n",
       "      <td>1</td>\n",
       "      <td>0</td>\n",
       "      <td>0</td>\n",
       "      <td>0</td>\n",
       "      <td>0</td>\n",
       "      <td>0</td>\n",
       "      <td>0</td>\n",
       "      <td>0</td>\n",
       "      <td>0</td>\n",
       "      <td>0</td>\n",
       "    </tr>\n",
       "    <tr>\n",
       "      <th>404</th>\n",
       "      <td>28.986851</td>\n",
       "      <td>29.974849</td>\n",
       "      <td>0</td>\n",
       "      <td>0</td>\n",
       "      <td>0</td>\n",
       "      <td>0</td>\n",
       "      <td>0</td>\n",
       "      <td>0</td>\n",
       "      <td>0</td>\n",
       "      <td>0</td>\n",
       "      <td>...</td>\n",
       "      <td>1</td>\n",
       "      <td>0</td>\n",
       "      <td>0</td>\n",
       "      <td>0</td>\n",
       "      <td>0</td>\n",
       "      <td>0</td>\n",
       "      <td>0</td>\n",
       "      <td>0</td>\n",
       "      <td>0</td>\n",
       "      <td>0</td>\n",
       "    </tr>\n",
       "    <tr>\n",
       "      <th>1337</th>\n",
       "      <td>38.192705</td>\n",
       "      <td>34.769168</td>\n",
       "      <td>0</td>\n",
       "      <td>0</td>\n",
       "      <td>0</td>\n",
       "      <td>0</td>\n",
       "      <td>0</td>\n",
       "      <td>0</td>\n",
       "      <td>0</td>\n",
       "      <td>0</td>\n",
       "      <td>...</td>\n",
       "      <td>1</td>\n",
       "      <td>0</td>\n",
       "      <td>0</td>\n",
       "      <td>0</td>\n",
       "      <td>0</td>\n",
       "      <td>0</td>\n",
       "      <td>0</td>\n",
       "      <td>0</td>\n",
       "      <td>0</td>\n",
       "      <td>0</td>\n",
       "    </tr>\n",
       "    <tr>\n",
       "      <th>BTC</th>\n",
       "      <td>24.323886</td>\n",
       "      <td>24.095645</td>\n",
       "      <td>0</td>\n",
       "      <td>0</td>\n",
       "      <td>0</td>\n",
       "      <td>0</td>\n",
       "      <td>0</td>\n",
       "      <td>0</td>\n",
       "      <td>0</td>\n",
       "      <td>0</td>\n",
       "      <td>...</td>\n",
       "      <td>0</td>\n",
       "      <td>0</td>\n",
       "      <td>0</td>\n",
       "      <td>0</td>\n",
       "      <td>0</td>\n",
       "      <td>0</td>\n",
       "      <td>0</td>\n",
       "      <td>0</td>\n",
       "      <td>0</td>\n",
       "      <td>0</td>\n",
       "    </tr>\n",
       "    <tr>\n",
       "      <th>LTC</th>\n",
       "      <td>26.323886</td>\n",
       "      <td>25.909747</td>\n",
       "      <td>0</td>\n",
       "      <td>0</td>\n",
       "      <td>0</td>\n",
       "      <td>0</td>\n",
       "      <td>0</td>\n",
       "      <td>0</td>\n",
       "      <td>0</td>\n",
       "      <td>0</td>\n",
       "      <td>...</td>\n",
       "      <td>0</td>\n",
       "      <td>0</td>\n",
       "      <td>0</td>\n",
       "      <td>0</td>\n",
       "      <td>0</td>\n",
       "      <td>0</td>\n",
       "      <td>0</td>\n",
       "      <td>0</td>\n",
       "      <td>0</td>\n",
       "      <td>0</td>\n",
       "    </tr>\n",
       "  </tbody>\n",
       "</table>\n",
       "<p>5 rows × 95 columns</p>\n",
       "</div>"
      ],
      "text/plain": [
       "       TotalCoinSupply_log  TotalCoinsMined_log  \\\n",
       "Index                                             \n",
       "42                5.392317             5.392316   \n",
       "404              28.986851            29.974849   \n",
       "1337             38.192705            34.769168   \n",
       "BTC              24.323886            24.095645   \n",
       "LTC              26.323886            25.909747   \n",
       "\n",
       "       Algorithm_1GB AES Pattern Search  Algorithm_536  Algorithm_BLAKE256  \\\n",
       "Index                                                                        \n",
       "42                                    0              0                   0   \n",
       "404                                   0              0                   0   \n",
       "1337                                  0              0                   0   \n",
       "BTC                                   0              0                   0   \n",
       "LTC                                   0              0                   0   \n",
       "\n",
       "       Algorithm_Blake  Algorithm_Blake2S  Algorithm_Blake2b  Algorithm_C11  \\\n",
       "Index                                                                         \n",
       "42                   0                  0                  0              0   \n",
       "404                  0                  0                  0              0   \n",
       "1337                 0                  0                  0              0   \n",
       "BTC                  0                  0                  0              0   \n",
       "LTC                  0                  0                  0              0   \n",
       "\n",
       "       Algorithm_Cloverhash  ...  ProofType_PoW/PoS  ProofType_PoW/PoS   \\\n",
       "Index                        ...                                          \n",
       "42                        0  ...                  1                   0   \n",
       "404                       0  ...                  1                   0   \n",
       "1337                      0  ...                  1                   0   \n",
       "BTC                       0  ...                  0                   0   \n",
       "LTC                       0  ...                  0                   0   \n",
       "\n",
       "       ProofType_PoW/PoW  ProofType_PoW/nPoS  ProofType_Pos  \\\n",
       "Index                                                         \n",
       "42                     0                   0              0   \n",
       "404                    0                   0              0   \n",
       "1337                   0                   0              0   \n",
       "BTC                    0                   0              0   \n",
       "LTC                    0                   0              0   \n",
       "\n",
       "       ProofType_Proof of Authority  ProofType_Proof of Trust  ProofType_TPoS  \\\n",
       "Index                                                                           \n",
       "42                                0                         0               0   \n",
       "404                               0                         0               0   \n",
       "1337                              0                         0               0   \n",
       "BTC                               0                         0               0   \n",
       "LTC                               0                         0               0   \n",
       "\n",
       "       ProofType_Zero-Knowledge Proof  ProofType_dPoW/PoW  \n",
       "Index                                                      \n",
       "42                                  0                   0  \n",
       "404                                 0                   0  \n",
       "1337                                0                   0  \n",
       "BTC                                 0                   0  \n",
       "LTC                                 0                   0  \n",
       "\n",
       "[5 rows x 95 columns]"
      ]
     },
     "execution_count": 397,
     "metadata": {},
     "output_type": "execute_result"
    }
   ],
   "source": [
    "X.head()"
   ]
  },
  {
   "cell_type": "code",
   "execution_count": 398,
   "metadata": {},
   "outputs": [],
   "source": [
    "# Creating the scaler instance\n",
    "data_scaler = StandardScaler()\n",
    "# Fitting the scaler\n",
    "data_scaler.fit(X)\n",
    "# Transforming the data\n",
    "X_scaled = data_scaler.transform(X)\n"
   ]
  },
  {
   "cell_type": "code",
   "execution_count": 399,
   "metadata": {},
   "outputs": [],
   "source": [
    "X_df_scaled = pd.DataFrame(X_scaled)"
   ]
  },
  {
   "cell_type": "code",
   "execution_count": 400,
   "metadata": {},
   "outputs": [],
   "source": [
    "X_df_scaled.index = X.index"
   ]
  },
  {
   "cell_type": "code",
   "execution_count": 401,
   "metadata": {},
   "outputs": [
    {
     "data": {
      "text/html": [
       "<div>\n",
       "<style scoped>\n",
       "    .dataframe tbody tr th:only-of-type {\n",
       "        vertical-align: middle;\n",
       "    }\n",
       "\n",
       "    .dataframe tbody tr th {\n",
       "        vertical-align: top;\n",
       "    }\n",
       "\n",
       "    .dataframe thead th {\n",
       "        text-align: right;\n",
       "    }\n",
       "</style>\n",
       "<table border=\"1\" class=\"dataframe\">\n",
       "  <thead>\n",
       "    <tr style=\"text-align: right;\">\n",
       "      <th></th>\n",
       "      <th>0</th>\n",
       "      <th>1</th>\n",
       "      <th>2</th>\n",
       "      <th>3</th>\n",
       "      <th>4</th>\n",
       "      <th>5</th>\n",
       "      <th>6</th>\n",
       "      <th>7</th>\n",
       "      <th>8</th>\n",
       "      <th>9</th>\n",
       "      <th>...</th>\n",
       "      <th>85</th>\n",
       "      <th>86</th>\n",
       "      <th>87</th>\n",
       "      <th>88</th>\n",
       "      <th>89</th>\n",
       "      <th>90</th>\n",
       "      <th>91</th>\n",
       "      <th>92</th>\n",
       "      <th>93</th>\n",
       "      <th>94</th>\n",
       "    </tr>\n",
       "    <tr>\n",
       "      <th>Index</th>\n",
       "      <th></th>\n",
       "      <th></th>\n",
       "      <th></th>\n",
       "      <th></th>\n",
       "      <th></th>\n",
       "      <th></th>\n",
       "      <th></th>\n",
       "      <th></th>\n",
       "      <th></th>\n",
       "      <th></th>\n",
       "      <th></th>\n",
       "      <th></th>\n",
       "      <th></th>\n",
       "      <th></th>\n",
       "      <th></th>\n",
       "      <th></th>\n",
       "      <th></th>\n",
       "      <th></th>\n",
       "      <th></th>\n",
       "      <th></th>\n",
       "      <th></th>\n",
       "    </tr>\n",
       "  </thead>\n",
       "  <tbody>\n",
       "    <tr>\n",
       "      <th>42</th>\n",
       "      <td>-4.987300</td>\n",
       "      <td>-4.691314</td>\n",
       "      <td>-0.044901</td>\n",
       "      <td>-0.044901</td>\n",
       "      <td>-0.063564</td>\n",
       "      <td>-0.077929</td>\n",
       "      <td>-0.044901</td>\n",
       "      <td>-0.044901</td>\n",
       "      <td>-0.063564</td>\n",
       "      <td>-0.044901</td>\n",
       "      <td>...</td>\n",
       "      <td>1.438020</td>\n",
       "      <td>-0.044901</td>\n",
       "      <td>-0.044901</td>\n",
       "      <td>-0.044901</td>\n",
       "      <td>-0.044901</td>\n",
       "      <td>-0.044901</td>\n",
       "      <td>-0.044901</td>\n",
       "      <td>-0.044901</td>\n",
       "      <td>-0.044901</td>\n",
       "      <td>-0.044901</td>\n",
       "    </tr>\n",
       "    <tr>\n",
       "      <th>404</th>\n",
       "      <td>0.381590</td>\n",
       "      <td>1.081920</td>\n",
       "      <td>-0.044901</td>\n",
       "      <td>-0.044901</td>\n",
       "      <td>-0.063564</td>\n",
       "      <td>-0.077929</td>\n",
       "      <td>-0.044901</td>\n",
       "      <td>-0.044901</td>\n",
       "      <td>-0.063564</td>\n",
       "      <td>-0.044901</td>\n",
       "      <td>...</td>\n",
       "      <td>1.438020</td>\n",
       "      <td>-0.044901</td>\n",
       "      <td>-0.044901</td>\n",
       "      <td>-0.044901</td>\n",
       "      <td>-0.044901</td>\n",
       "      <td>-0.044901</td>\n",
       "      <td>-0.044901</td>\n",
       "      <td>-0.044901</td>\n",
       "      <td>-0.044901</td>\n",
       "      <td>-0.044901</td>\n",
       "    </tr>\n",
       "    <tr>\n",
       "      <th>1337</th>\n",
       "      <td>2.476364</td>\n",
       "      <td>2.207871</td>\n",
       "      <td>-0.044901</td>\n",
       "      <td>-0.044901</td>\n",
       "      <td>-0.063564</td>\n",
       "      <td>-0.077929</td>\n",
       "      <td>-0.044901</td>\n",
       "      <td>-0.044901</td>\n",
       "      <td>-0.063564</td>\n",
       "      <td>-0.044901</td>\n",
       "      <td>...</td>\n",
       "      <td>1.438020</td>\n",
       "      <td>-0.044901</td>\n",
       "      <td>-0.044901</td>\n",
       "      <td>-0.044901</td>\n",
       "      <td>-0.044901</td>\n",
       "      <td>-0.044901</td>\n",
       "      <td>-0.044901</td>\n",
       "      <td>-0.044901</td>\n",
       "      <td>-0.044901</td>\n",
       "      <td>-0.044901</td>\n",
       "    </tr>\n",
       "    <tr>\n",
       "      <th>BTC</th>\n",
       "      <td>-0.679458</td>\n",
       "      <td>-0.298818</td>\n",
       "      <td>-0.044901</td>\n",
       "      <td>-0.044901</td>\n",
       "      <td>-0.063564</td>\n",
       "      <td>-0.077929</td>\n",
       "      <td>-0.044901</td>\n",
       "      <td>-0.044901</td>\n",
       "      <td>-0.063564</td>\n",
       "      <td>-0.044901</td>\n",
       "      <td>...</td>\n",
       "      <td>-0.695401</td>\n",
       "      <td>-0.044901</td>\n",
       "      <td>-0.044901</td>\n",
       "      <td>-0.044901</td>\n",
       "      <td>-0.044901</td>\n",
       "      <td>-0.044901</td>\n",
       "      <td>-0.044901</td>\n",
       "      <td>-0.044901</td>\n",
       "      <td>-0.044901</td>\n",
       "      <td>-0.044901</td>\n",
       "    </tr>\n",
       "    <tr>\n",
       "      <th>LTC</th>\n",
       "      <td>-0.224362</td>\n",
       "      <td>0.127226</td>\n",
       "      <td>-0.044901</td>\n",
       "      <td>-0.044901</td>\n",
       "      <td>-0.063564</td>\n",
       "      <td>-0.077929</td>\n",
       "      <td>-0.044901</td>\n",
       "      <td>-0.044901</td>\n",
       "      <td>-0.063564</td>\n",
       "      <td>-0.044901</td>\n",
       "      <td>...</td>\n",
       "      <td>-0.695401</td>\n",
       "      <td>-0.044901</td>\n",
       "      <td>-0.044901</td>\n",
       "      <td>-0.044901</td>\n",
       "      <td>-0.044901</td>\n",
       "      <td>-0.044901</td>\n",
       "      <td>-0.044901</td>\n",
       "      <td>-0.044901</td>\n",
       "      <td>-0.044901</td>\n",
       "      <td>-0.044901</td>\n",
       "    </tr>\n",
       "  </tbody>\n",
       "</table>\n",
       "<p>5 rows × 95 columns</p>\n",
       "</div>"
      ],
      "text/plain": [
       "             0         1         2         3         4         5         6   \\\n",
       "Index                                                                         \n",
       "42    -4.987300 -4.691314 -0.044901 -0.044901 -0.063564 -0.077929 -0.044901   \n",
       "404    0.381590  1.081920 -0.044901 -0.044901 -0.063564 -0.077929 -0.044901   \n",
       "1337   2.476364  2.207871 -0.044901 -0.044901 -0.063564 -0.077929 -0.044901   \n",
       "BTC   -0.679458 -0.298818 -0.044901 -0.044901 -0.063564 -0.077929 -0.044901   \n",
       "LTC   -0.224362  0.127226 -0.044901 -0.044901 -0.063564 -0.077929 -0.044901   \n",
       "\n",
       "             7         8         9   ...        85        86        87  \\\n",
       "Index                                ...                                 \n",
       "42    -0.044901 -0.063564 -0.044901  ...  1.438020 -0.044901 -0.044901   \n",
       "404   -0.044901 -0.063564 -0.044901  ...  1.438020 -0.044901 -0.044901   \n",
       "1337  -0.044901 -0.063564 -0.044901  ...  1.438020 -0.044901 -0.044901   \n",
       "BTC   -0.044901 -0.063564 -0.044901  ... -0.695401 -0.044901 -0.044901   \n",
       "LTC   -0.044901 -0.063564 -0.044901  ... -0.695401 -0.044901 -0.044901   \n",
       "\n",
       "             88        89        90        91        92        93        94  \n",
       "Index                                                                        \n",
       "42    -0.044901 -0.044901 -0.044901 -0.044901 -0.044901 -0.044901 -0.044901  \n",
       "404   -0.044901 -0.044901 -0.044901 -0.044901 -0.044901 -0.044901 -0.044901  \n",
       "1337  -0.044901 -0.044901 -0.044901 -0.044901 -0.044901 -0.044901 -0.044901  \n",
       "BTC   -0.044901 -0.044901 -0.044901 -0.044901 -0.044901 -0.044901 -0.044901  \n",
       "LTC   -0.044901 -0.044901 -0.044901 -0.044901 -0.044901 -0.044901 -0.044901  \n",
       "\n",
       "[5 rows x 95 columns]"
      ]
     },
     "execution_count": 401,
     "metadata": {},
     "output_type": "execute_result"
    }
   ],
   "source": [
    "X_df_scaled.head()"
   ]
  },
  {
   "cell_type": "code",
   "execution_count": 402,
   "metadata": {},
   "outputs": [
    {
     "name": "stdout",
     "output_type": "stream",
     "text": [
      "[0.02408029 0.02220473 0.0211228 ]\n"
     ]
    }
   ],
   "source": [
    "# Reduce the number of components in X to 3 using PCA\n",
    "pca = PCA(n_components=3)\n",
    "pca.fit(X_scaled)\n",
    "print(pca.explained_variance_ratio_)\n",
    "\n",
    "X_pca = pca.transform(X_scaled)"
   ]
  },
  {
   "cell_type": "code",
   "execution_count": 403,
   "metadata": {},
   "outputs": [
    {
     "data": {
      "text/html": [
       "<div>\n",
       "<style scoped>\n",
       "    .dataframe tbody tr th:only-of-type {\n",
       "        vertical-align: middle;\n",
       "    }\n",
       "\n",
       "    .dataframe tbody tr th {\n",
       "        vertical-align: top;\n",
       "    }\n",
       "\n",
       "    .dataframe thead th {\n",
       "        text-align: right;\n",
       "    }\n",
       "</style>\n",
       "<table border=\"1\" class=\"dataframe\">\n",
       "  <thead>\n",
       "    <tr style=\"text-align: right;\">\n",
       "      <th></th>\n",
       "      <th>PC1</th>\n",
       "      <th>PC2</th>\n",
       "      <th>PC3</th>\n",
       "    </tr>\n",
       "    <tr>\n",
       "      <th>Index</th>\n",
       "      <th></th>\n",
       "      <th></th>\n",
       "      <th></th>\n",
       "    </tr>\n",
       "  </thead>\n",
       "  <tbody>\n",
       "    <tr>\n",
       "      <th>42</th>\n",
       "      <td>-4.891621</td>\n",
       "      <td>1.028323</td>\n",
       "      <td>-0.286224</td>\n",
       "    </tr>\n",
       "    <tr>\n",
       "      <th>404</th>\n",
       "      <td>0.263380</td>\n",
       "      <td>0.950531</td>\n",
       "      <td>-0.387081</td>\n",
       "    </tr>\n",
       "    <tr>\n",
       "      <th>1337</th>\n",
       "      <td>1.660346</td>\n",
       "      <td>1.739557</td>\n",
       "      <td>-0.478061</td>\n",
       "    </tr>\n",
       "    <tr>\n",
       "      <th>BTC</th>\n",
       "      <td>-0.407915</td>\n",
       "      <td>-1.239397</td>\n",
       "      <td>0.150701</td>\n",
       "    </tr>\n",
       "    <tr>\n",
       "      <th>LTC</th>\n",
       "      <td>-0.004093</td>\n",
       "      <td>-1.154705</td>\n",
       "      <td>0.017206</td>\n",
       "    </tr>\n",
       "  </tbody>\n",
       "</table>\n",
       "</div>"
      ],
      "text/plain": [
       "            PC1       PC2       PC3\n",
       "Index                              \n",
       "42    -4.891621  1.028323 -0.286224\n",
       "404    0.263380  0.950531 -0.387081\n",
       "1337   1.660346  1.739557 -0.478061\n",
       "BTC   -0.407915 -1.239397  0.150701\n",
       "LTC   -0.004093 -1.154705  0.017206"
      ]
     },
     "execution_count": 403,
     "metadata": {},
     "output_type": "execute_result"
    }
   ],
   "source": [
    "pcs_df = pd.DataFrame(X_pca)\n",
    "pcs_df.rename(columns={0:'PC1',1:'PC2',2:'PC3'}, inplace=True)\n",
    "pcs_df.index = X.index\n",
    "pcs_df.head()"
   ]
  },
  {
   "cell_type": "code",
   "execution_count": 404,
   "metadata": {
    "scrolled": true
   },
   "outputs": [
    {
     "data": {
      "image/png": "[encoded data removed]",
      "text/plain": [
       "<Figure size 432x288 with 1 Axes>"
      ]
     },
     "metadata": {
      "needs_background": "light"
     },
     "output_type": "display_data"
    }
   ],
   "source": [
    "#Clustering Cryptocurrencies Using K-means\n",
    "from matplotlib import pyplot as plt\n",
    "\n",
    "sse = {}\n",
    "K = range(1, 10)\n",
    "for k in K:\n",
    "    kmeanmodel = KMeans(n_clusters=k).fit(X_pca)\n",
    "    sse[k]= kmeanmodel.inertia_\n",
    "    \n",
    "# Plot\n",
    "plt.plot(list(sse.keys()), list(sse.values()))\n",
    "plt.xlabel('k')\n",
    "plt.ylabel('SSE')\n",
    "plt.title('Elbow Method')\n",
    "plt.show()"
   ]
  },
  {
   "cell_type": "code",
   "execution_count": 405,
   "metadata": {},
   "outputs": [],
   "source": [
    "# Create a KMeans model with 5 clusters\n",
    "model = KMeans(n_clusters=5, random_state=42).fit(pcs_df)"
   ]
  },
  {
   "cell_type": "code",
   "execution_count": 406,
   "metadata": {},
   "outputs": [],
   "source": [
    "# Calculate predicted values.\n",
    "y_pred = model.predict(pcs_df)"
   ]
  },
  {
   "cell_type": "code",
   "execution_count": 407,
   "metadata": {},
   "outputs": [],
   "source": [
    "# Add predicted values to df_pca and replot the scatter plot of the PCA components, coloring by predicted cluster\n",
    "pcs_df[\"class\"] = y_pred"
   ]
  },
  {
   "cell_type": "code",
   "execution_count": 408,
   "metadata": {},
   "outputs": [],
   "source": [
    "crypto_df_clean.shape\n",
    "pcs_df.shape\n",
    "clustered_df = pd.concat([crypto_df_clean, pcs_df.drop('class', 1), coins_name], axis=1)"
   ]
  },
  {
   "cell_type": "code",
   "execution_count": 409,
   "metadata": {
    "scrolled": false
   },
   "outputs": [
    {
     "data": {
      "text/html": [
       "<div>\n",
       "<style scoped>\n",
       "    .dataframe tbody tr th:only-of-type {\n",
       "        vertical-align: middle;\n",
       "    }\n",
       "\n",
       "    .dataframe tbody tr th {\n",
       "        vertical-align: top;\n",
       "    }\n",
       "\n",
       "    .dataframe thead th {\n",
       "        text-align: right;\n",
       "    }\n",
       "</style>\n",
       "<table border=\"1\" class=\"dataframe\">\n",
       "  <thead>\n",
       "    <tr style=\"text-align: right;\">\n",
       "      <th></th>\n",
       "      <th>Algorithm</th>\n",
       "      <th>ProofType</th>\n",
       "      <th>TotalCoinSupply_log</th>\n",
       "      <th>TotalCoinsMined_log</th>\n",
       "      <th>PC1</th>\n",
       "      <th>PC2</th>\n",
       "      <th>PC3</th>\n",
       "      <th>CoinName</th>\n",
       "      <th>Class</th>\n",
       "    </tr>\n",
       "    <tr>\n",
       "      <th>Index</th>\n",
       "      <th></th>\n",
       "      <th></th>\n",
       "      <th></th>\n",
       "      <th></th>\n",
       "      <th></th>\n",
       "      <th></th>\n",
       "      <th></th>\n",
       "      <th></th>\n",
       "      <th></th>\n",
       "    </tr>\n",
       "  </thead>\n",
       "  <tbody>\n",
       "    <tr>\n",
       "      <th>42</th>\n",
       "      <td>Scrypt</td>\n",
       "      <td>PoW/PoS</td>\n",
       "      <td>5.392317</td>\n",
       "      <td>5.392316</td>\n",
       "      <td>-4.891621</td>\n",
       "      <td>1.028323</td>\n",
       "      <td>-0.286224</td>\n",
       "      <td>42 Coin</td>\n",
       "      <td>1</td>\n",
       "    </tr>\n",
       "    <tr>\n",
       "      <th>404</th>\n",
       "      <td>Scrypt</td>\n",
       "      <td>PoW/PoS</td>\n",
       "      <td>28.986851</td>\n",
       "      <td>29.974849</td>\n",
       "      <td>0.263380</td>\n",
       "      <td>0.950531</td>\n",
       "      <td>-0.387081</td>\n",
       "      <td>404Coin</td>\n",
       "      <td>1</td>\n",
       "    </tr>\n",
       "    <tr>\n",
       "      <th>1337</th>\n",
       "      <td>X13</td>\n",
       "      <td>PoW/PoS</td>\n",
       "      <td>38.192705</td>\n",
       "      <td>34.769168</td>\n",
       "      <td>1.660346</td>\n",
       "      <td>1.739557</td>\n",
       "      <td>-0.478061</td>\n",
       "      <td>EliteCoin</td>\n",
       "      <td>4</td>\n",
       "    </tr>\n",
       "    <tr>\n",
       "      <th>BTC</th>\n",
       "      <td>SHA-256</td>\n",
       "      <td>PoW</td>\n",
       "      <td>24.323886</td>\n",
       "      <td>24.095645</td>\n",
       "      <td>-0.407915</td>\n",
       "      <td>-1.239397</td>\n",
       "      <td>0.150701</td>\n",
       "      <td>Bitcoin</td>\n",
       "      <td>0</td>\n",
       "    </tr>\n",
       "    <tr>\n",
       "      <th>LTC</th>\n",
       "      <td>Scrypt</td>\n",
       "      <td>PoW</td>\n",
       "      <td>26.323886</td>\n",
       "      <td>25.909747</td>\n",
       "      <td>-0.004093</td>\n",
       "      <td>-1.154705</td>\n",
       "      <td>0.017206</td>\n",
       "      <td>Litecoin</td>\n",
       "      <td>0</td>\n",
       "    </tr>\n",
       "  </tbody>\n",
       "</table>\n",
       "</div>"
      ],
      "text/plain": [
       "      Algorithm ProofType  TotalCoinSupply_log  TotalCoinsMined_log       PC1  \\\n",
       "Index                                                                           \n",
       "42       Scrypt   PoW/PoS             5.392317             5.392316 -4.891621   \n",
       "404      Scrypt   PoW/PoS            28.986851            29.974849  0.263380   \n",
       "1337        X13   PoW/PoS            38.192705            34.769168  1.660346   \n",
       "BTC     SHA-256       PoW            24.323886            24.095645 -0.407915   \n",
       "LTC      Scrypt       PoW            26.323886            25.909747 -0.004093   \n",
       "\n",
       "            PC2       PC3   CoinName  Class  \n",
       "Index                                        \n",
       "42     1.028323 -0.286224    42 Coin      1  \n",
       "404    0.950531 -0.387081    404Coin      1  \n",
       "1337   1.739557 -0.478061  EliteCoin      4  \n",
       "BTC   -1.239397  0.150701    Bitcoin      0  \n",
       "LTC   -1.154705  0.017206   Litecoin      0  "
      ]
     },
     "execution_count": 409,
     "metadata": {},
     "output_type": "execute_result"
    }
   ],
   "source": [
    "clustered_df[\"Class\"] = y_pred\n",
    "clustered_df.head()"
   ]
  },
  {
   "cell_type": "code",
   "execution_count": null,
   "metadata": {},
   "outputs": [],
   "source": []
  },
  {
   "cell_type": "code",
   "execution_count": 410,
   "metadata": {},
   "outputs": [
    {
     "data": {
      "application/vnd.plotly.v1+json": {
       "config": {
        "plotlyServerURL": "https://plot.ly"
       },
       "data": [
        {
         "customdata": [
          [
           "Scrypt"
          ],
          [
           "Scrypt"
          ],
          [
           "X11"
          ],
          [
           "SHA-256"
          ],
          [
           "SHA-256"
          ],
          [
           "X15"
          ],
          [
           "Scrypt"
          ],
          [
           "Scrypt"
          ],
          [
           "Scrypt"
          ],
          [
           "Groestl"
          ],
          [
           "Scrypt"
          ],
          [
           "X11"
          ],
          [
           "SHA3"
          ],
          [
           "SHA-256"
          ],
          [
           "Scrypt"
          ],
          [
           "NeoScrypt"
          ],
          [
           "Scrypt"
          ],
          [
           "Scrypt"
          ],
          [
           "X11"
          ],
          [
           "X11"
          ],
          [
           "Scrypt"
          ],
          [
           "Scrypt"
          ],
          [
           "X11"
          ],
          [
           "Scrypt"
          ],
          [
           "Counterparty"
          ],
          [
           "SHA-256"
          ],
          [
           "X13"
          ],
          [
           "Scrypt"
          ],
          [
           "X13"
          ],
          [
           "X11"
          ],
          [
           "Scrypt"
          ],
          [
           "SHA3"
          ],
          [
           "QUAIT"
          ],
          [
           "Scrypt"
          ],
          [
           "X13"
          ],
          [
           "SHA-256"
          ],
          [
           "X15"
          ],
          [
           "BLAKE256"
          ],
          [
           "SHA-256"
          ],
          [
           "SHA-256"
          ],
          [
           "Scrypt"
          ],
          [
           "Scrypt"
          ],
          [
           "X11"
          ],
          [
           "SHA-256"
          ],
          [
           "PoS"
          ],
          [
           "X11"
          ],
          [
           "SHA-256"
          ],
          [
           "SHA-256"
          ],
          [
           "NIST5"
          ],
          [
           "X11"
          ],
          [
           "POS 3.0"
          ],
          [
           "Scrypt"
          ],
          [
           "Scrypt"
          ],
          [
           "Scrypt"
          ],
          [
           "X13"
          ],
          [
           "X11"
          ],
          [
           "X11"
          ],
          [
           "Scrypt"
          ],
          [
           "SHA-256"
          ],
          [
           "X11"
          ],
          [
           "Scrypt"
          ],
          [
           "PoS"
          ],
          [
           "X11"
          ],
          [
           "PoS"
          ],
          [
           "X13"
          ],
          [
           "X14"
          ],
          [
           "PoS"
          ],
          [
           "X11"
          ],
          [
           "PoS"
          ],
          [
           "Scrypt"
          ],
          [
           "Scrypt"
          ],
          [
           "PoS"
          ],
          [
           "X11"
          ],
          [
           "SHA-256"
          ],
          [
           "Scrypt"
          ],
          [
           "X11"
          ],
          [
           "Scrypt"
          ],
          [
           "Scrypt"
          ],
          [
           "X11"
          ],
          [
           "Scrypt"
          ],
          [
           "Scrypt"
          ],
          [
           "Scrypt"
          ],
          [
           "Quark"
          ],
          [
           "QuBit"
          ],
          [
           "Scrypt"
          ],
          [
           "SHA-256"
          ],
          [
           "X11"
          ],
          [
           "Scrypt"
          ],
          [
           "Scrypt"
          ],
          [
           "Scrypt"
          ],
          [
           "Scrypt"
          ],
          [
           "X13"
          ],
          [
           "Scrypt"
          ],
          [
           "Scrypt"
          ],
          [
           "X11"
          ],
          [
           "Blake2S"
          ],
          [
           "X11"
          ],
          [
           "PoS"
          ],
          [
           "X11"
          ],
          [
           "PoS"
          ],
          [
           "X11"
          ],
          [
           "Scrypt"
          ],
          [
           "Scrypt"
          ],
          [
           "Scrypt"
          ],
          [
           "X11"
          ],
          [
           "Scrypt"
          ],
          [
           "PoS"
          ],
          [
           "Scrypt"
          ],
          [
           "SHA-256"
          ],
          [
           "POS 3.0"
          ],
          [
           "NIST5"
          ],
          [
           "NIST5"
          ],
          [
           "Skein"
          ],
          [
           "X13"
          ],
          [
           "SkunkHash v2 Raptor"
          ],
          [
           "Skein"
          ],
          [
           "X11"
          ],
          [
           "PoS"
          ],
          [
           "Scrypt"
          ],
          [
           "Scrypt"
          ],
          [
           "SHA-512"
          ],
          [
           "X11"
          ],
          [
           "NeoScrypt"
          ],
          [
           "Scrypt"
          ],
          [
           "Lyra2REv2"
          ],
          [
           "SHA-256"
          ],
          [
           "NIST5"
          ],
          [
           "PHI1612"
          ],
          [
           "Scrypt"
          ],
          [
           "Quark"
          ],
          [
           "POS 2.0"
          ],
          [
           "Scrypt"
          ],
          [
           "X11"
          ],
          [
           "X13"
          ],
          [
           "Scrypt"
          ],
          [
           "NIST5"
          ],
          [
           "Quark"
          ],
          [
           "Scrypt"
          ],
          [
           "X11"
          ],
          [
           "Quark"
          ],
          [
           "Scrypt"
          ],
          [
           "Scrypt"
          ],
          [
           "X11"
          ],
          [
           "POS 3.0"
          ],
          [
           "Ethash"
          ],
          [
           "Scrypt"
          ],
          [
           "Scrypt"
          ],
          [
           "X13"
          ],
          [
           "C11"
          ],
          [
           "X11"
          ],
          [
           "XEVAN"
          ],
          [
           "Scrypt"
          ],
          [
           "NIST5"
          ],
          [
           "Scrypt"
          ],
          [
           "Scrypt"
          ],
          [
           "Scrypt"
          ],
          [
           "Green Protocol"
          ],
          [
           "PoS"
          ],
          [
           "Scrypt"
          ],
          [
           "Quark"
          ],
          [
           "PoS"
          ],
          [
           "X16R"
          ],
          [
           "Scrypt"
          ],
          [
           "XEVAN"
          ],
          [
           "Scrypt"
          ],
          [
           "Scrypt"
          ],
          [
           "SHA-256D"
          ],
          [
           "Scrypt"
          ],
          [
           "X15"
          ],
          [
           "Quark"
          ],
          [
           "SHA-256"
          ],
          [
           "DPoS"
          ],
          [
           "X16R"
          ],
          [
           "Quark"
          ],
          [
           "Quark"
          ],
          [
           "Scrypt"
          ],
          [
           "Lyra2REv2"
          ],
          [
           "Quark"
          ],
          [
           "Scrypt"
          ],
          [
           "X11"
          ],
          [
           "X11"
          ],
          [
           "Scrypt"
          ],
          [
           "PoS"
          ],
          [
           "Keccak"
          ],
          [
           "X11"
          ],
          [
           "XEVAN"
          ],
          [
           "Quark"
          ],
          [
           "Equihash"
          ],
          [
           "Scrypt"
          ],
          [
           "Quark"
          ],
          [
           "Quark"
          ],
          [
           "X11"
          ],
          [
           "Scrypt"
          ],
          [
           "XEVAN"
          ],
          [
           "X11"
          ],
          [
           "X13"
          ],
          [
           "X11"
          ],
          [
           "Scrypt"
          ],
          [
           "Scrypt"
          ],
          [
           "SHA-256"
          ],
          [
           "X11"
          ],
          [
           "Scrypt"
          ],
          [
           "SHA-256"
          ],
          [
           "X11"
          ],
          [
           "Scrypt"
          ],
          [
           "Scrypt"
          ],
          [
           "X11"
          ],
          [
           "Scrypt"
          ],
          [
           "PoS"
          ],
          [
           "X11"
          ],
          [
           "SHA-256"
          ],
          [
           "Scrypt"
          ],
          [
           "NeoScrypt"
          ],
          [
           "X13"
          ],
          [
           "SHA-256"
          ],
          [
           "PoS"
          ],
          [
           "Scrypt"
          ],
          [
           "Scrypt"
          ]
         ],
         "hovertemplate": "<b>%{hovertext}</b><br><br>Class=%{marker.color}<br>PC1=%{x}<br>PC2=%{y}<br>PC3=%{z}<br>Algorithm=%{customdata[0]}<extra></extra>",
         "hovertext": [
          "42 Coin",
          "404Coin",
          "Dash",
          "BitcoinDark",
          "PayCoin",
          "KoboCoin",
          "Aurora Coin",
          "BitBar",
          "CryptoBullion",
          "Diamond",
          "HoboNickels",
          "IOCoin",
          "MaxCoin",
          "MazaCoin",
          "Nautilus Coin",
          "Orbitcoin",
          "PotCoin",
          "PhoenixCoin",
          "SyncCoin",
          "TorCoin",
          "UnitaryStatus Dollar",
          "UltraCoin",
          "X11 Coin",
          "ZCC Coin",
          "StorjCoin",
          "Neutron",
          "Kore",
          "Dnotes",
          "Sativa Coin",
          "Ucoin",
          "Vtorrent",
          "Nexus",
          "Droidz",
          "Diggits",
          "Paycon",
          "Emercoin",
          "EverGreenCoin",
          "Decred",
          "EDRCoin",
          "DubaiCoin",
          "BillaryCoin",
          "GPU Coin",
          "EuropeCoin",
          "SwingCoin",
          "Nebuchadnezzar",
          "Ratecoin",
          "Revenu",
          "Clockcoin",
          "VIP Tokens",
          "BitSend",
          "Let it Ride",
          "PutinCoin",
          "iBankCoin",
          "Frankywillcoin",
          "MudraCoin",
          "Lutetium Coin",
          "GoldBlocks",
          "CarterCoin",
          "BitTokens",
          "MustangCoin",
          "ZoneCoin",
          "Opair",
          "Halloween Coin",
          "CoffeeCoin",
          "RoyalCoin",
          "GanjaCoin V2",
          "TeamUP",
          "InsaneCoin",
          "FreeCoin",
          "PLNCoin",
          "AquariusCoin",
          "Creatio",
          "Eternity",
          "Eurocoin",
          "BitcoinFast",
          "Stakenet",
          "BitConnect Coin",
          "MoneyCoin",
          "Enigma",
          "Russiacoin",
          "GameUnits",
          "GAKHcoin",
          "Allsafe",
          "LiteCreed",
          "Klingon Empire Darsek",
          "Internet of People",
          "KushCoin",
          "Printerium",
          "Impeach",
          "Zilbercoin",
          "FirstCoin",
          "FindCoin",
          "OpenChat",
          "RenosCoin",
          "VirtacoinPlus",
          "TajCoin",
          "Impact",
          "Atmos",
          "HappyCoin",
          "MacronCoin",
          "Condensate",
          "Independent Money System",
          "ArgusCoin",
          "LomoCoin",
          "GoldReserve",
          "GrowthCoin",
          "Phreak",
          "Degas Coin",
          "Ultimate Secure Cash",
          "QTUM",
          "Denarius",
          "Virta Unique Coin",
          "Bitcoin Planet",
          "BritCoin",
          "Signatum",
          "Cream",
          "Monoeci",
          "Stakecoin",
          "CoinonatX",
          "Ethereum Dark",
          "Obsidian",
          "Regalcoin",
          "TrezarCoin",
          "TerraNovaCoin",
          "Rupee",
          "Theresa May Coin",
          "NamoCoin",
          "LUXCoin",
          "Xios",
          "Bitcloud 2.0",
          "KekCoin",
          "BlackholeCoin",
          "Magnet",
          "Bitcoin Diamond",
          "Cash & Back Coin",
          "Bulwark",
          "Kalkulus",
          "LiteCoin Ultra",
          "PhantomX",
          "Digiwage",
          "Trollcoin",
          "Litecoin Plus",
          "Monkey Project",
          "TokenPay",
          "1717 Masonic Commemorative Token",
          "My Big Coin",
          "Unified Society USDEX",
          "Tokyo Coin",
          "Stipend",
          "Pushi",
          "Ellerium",
          "Velox",
          "Bitspace",
          "Briacoin",
          "Ignition",
          "MedicCoin",
          "Bitcoin Green",
          "Deviant Coin",
          "Abjcoin",
          "Carebit",
          "Zealium",
          "Proton",
          "iDealCash",
          "Bitcoin Incognito",
          "HollyWoodCoin",
          "Xt3ch",
          "TheVig",
          "EmaratCoin",
          "Dekado",
          "Poseidon Quark",
          "BitcoinWSpectrum",
          "Muse",
          "Trivechain",
          "Dystem",
          "Giant",
          "Peony Coin",
          "Absolute Coin",
          "Vitae",
          "TPCash",
          "ARENON",
          "EUNO",
          "MMOCoin",
          "Ketan",
          "XDNA",
          "PAXEX",
          "Bettex coin",
          "HerbCoin",
          "PirateCash",
          "Oduwa",
          "Galilel",
          "Crypto Sports",
          "Dash Platinum",
          "Nasdacoin",
          "Beetle Coin",
          "Award",
          "Bitcoin Rhodium",
          "Insane Coin",
          "OrangeCoin",
          "BitstarCoin",
          "NeosCoin",
          "PinkCoin",
          "AudioCoin",
          "IncaKoin",
          "Piggy Coin",
          "Genstake",
          "XiaoMiCoin",
          "CapriCoin",
          " ClubCoin",
          "Radium",
          "Creditbit ",
          "OKCash",
          "WhiteCoin",
          "FriendshipCoin",
          "Triangles Coin",
          "TigerCash",
          "Particl",
          "Gapcoin",
          "BitcoinPlus"
         ],
         "legendgroup": "1",
         "marker": {
          "color": [
           1,
           1,
           1,
           1,
           1,
           1,
           1,
           1,
           1,
           1,
           1,
           1,
           1,
           1,
           1,
           1,
           1,
           1,
           1,
           1,
           1,
           1,
           1,
           1,
           1,
           1,
           1,
           1,
           1,
           1,
           1,
           1,
           1,
           1,
           1,
           1,
           1,
           1,
           1,
           1,
           1,
           1,
           1,
           1,
           1,
           1,
           1,
           1,
           1,
           1,
           1,
           1,
           1,
           1,
           1,
           1,
           1,
           1,
           1,
           1,
           1,
           1,
           1,
           1,
           1,
           1,
           1,
           1,
           1,
           1,
           1,
           1,
           1,
           1,
           1,
           1,
           1,
           1,
           1,
           1,
           1,
           1,
           1,
           1,
           1,
           1,
           1,
           1,
           1,
           1,
           1,
           1,
           1,
           1,
           1,
           1,
           1,
           1,
           1,
           1,
           1,
           1,
           1,
           1,
           1,
           1,
           1,
           1,
           1,
           1,
           1,
           1,
           1,
           1,
           1,
           1,
           1,
           1,
           1,
           1,
           1,
           1,
           1,
           1,
           1,
           1,
           1,
           1,
           1,
           1,
           1,
           1,
           1,
           1,
           1,
           1,
           1,
           1,
           1,
           1,
           1,
           1,
           1,
           1,
           1,
           1,
           1,
           1,
           1,
           1,
           1,
           1,
           1,
           1,
           1,
           1,
           1,
           1,
           1,
           1,
           1,
           1,
           1,
           1,
           1,
           1,
           1,
           1,
           1,
           1,
           1,
           1,
           1,
           1,
           1,
           1,
           1,
           1,
           1,
           1,
           1,
           1,
           1,
           1,
           1,
           1,
           1,
           1,
           1,
           1,
           1,
           1,
           1,
           1,
           1,
           1,
           1,
           1,
           1,
           1,
           1,
           1,
           1,
           1,
           1,
           1,
           1,
           1,
           1,
           1,
           1,
           1,
           1,
           1,
           1,
           1,
           1,
           1
          ],
          "coloraxis": "coloraxis",
          "symbol": "circle"
         },
         "mode": "markers",
         "name": "1",
         "scene": "scene",
         "showlegend": true,
         "type": "scatter3d",
         "x": [
          -4.8916213874462455,
          0.2633804366837788,
          -1.254015493070605,
          -1.283379421191628,
          -0.7002676817603871,
          -0.2383552218964696,
          -0.900675202809912,
          -2.3934673989557145,
          -1.7768201615215589,
          -1.5832567775558355,
          -0.3538870187751907,
          -1.146109379787607,
          -0.5688096755734646,
          0.5581374751120003,
          -0.6170799647856763,
          -1.463899762189078,
          -0.021995126077143514,
          -0.4140377775226861,
          -4.168638511125286,
          -1.6668339715016345,
          0.4322616895276307,
          -0.47334615727018814,
          -1.5005595794161308,
          0.04010597726598039,
          0.27752595123052537,
          -0.567422263131961,
          -1.3821525284841243,
          0.2718176356935553,
          -1.2068837088240791,
          -1.1558801652468849,
          -0.9465850497910142,
          -0.3868670513632746,
          -1.9862429892262023,
          -0.055250647512434525,
          -0.7799588614348574,
          -0.1556508304522596,
          -0.7222858981352754,
          -0.3971188052855588,
          -1.1148840921801086,
          -1.1700183296477717,
          -0.8781565122245244,
          -0.08394806304503691,
          -0.809590912696709,
          -0.9983595968695231,
          -0.622642219986251,
          -0.6382099315335554,
          -0.9542014636392484,
          -0.4035331282366946,
          -0.4808125360923023,
          -0.8222732138465804,
          -0.46982174714773406,
          0.4166458304262944,
          -0.9808424294474161,
          -0.36248315811792253,
          -0.5143875810163777,
          0.24432303684010193,
          -1.0453362590454527,
          -0.5133038265266656,
          -1.4145918855853699,
          -1.9696290567570032,
          -1.1814001372580718,
          -0.21899886314479483,
          -0.08760625137218661,
          -0.1973723734629172,
          -1.2720301491649864,
          -0.4994112559843555,
          -0.24150239212520158,
          -1.0941917390830773,
          -0.34000215486680685,
          -0.7875480240897692,
          -1.0876861899932997,
          -0.622642219986251,
          -1.1700970227472103,
          -0.9326502329599827,
          -0.7831503401507809,
          -0.6153464813946481,
          -0.9044196926761141,
          -0.4430743457024546,
          -1.8598362888789424,
          -0.7080147370275705,
          -1.2043635726305462,
          -1.4132481217747672,
          -0.9704683221224052,
          -0.7665549513553119,
          -0.3552485098533181,
          -1.1818781645262335,
          -1.4553740141517852,
          -0.9436015955454016,
          -1.5172827731438316,
          -0.7122651262417915,
          0.08763507805431145,
          0.6285876151940376,
          0.34777481785850756,
          -0.3767544921407189,
          -0.9701288046814427,
          -1.3641286677762599,
          -0.6132721069058462,
          -0.09475125413331317,
          -0.8909569683391942,
          0.30199592409326836,
          -0.37473436729614956,
          -1.0620307800493778,
          -1.2663374459147294,
          -0.8762123441283783,
          -1.062406054407856,
          0.5606870479138754,
          -0.6535219393478077,
          -0.6038761745163521,
          -0.3153092363301129,
          -0.15525782127274296,
          -1.2871999686907711,
          -0.48381680132345645,
          -1.1493651864512036,
          -0.8681741206222349,
          0.15280329505608867,
          -0.8370248800083608,
          -1.324476087055081,
          -0.7159654391811888,
          -0.7328408420245828,
          -1.340331330544022,
          0.5536617631747535,
          -1.2589253282576023,
          -0.1259959742750448,
          -1.3555126655271474,
          -0.4606146685078891,
          -0.3727752704087826,
          0.2077843622589951,
          -0.6859083467013617,
          -1.2109059910211337,
          -0.7232623130554857,
          -0.9618857005117777,
          0.0826396849186063,
          -0.7448051474199964,
          -0.23423543546152978,
          -0.23632797556718413,
          -0.6435954728066801,
          -0.8511561915049174,
          -0.7012001122554152,
          -0.873744930577614,
          -0.5103041919724594,
          0.24755483213340534,
          -1.4307780281650377,
          -1.0691727629314283,
          -0.6152584797060329,
          -1.2272808837769262,
          -0.9580609617774415,
          -0.1009288215332943,
          0.3067350726863184,
          -1.3659857809731364,
          -1.4649567453813856,
          -1.3130878485715407,
          -0.24314405424196545,
          -0.8574015683218204,
          -1.648030730197959,
          -1.5187741002483486,
          0.3403529733508546,
          -1.0276015943175922,
          -0.38976821093069614,
          -0.9127093764081388,
          -0.47927626345169455,
          -0.5134346821630628,
          -0.9307599937029786,
          0.643266044823984,
          -0.99792030253411,
          -0.40669287193495307,
          -0.5906353685912961,
          -0.008752670184586612,
          -0.63497041945256,
          -0.10392926442655709,
          -0.6328250513503683,
          -0.14006250396237438,
          0.6955709058842857,
          -0.8061338875239081,
          -0.9845432512214712,
          -1.5278457155320788,
          -0.03407970514020444,
          -0.7471065155694266,
          -0.394896697909597,
          -0.4929163445078014,
          -0.689660402888992,
          -0.9355730430185275,
          0.0976604448433402,
          -0.39881645100421614,
          -0.3196669580994216,
          -0.8355679853568191,
          -0.5843746135696722,
          -0.8938180895419707,
          -0.2294431975130526,
          -0.9004710401933761,
          -1.153694320616175,
          -1.260073239985824,
          -1.3713180584680664,
          -0.6430173020129637,
          -0.008185168283208501,
          -0.7330656081437872,
          -1.2688149054477165,
          -1.052414100208129,
          -0.7984369628617904,
          -0.7072238181266519,
          -0.785566810272523,
          -0.16906808445265845,
          0.6913034678318329,
          0.5708821564510208,
          -0.04681821254471186,
          -0.7244334078596604,
          0.06686316838233686,
          -0.42290578988767097,
          -0.2874616170905069,
          -1.0068984008879898,
          -1.446910310335955,
          -0.39926696371722686,
          -0.05167686925754322,
          -1.225544126310173,
          -2.490221606563638,
          0.6580534154424785,
          -0.8700812201444857,
          -0.5336337006362015,
          -1.8063928846913702
         ],
         "y": [
          1.0283228872333272,
          0.9505309061823226,
          1.2152869556374495,
          0.8776712615744323,
          0.7935033586042017,
          1.8792490721943924,
          0.9673978286953397,
          0.9862980726482986,
          0.9807376518418371,
          0.6390317274530876,
          0.958454862540279,
          1.2146735575124472,
          2.0179425954689925,
          0.853267963631537,
          0.8833624266491689,
          0.5594441050541911,
          0.9528539890389733,
          0.9593972406698257,
          1.2614999183566562,
          1.219971278345194,
          0.9463062830792737,
          0.9596744849742161,
          1.2207985614086738,
          0.9499289893339042,
          1.7265833227573624,
          0.8702556686417071,
          1.7870125434923048,
          0.8681376419676563,
          1.7865567689406787,
          1.1324824513124083,
          0.9671363299670501,
          2.273396446588632,
          1.9235011668417492,
          0.8747685722425351,
          1.7793581986371159,
          0.8599447627814159,
          1.8896742605068,
          0.9381543301335282,
          0.8767134407824231,
          0.8792198340850912,
          0.9645476339172068,
          0.8725799185483343,
          1.2042824018816387,
          0.8742785721799605,
          1.8101753863259873,
          1.208150185631736,
          0.8689367846796625,
          0.8632642653530572,
          1.4790315997694523,
          1.2073672516826792,
          1.7520637254591493,
          0.9457334719127269,
          0.9649710580243239,
          0.9590442782718969,
          1.691209205513741,
          1.114169913881673,
          1.2116666480884246,
          0.9602140014169801,
          0.8785550693614503,
          1.2252620954422087,
          0.9683264949735606,
          1.8040018831737368,
          1.1961384437223257,
          1.8057028681877205,
          1.7085078367106812,
          1.8976027648541085,
          1.7999700299632067,
          1.2134588754908275,
          1.8058520669575593,
          0.96428745937347,
          0.9657387166794844,
          1.8101753863259873,
          1.2118353068698706,
          0.8759601000570695,
          0.9647225681818457,
          0.7300197592071073,
          0.9658990592580031,
          0.9539498394205412,
          1.2231234667380924,
          0.9599273701545519,
          0.9698788794990306,
          0.9751169908122201,
          1.672443460765038,
          0.9443856263412691,
          0.9542314595573085,
          0.8772321956537701,
          1.218967216517827,
          0.9671193703603641,
          0.9701069124815552,
          0.8802758853277513,
          0.25380175963312857,
          1.665180013884823,
          0.9481800292036637,
          0.8797577010785189,
          1.209184070952099,
          1.9084949548421237,
          1.2068729223097323,
          1.8021124843258174,
          1.2087340143752487,
          1.7960374253185725,
          1.201027826171349,
          0.967618136017312,
          0.9678935395407054,
          0.955137850288563,
          1.212425262621922,
          0.8623854355970608,
          1.8091487928833678,
          0.9602718358704501,
          0.7830935684061269,
          1.7470331698281716,
          1.4901299270070445,
          1.4781957522485167,
          1.9049662246831671,
          1.7813741688284712,
          1.7346330073371319,
          1.9031907093531664,
          1.21817493352288,
          1.80737067564035,
          0.9633101580790702,
          0.9740016408858808,
          1.7996334555889049,
          1.2147076873849296,
          0.5380096455085751,
          0.970172311565864,
          0.8437067066937327,
          0.8680057676481163,
          1.467437558837306,
          1.8623673388915236,
          0.9684942225918041,
          1.74588775640682,
          1.7520281446311041,
          0.9417004704175249,
          1.2068221054338175,
          1.7720012377301582,
          0.9561274319929451,
          1.4009196728520799,
          1.6709122990900855,
          0.9597676022053421,
          1.210691227920405,
          1.6636624640222346,
          0.9490621100369476,
          0.9746604440521444,
          1.131844904372131,
          1.7537581810043767,
          0.1273672579272158,
          0.2675025862957748,
          0.9550623636950115,
          1.6824313768644932,
          0.956043629949249,
          1.216107059694091,
          1.5159965252542618,
          0.8751988960334336,
          1.4829150218364728,
          0.9767483541914804,
          0.97449908211289,
          0.8677480491416674,
          1.752428036707931,
          1.8044589113637972,
          0.9657416309993148,
          1.7445008045391237,
          1.8054444775773404,
          0.8465820837424332,
          0.9416571555173082,
          1.317469567134546,
          0.8807601948047488,
          0.8802460547660789,
          1.8955107258918722,
          0.9611101731444951,
          1.7999822853824679,
          1.6593499353106798,
          0.7841459093954375,
          1.8471676313720242,
          0.9266041099754607,
          1.6715258909984465,
          1.7613101039070496,
          0.8594425116860924,
          0.925543771120118,
          1.6635469744068774,
          0.9529589834909828,
          1.126832985763493,
          1.2110426931626403,
          0.8710664218850745,
          1.8019316333608155,
          0.929481271441001,
          1.1258899264714781,
          1.4298654398119397,
          1.7507392269309805,
          0.0702128348890254,
          0.9667295383586354,
          1.7553077829339006,
          1.6744307989332605,
          1.1337519288529623,
          0.9611559160827263,
          1.5022925367830133,
          1.203581705778769,
          -0.3206935567123034,
          1.2132213882477674,
          0.9594674249020125,
          0.9628168271331254,
          0.7924501161298139,
          1.199858705086044,
          0.9392558187507416,
          0.8607385151313636,
          1.197108712788157,
          0.9667264223970335,
          0.9524935233000792,
          1.2039020135496843,
          0.9572243383304144,
          1.8147271425439158,
          0.7437412248043722,
          0.8680117070766381,
          0.9540202959708282,
          0.5498764076806409,
          1.8069649205104596,
          0.7727899908368685,
          1.8140724392860252,
          0.9573005561051469,
          0.8983765333423493
         ],
         "z": [
          -0.2862239212553213,
          -0.3870806487896342,
          -0.33343861965748617,
          -0.24607721751623296,
          -0.057913257533177116,
          -0.4663744745982138,
          -0.3662240730058524,
          -0.34696446864875496,
          -0.34875805116974273,
          -0.19970482742042592,
          -0.37881863272378935,
          -0.33276624699717383,
          -0.4338977745539913,
          -0.27281938995205207,
          -0.18423245323337079,
          -0.19173662172884465,
          -0.386936776775419,
          -0.37754671650255184,
          -0.2702998602283804,
          -0.32959999659370814,
          -0.39498148336576955,
          -0.37808054016465803,
          -0.3237029245312581,
          -0.39360345006246467,
          -0.1485266341923615,
          -0.2507915540866697,
          -0.4143047847988648,
          -0.20658968472646,
          -0.41173021592468534,
          -0.1521181818330754,
          -0.36794302466209067,
          -0.3234882534192672,
          -0.44915925606856205,
          -0.1955413670602864,
          -0.42215631839223117,
          -0.27008385993798534,
          -0.4483433308223687,
          -0.2992433973652077,
          -0.24502730802388983,
          -0.2393566343146587,
          -0.3735493189313356,
          -0.202169926674808,
          -0.3539207249863765,
          -0.24916223488004202,
          -0.11361069279408527,
          -0.33957368666001425,
          -0.2628484509794797,
          -0.2663891819451932,
          -0.3856240493625052,
          -0.34573730157777177,
          -0.11242871837976665,
          -0.3968931632086139,
          -0.37462878358201585,
          -0.3773897428835557,
          -0.251839470845856,
          -0.17178638428882548,
          -0.3388136981051881,
          -0.37747283560764705,
          -0.24651656076499345,
          -0.32169725963650403,
          -0.3698028904203469,
          -0.12173358445992856,
          -0.36050106865759685,
          -0.11659674425132723,
          -0.22093063657805495,
          -0.4872186956063983,
          -0.13328193990908513,
          -0.33496460742411166,
          -0.11929987995858328,
          -0.37228568483805896,
          -0.374854917127485,
          -0.11361069279408527,
          -0.34107354675714235,
          -0.24311682723656214,
          -0.3709964428050506,
          -0.14017849834221635,
          -0.3704161379816332,
          -0.39311975194411264,
          -0.3251666446170328,
          -0.3825076874209514,
          -0.3660465779333992,
          -0.3562391726640985,
          -0.16902685297916192,
          -0.2912793963459354,
          -0.3904309725863153,
          -0.24506650071779906,
          -0.3277393753215985,
          -0.36792443449136714,
          -0.3722493817248733,
          -0.19477428171901073,
          -0.2154524874249325,
          -0.29828345176147303,
          -0.3916863379494385,
          -0.18887424859819352,
          -0.3439810404277825,
          -0.47707559993025195,
          -0.3425323996516652,
          -0.12420404184079721,
          -0.3434877136216947,
          -0.13220743253330416,
          -0.35335739378509673,
          -0.3691408082708127,
          -0.3728436746823655,
          -0.3993131116256889,
          -0.33710568550395953,
          -0.2160616469547902,
          -0.117099936272558,
          -0.37929059630636935,
          -0.07806183622740218,
          -0.1193608846558273,
          -0.3727831299284623,
          -0.387981906737418,
          -0.49262520658749265,
          -0.4185524820216943,
          -0.12843257720053505,
          -0.4906789861521874,
          -0.32705588994273493,
          -0.12333897494422703,
          -0.37377216120295037,
          -0.35770689548170764,
          -0.12509054653077,
          -0.3351343928040998,
          -0.2213260871582176,
          -0.36854005471458634,
          -0.055647791885931254,
          -0.2527145056241316,
          -0.40239475407298814,
          -0.40529088282763354,
          -0.369986744038885,
          -0.36848188639112545,
          -0.10571130817766244,
          -0.4152419381136108,
          -0.345541934839659,
          -0.4304245121552987,
          -0.3826363372555653,
          -0.19712774929183569,
          -0.17062254593192677,
          -0.3827971477542997,
          -0.33774449716282934,
          -0.18306742918133856,
          -0.39145413328587964,
          -0.3578737650499666,
          -0.15197461214890834,
          -0.11095525655610206,
          0.08729316464548985,
          -0.2016652814096293,
          -0.3826027413608703,
          -0.25799491543633196,
          -0.27229221254077335,
          -0.3357924242444041,
          -0.3452337403704652,
          -0.1984612143013192,
          -0.3831913270299195,
          -0.3568883485732193,
          -0.3602364524852077,
          -0.20616263489671416,
          -0.10617094947282829,
          -0.1242065326790285,
          -0.37102877148625474,
          -0.36696158745476254,
          -0.12420214425958488,
          -0.058751895763772384,
          -0.4031273518225331,
          -0.12838881073336947,
          -0.18677820451351712,
          -0.19220201977540408,
          -0.5137098075312251,
          -0.37766997130703345,
          -0.27455999534399206,
          -0.19756800283145098,
          -0.07135176094096132,
          -0.008895628087263747,
          -0.24284238861777463,
          -0.1718504045612636,
          -0.3437430288346618,
          -0.23711093098310224,
          -0.24373153226523675,
          -0.18086586159056223,
          -0.3969247599085247,
          -0.15743843273751584,
          -0.3381297536712809,
          -0.2023578099600321,
          -0.13133500243502885,
          -0.3222451823452082,
          -0.163208597384361,
          -0.15927662723388486,
          -0.3588984700778922,
          0.07471761957385128,
          -0.3680523960451381,
          -0.35203999689572874,
          -0.1698960450292467,
          -0.15333770594385526,
          -0.37772011215327234,
          -0.3543425978485974,
          -0.35417252373658675,
          -0.008481377460469862,
          -0.3347042872129829,
          -0.3857421768119759,
          -0.3745661285210101,
          -0.06266306663824522,
          -0.352075868748889,
          -0.4086647682134827,
          -0.25205339354102796,
          -0.3569500855527412,
          -0.36421964034723575,
          -0.38598638087220033,
          -0.3465261143826615,
          -0.38074386762321394,
          -0.10951237640310316,
          -0.12108701238241452,
          -0.25327628964749704,
          -0.384385876938912,
          -0.21277477776858758,
          -0.38376471020058583,
          -0.08507961335198805,
          -0.10832241678635804,
          -0.38590653998412766,
          -0.169008338936058
         ]
        },
        {
         "customdata": [
          [
           "X13"
          ],
          [
           "SHA-512"
          ],
          [
           "Scrypt"
          ],
          [
           "PHI1612"
          ],
          [
           "Shabal256"
          ],
          [
           "X11"
          ],
          [
           "Scrypt"
          ],
          [
           "Scrypt"
          ],
          [
           "Scrypt"
          ],
          [
           "SHA-256D"
          ],
          [
           "SHA-256D"
          ],
          [
           "DPoS"
          ],
          [
           "X13"
          ],
          [
           "X11"
          ],
          [
           "Scrypt"
          ],
          [
           "SHA-256"
          ],
          [
           "X15"
          ],
          [
           "536"
          ],
          [
           "Scrypt"
          ],
          [
           "X13"
          ],
          [
           "Scrypt"
          ],
          [
           "Ouroboros"
          ],
          [
           "Scrypt"
          ],
          [
           "SHA-256"
          ],
          [
           "DPoS"
          ],
          [
           "NIST5"
          ],
          [
           "Scrypt"
          ],
          [
           "Proof-of-BibleHash"
          ],
          [
           "VBFT"
          ],
          [
           "Semux BFT consensus"
          ],
          [
           "Scrypt"
          ],
          [
           "Scrypt"
          ],
          [
           "Scrypt"
          ],
          [
           "SHA-512"
          ],
          [
           "XEVAN"
          ],
          [
           "Scrypt"
          ],
          [
           "SHA-256D"
          ],
          [
           "DPoS"
          ],
          [
           "Scrypt"
          ],
          [
           "DPoS"
          ],
          [
           "Scrypt"
          ],
          [
           "TRC10"
          ],
          [
           "PoS"
          ],
          [
           "SHA-256"
          ]
         ],
         "hovertemplate": "<b>%{hovertext}</b><br><br>Class=%{marker.color}<br>PC1=%{x}<br>PC2=%{y}<br>PC3=%{z}<br>Algorithm=%{customdata[0]}<extra></extra>",
         "hovertext": [
          "EliteCoin",
          "Bitshares",
          "CasinoCoin",
          "TittieCoin",
          "BurstCoin",
          "Hitcoin",
          "ZeitCoin",
          "SafeExchangeCoin",
          "Swiscoin",
          "BuzzCoin",
          "LanaCoin",
          "ARK",
          "EmberCoin",
          "XenixCoin",
          "PandaCoin",
          "ProCurrency",
          "HTML5 Coin",
          "Espers",
          "Linda",
          "DeepOnion",
          "Draftcoin",
          "Cardano",
          "WomenCoin",
          "Infinity Economics",
          "Lamden Tau",
          "Electra",
          "GermanCoin",
          "BiblePay",
          "Ontology",
          "Semux",
          "Swisscoin",
          "Lynx",
          "ThunderStake",
          "Kcash",
          "BitMoney",
          "Credit",
          "Titan Coin",
          "ALAX",
          "LiteDoge",
          "Lisk",
          "HiCoin",
          "BitTorrent",
          "Nxt",
          "ZEPHYR"
         ],
         "legendgroup": "4",
         "marker": {
          "color": [
           4,
           4,
           4,
           4,
           4,
           4,
           4,
           4,
           4,
           4,
           4,
           4,
           4,
           4,
           4,
           4,
           4,
           4,
           4,
           4,
           4,
           4,
           4,
           4,
           4,
           4,
           4,
           4,
           4,
           4,
           4,
           4,
           4,
           4,
           4,
           4,
           4,
           4,
           4,
           4,
           4,
           4,
           4,
           4
          ],
          "coloraxis": "coloraxis",
          "symbol": "diamond"
         },
         "mode": "markers",
         "name": "4",
         "scene": "scene",
         "showlegend": true,
         "type": "scatter3d",
         "x": [
          1.660345586605503,
          1.851708695367882,
          3.3968814253053408,
          1.0082875161643938,
          4.537664025924239,
          0.9361747669975535,
          1.9138100771505957,
          2.494761383693919,
          1.4791553844786278,
          1.79950821493721,
          1.1887661105520608,
          2.940481184022799,
          0.9733848525202826,
          1.0677348771176096,
          1.7352805873335233,
          0.9246646253601966,
          1.7670512739864834,
          2.6866658353748876,
          1.2791466248219463,
          1.4448136112053331,
          2.1324278630595814,
          3.24252266262185,
          1.4472520922288157,
          1.3358117686085975,
          3.3025559092412577,
          1.3144186385780705,
          1.1808165636684371,
          9.253329109012045,
          1.1880566138891966,
          1.7638399230535993,
          1.0641411344236051,
          3.733299538704358,
          0.7832764722319685,
          2.8035172833653306,
          1.9756110634778683,
          1.5359786886094329,
          1.09853667615206,
          3.6051470532337384,
          1.3114070609018704,
          2.993482037192899,
          1.3653994501151987,
          8.073662951081296,
          1.1729246379442644,
          2.5446349773376493
         ],
         "y": [
          1.7395569346517452,
          1.781362711858427,
          0.3245962118073156,
          1.7593966845291478,
          0.7156414063191887,
          1.1817991046829148,
          0.8431248899020822,
          0.33839522178287534,
          0.22647922563990563,
          1.8695230144521449,
          1.875900421732469,
          1.9626530595775717,
          1.7609912553870717,
          1.1526398748542945,
          0.8474408424141744,
          0.7584738519153007,
          1.8513955739628543,
          1.8431184728335515,
          0.9312871536628986,
          1.7218087564219076,
          0.8129021777437018,
          1.6831285239690659,
          0.932386605363025,
          0.762422862543841,
          1.956484713654108,
          1.4516034506328026,
          0.9318461162027203,
          3.0657544889900548,
          1.7171281016753217,
          1.9818324405741188,
          0.9372223457273796,
          0.1936154581397038,
          0.9371349658875067,
          1.9925862784674573,
          1.2535648224698452,
          0.928632963806014,
          1.877617837603696,
          1.952709561661449,
          0.9321612443148777,
          1.961621390228859,
          0.8530366930980264,
          1.8914782458744481,
          2.00127142246442,
          0.8939895059897756
         ],
         "z": [
          -0.47806113510068293,
          -0.14687327296183908,
          -0.27383513372942925,
          -0.2444483722305219,
          -0.2445266302314032,
          -0.3774866975260515,
          -0.23935708262497546,
          -0.255676597570056,
          -0.2599419413693236,
          -0.545522890951625,
          -0.5413598776728827,
          0.11376820775062627,
          -0.4342678811090878,
          -0.4545847665402651,
          -0.2314163115670813,
          -0.11852374979278842,
          -0.4990025589508319,
          -0.5658633252547922,
          -0.4176914623668475,
          -0.5314383999077339,
          -0.31747206125180455,
          -0.2008681524952325,
          -0.41100801542772963,
          -0.09872203210520888,
          0.10475239438682302,
          -0.42167183563086524,
          -0.4183041657883215,
          0.4354017373753336,
          -0.15341520160487548,
          0.13647353647944047,
          -0.4061058861884986,
          -0.29923767927990796,
          -0.41247424660853244,
          -0.10062807211417572,
          -0.23933051262183236,
          -0.4193662363671407,
          -0.5386187739984931,
          0.1010019002080048,
          -0.41459032742748014,
          0.11209539401567521,
          -0.2241409023845632,
          0.03118814761904264,
          -0.09913924800003074,
          0.04543597749987229
         ]
        },
        {
         "customdata": [
          [
           "SHA-256"
          ],
          [
           "Scrypt"
          ],
          [
           "Ethash"
          ],
          [
           "Equihash"
          ],
          [
           "Multiple"
          ],
          [
           "Scrypt"
          ],
          [
           "X11"
          ],
          [
           "Scrypt"
          ],
          [
           "Multiple"
          ],
          [
           "Scrypt"
          ],
          [
           "SHA-256"
          ],
          [
           "Scrypt"
          ],
          [
           "Scrypt"
          ],
          [
           "Quark"
          ],
          [
           "Groestl"
          ],
          [
           "Scrypt"
          ],
          [
           "Scrypt"
          ],
          [
           "Scrypt"
          ],
          [
           "X11"
          ],
          [
           "Multiple"
          ],
          [
           "SHA-256"
          ],
          [
           "Scrypt"
          ],
          [
           "Scrypt"
          ],
          [
           "Scrypt"
          ],
          [
           "Scrypt"
          ],
          [
           "Scrypt"
          ],
          [
           "NeoScrypt"
          ],
          [
           "Scrypt"
          ],
          [
           "Scrypt"
          ],
          [
           "Scrypt"
          ],
          [
           "Scrypt"
          ],
          [
           "SHA-256"
          ],
          [
           "Scrypt"
          ],
          [
           "Scrypt"
          ],
          [
           "Scrypt"
          ],
          [
           "Scrypt"
          ],
          [
           "HybridScryptHash256"
          ],
          [
           "Scrypt"
          ],
          [
           "Scrypt"
          ],
          [
           "SHA-256"
          ],
          [
           "Scrypt"
          ],
          [
           "Scrypt"
          ],
          [
           "Scrypt"
          ],
          [
           "Scrypt"
          ],
          [
           "SHA-256"
          ],
          [
           "Multiple"
          ],
          [
           "SHA-256"
          ],
          [
           "SHA-256"
          ],
          [
           "SHA-256"
          ],
          [
           "SHA-256"
          ],
          [
           "Scrypt"
          ],
          [
           "Lyra2REv2"
          ],
          [
           "Scrypt"
          ],
          [
           "SHA-256"
          ],
          [
           "CryptoNight"
          ],
          [
           "CryptoNight"
          ],
          [
           "Scrypt"
          ],
          [
           "Scrypt"
          ],
          [
           "Scrypt"
          ],
          [
           "Scrypt"
          ],
          [
           "Scrypt"
          ],
          [
           "Scrypt"
          ],
          [
           "Stanford Folding"
          ],
          [
           "Scrypt"
          ],
          [
           "Scrypt"
          ],
          [
           "M7 POW"
          ],
          [
           "Scrypt"
          ],
          [
           "SHA-256"
          ],
          [
           "Scrypt"
          ],
          [
           "X11"
          ],
          [
           "Lyra2RE"
          ],
          [
           "SHA-256"
          ],
          [
           "X11"
          ],
          [
           "Scrypt"
          ],
          [
           "Scrypt"
          ],
          [
           "Ethash"
          ],
          [
           "X11"
          ],
          [
           "SHA-256"
          ],
          [
           "Scrypt"
          ],
          [
           "1GB AES Pattern Search"
          ],
          [
           "Scrypt"
          ],
          [
           "SHA-256"
          ],
          [
           "X11"
          ],
          [
           "Dagger"
          ],
          [
           "Scrypt"
          ],
          [
           "X11GOST"
          ],
          [
           "Scrypt"
          ],
          [
           "X11"
          ],
          [
           "Scrypt"
          ],
          [
           "X11"
          ],
          [
           "Equihash"
          ],
          [
           "CryptoNight"
          ],
          [
           "SHA-256"
          ],
          [
           "Multiple"
          ],
          [
           "Scrypt"
          ],
          [
           "SHA-256"
          ],
          [
           "Scrypt"
          ],
          [
           "Lyra2Z"
          ],
          [
           "Ethash"
          ],
          [
           "Equihash"
          ],
          [
           "Scrypt"
          ],
          [
           "X11"
          ],
          [
           "X11"
          ],
          [
           "CryptoNight"
          ],
          [
           "Scrypt"
          ],
          [
           "CryptoNight"
          ],
          [
           "Lyra2RE"
          ],
          [
           "X11"
          ],
          [
           "CryptoNight-V7"
          ],
          [
           "Scrypt"
          ],
          [
           "X11"
          ],
          [
           "Equihash"
          ],
          [
           "Scrypt"
          ],
          [
           "Lyra2RE"
          ],
          [
           "Dagger-Hashimoto"
          ],
          [
           "Scrypt"
          ],
          [
           "NIST5"
          ],
          [
           "Scrypt"
          ],
          [
           "SHA-256"
          ],
          [
           "Scrypt"
          ],
          [
           "CryptoNight-V7"
          ],
          [
           "Blake2b"
          ],
          [
           "Cloverhash"
          ],
          [
           "CryptoNight"
          ],
          [
           "X11"
          ],
          [
           "Scrypt"
          ],
          [
           "Scrypt"
          ],
          [
           "X11"
          ],
          [
           "X11"
          ],
          [
           "CryptoNight"
          ],
          [
           "Time Travel"
          ],
          [
           "Scrypt"
          ],
          [
           "Keccak"
          ],
          [
           "X11"
          ],
          [
           "SHA-256"
          ],
          [
           "Scrypt"
          ],
          [
           "Scrypt"
          ],
          [
           "Scrypt"
          ],
          [
           "Scrypt"
          ],
          [
           "Scrypt"
          ],
          [
           "CryptoNight"
          ],
          [
           "Equihash"
          ],
          [
           "X11"
          ],
          [
           "NeoScrypt"
          ],
          [
           "Equihash"
          ],
          [
           "Dagger"
          ],
          [
           "Scrypt"
          ],
          [
           "X11"
          ],
          [
           "NeoScrypt"
          ],
          [
           "Ethash"
          ],
          [
           "NeoScrypt"
          ],
          [
           "Multiple"
          ],
          [
           "CryptoNight"
          ],
          [
           "CryptoNight"
          ],
          [
           "Ethash"
          ],
          [
           "X11"
          ],
          [
           "CryptoNight-V7"
          ],
          [
           "Scrypt"
          ],
          [
           "BLAKE256"
          ],
          [
           "X11"
          ],
          [
           "NeoScrypt"
          ],
          [
           "NeoScrypt"
          ],
          [
           "Scrypt"
          ],
          [
           "X11"
          ],
          [
           "SHA-256"
          ],
          [
           "C11"
          ],
          [
           "CryptoNight"
          ],
          [
           "SkunkHash"
          ],
          [
           "CryptoNight"
          ],
          [
           "Scrypt"
          ],
          [
           "Dagger"
          ],
          [
           "Lyra2REv2"
          ],
          [
           "Scrypt"
          ],
          [
           "Scrypt"
          ],
          [
           "X11"
          ],
          [
           "Ethash"
          ],
          [
           "CryptoNight"
          ],
          [
           "Scrypt"
          ],
          [
           "IMesh"
          ],
          [
           "Equihash"
          ],
          [
           "Lyra2Z"
          ],
          [
           "X11"
          ],
          [
           "CryptoNight"
          ],
          [
           "NIST5"
          ],
          [
           "Lyra2RE"
          ],
          [
           "Tribus"
          ],
          [
           "Lyra2Z"
          ],
          [
           "CryptoNight"
          ],
          [
           "CryptoNight Heavy"
          ],
          [
           "CryptoNight"
          ],
          [
           "Jump Consistent Hash"
          ],
          [
           "CryptoNight"
          ],
          [
           "X16R"
          ],
          [
           "HMQ1725"
          ],
          [
           "X11"
          ],
          [
           "Scrypt"
          ],
          [
           "CryptoNight-V7"
          ],
          [
           "Cryptonight-GPU"
          ],
          [
           "XEVAN"
          ],
          [
           "CryptoNight Heavy"
          ],
          [
           "SHA-256"
          ],
          [
           "X11"
          ],
          [
           "X16R"
          ],
          [
           "Equihash"
          ],
          [
           "Lyra2Z"
          ],
          [
           "SHA-256"
          ],
          [
           "CryptoNight"
          ],
          [
           "Blake"
          ],
          [
           "Blake"
          ],
          [
           "Exosis"
          ],
          [
           "Scrypt"
          ],
          [
           "Equihash"
          ],
          [
           "Equihash"
          ],
          [
           "QuBit"
          ],
          [
           "SHA-256"
          ],
          [
           "SHA-256"
          ],
          [
           "Scrypt"
          ],
          [
           "NeoScrypt"
          ],
          [
           "Blake"
          ],
          [
           "Scrypt"
          ],
          [
           "SHA-256"
          ],
          [
           "Scrypt"
          ],
          [
           "Groestl"
          ],
          [
           "Scrypt"
          ],
          [
           "Scrypt"
          ],
          [
           "Multiple"
          ],
          [
           "Equihash+Scrypt"
          ],
          [
           "Ethash"
          ],
          [
           "CryptoNight"
          ],
          [
           "Equihash"
          ]
         ],
         "hovertemplate": "<b>%{hovertext}</b><br><br>Class=%{marker.color}<br>PC1=%{x}<br>PC2=%{y}<br>PC3=%{z}<br>Algorithm=%{customdata[0]}<extra></extra>",
         "hovertext": [
          "Bitcoin",
          "Litecoin",
          "Ethereum Classic",
          "ZCash",
          "DigiByte",
          "ProsperCoin",
          "Spreadcoin",
          "Argentum",
          "MyriadCoin",
          "MoonCoin",
          "ZetaCoin",
          "SexCoin",
          "Quatloo",
          "QuarkCoin",
          "Riecoin",
          "Digitalcoin ",
          "Catcoin",
          "CannaCoin",
          "CryptCoin",
          "Verge",
          "DevCoin",
          "EarthCoin",
          "E-Gulden",
          "Einsteinium",
          "Emerald",
          "Franko",
          "FeatherCoin",
          "GrandCoin",
          "GlobalCoin",
          "GoldCoin",
          "Infinite Coin",
          "IXcoin",
          "KrugerCoin",
          "LuckyCoin",
          "Litebar ",
          "MegaCoin",
          "MediterraneanCoin",
          "MinCoin",
          "NobleCoin",
          "Namecoin",
          "NyanCoin",
          "RonPaulCoin",
          "StableCoin",
          "SmartCoin",
          "SysCoin",
          "TeslaCoin",
          "TigerCoin",
          "TerraCoin",
          "UnbreakableCoin",
          "Unobtanium",
          "ViaCoin",
          "Vertcoin",
          "WorldCoin",
          "JouleCoin",
          "ByteCoin",
          "DigitalNote ",
          "MonaCoin",
          "Gulden",
          "PesetaCoin",
          "Wild Beast Coin",
          "Flo",
          "ArtByte",
          "Folding Coin",
          "OmniCron",
          "GreenCoin",
          "Cryptonite",
          "MasterCoin",
          "SoonCoin",
          "1Credit",
          "MarsCoin ",
          "Crypto",
          "Anarchists Prime",
          "BowsCoin",
          "Song Coin",
          "BitZeny",
          "Expanse",
          "MindCoin",
          "I0coin",
          "Revolution VR",
          "HOdlcoin",
          "Gamecredits",
          "CarpeDiemCoin",
          "Adzcoin",
          "SoilCoin",
          "YoCoin",
          "SibCoin",
          "Francs",
          "BolivarCoin",
          "Omni",
          "PizzaCoin",
          "Komodo",
          "Karbo",
          "ZayedCoin",
          "Circuits of Value",
          "DopeCoin",
          "DollarCoin",
          "Shilling",
          "ZCoin",
          "Elementrem",
          "ZClassic",
          "KiloCoin",
          "ArtexCoin",
          "Kurrent",
          "Cannabis Industry Coin",
          "OsmiumCoin",
          "Bikercoins",
          "HexxCoin",
          "PacCoin",
          "Citadel",
          "BeaverCoin",
          "VaultCoin",
          "Zero",
          "Canada eCoin",
          "Zoin",
          "DubaiCoin",
          "EB3coin",
          "Coinonat",
          "BenjiRolls",
          "ILCoin",
          "EquiTrader",
          "Quantum Resistant Ledger",
          "Nano",
          "ChanCoin",
          "Dinastycoin",
          "DigitalPrice",
          "Unify",
          "SocialCoin",
          "ArcticCoin",
          "DAS",
          "LeviarCoin",
          "Bitcore",
          "gCn Coin",
          "SmartCash",
          "Onix",
          "Bitcoin Cash",
          "Sojourn Coin",
          "FrazCoin",
          "Kronecoin",
          "AdCoin",
          "Linx",
          "Sumokoin",
          "BitcoinZ",
          "Elements",
          "VIVO Coin",
          "Bitcoin Gold",
          "Pirl",
          "eBoost",
          "Pura",
          "Innova",
          "Ellaism",
          "GoByte",
          "SHIELD",
          "UltraNote",
          "BitCoal",
          "DaxxCoin",
          "AC3",
          "Lethean",
          "PopularCoin",
          "Photon",
          "Sucre",
          "SparksPay",
          "GunCoin",
          "IrishCoin",
          "Pioneer Coin",
          "UnitedBitcoin",
          "Interzone",
          "TurtleCoin",
          "MUNcoin",
          "Niobio Cash",
          "ShareChain",
          "Travelflex",
          "KREDS",
          "BitFlip",
          "LottoCoin",
          "Crypto Improvement Fund",
          "Callisto Network",
          "BitTube",
          "Poseidon",
          "Aidos Kuneen",
          "Bitrolium",
          "Alpenschillling",
          "FuturoCoin",
          "Monero Classic",
          "Jumpcoin",
          "Infinex",
          "KEYCO",
          "GINcoin",
          "PlatinCoin",
          "Loki",
          "Newton Coin",
          "MassGrid",
          "PluraCoin",
          "Motion",
          "PlusOneCoin",
          "Axe",
          "HexCoin",
          "Webchain",
          "Ryo",
          "Urals Coin",
          "Qwertycoin",
          "Project Pai",
          "Azart",
          "Xchange",
          "CrypticCoin",
          "Actinium",
          "Bitcoin SV",
          "FREDEnergy",
          "Universal Molecule",
          "Lithium",
          "Exosis",
          "Block-Logic",
          "Beam",
          "Bithereum",
          "SLICE",
          "BLAST",
          "GlobalToken",
          "SolarCoin",
          "UFO Coin",
          "BlakeCoin",
          "Crypto Escudo",
          "Crown Coin",
          "SmileyCoin",
          "Groestlcoin",
          "Bata",
          "Pakcoin",
          "JoinCoin",
          "Vollar",
          "Reality Clash",
          "Beldex",
          "Horizen"
         ],
         "legendgroup": "0",
         "marker": {
          "color": [
           0,
           0,
           0,
           0,
           0,
           0,
           0,
           0,
           0,
           0,
           0,
           0,
           0,
           0,
           0,
           0,
           0,
           0,
           0,
           0,
           0,
           0,
           0,
           0,
           0,
           0,
           0,
           0,
           0,
           0,
           0,
           0,
           0,
           0,
           0,
           0,
           0,
           0,
           0,
           0,
           0,
           0,
           0,
           0,
           0,
           0,
           0,
           0,
           0,
           0,
           0,
           0,
           0,
           0,
           0,
           0,
           0,
           0,
           0,
           0,
           0,
           0,
           0,
           0,
           0,
           0,
           0,
           0,
           0,
           0,
           0,
           0,
           0,
           0,
           0,
           0,
           0,
           0,
           0,
           0,
           0,
           0,
           0,
           0,
           0,
           0,
           0,
           0,
           0,
           0,
           0,
           0,
           0,
           0,
           0,
           0,
           0,
           0,
           0,
           0,
           0,
           0,
           0,
           0,
           0,
           0,
           0,
           0,
           0,
           0,
           0,
           0,
           0,
           0,
           0,
           0,
           0,
           0,
           0,
           0,
           0,
           0,
           0,
           0,
           0,
           0,
           0,
           0,
           0,
           0,
           0,
           0,
           0,
           0,
           0,
           0,
           0,
           0,
           0,
           0,
           0,
           0,
           0,
           0,
           0,
           0,
           0,
           0,
           0,
           0,
           0,
           0,
           0,
           0,
           0,
           0,
           0,
           0,
           0,
           0,
           0,
           0,
           0,
           0,
           0,
           0,
           0,
           0,
           0,
           0,
           0,
           0,
           0,
           0,
           0,
           0,
           0,
           0,
           0,
           0,
           0,
           0,
           0,
           0,
           0,
           0,
           0,
           0,
           0,
           0,
           0,
           0,
           0,
           0,
           0,
           0,
           0,
           0,
           0,
           0,
           0,
           0,
           0,
           0,
           0,
           0,
           0,
           0,
           0,
           0,
           0,
           0,
           0,
           0,
           0,
           0,
           0,
           0,
           0,
           0,
           0,
           0,
           0,
           0,
           0,
           0,
           0,
           0,
           0,
           0
          ],
          "coloraxis": "coloraxis",
          "symbol": "square"
         },
         "mode": "markers",
         "name": "0",
         "scene": "scene",
         "showlegend": true,
         "type": "scatter3d",
         "x": [
          -0.40791525342226664,
          -0.004093126372100349,
          0.3255405862586363,
          -0.4124525850596198,
          2.3283903160513093,
          -0.593561533641162,
          -0.7757374264940601,
          -0.3085736653372097,
          1.6740832560269083,
          -0.9326406877436452,
          0.26265418893724085,
          0.27193367783455996,
          -0.3242842246216326,
          0.10994905313299885,
          -0.2533664669285222,
          -0.188168443506333,
          -0.5574147522708098,
          -0.6955345748159659,
          -0.9205116798521314,
          2.3471137679375556,
          1.730289910672468,
          1.5971090116891045,
          -0.38617327848980104,
          0.3839182873825368,
          -0.33534642311810964,
          -0.9464698150566527,
          0.32815230798038036,
          0.8381001354596046,
          -0.02438224780015277,
          -0.09302439074096006,
          2.196230145183296,
          -0.3817555684138875,
          0.3066658219972256,
          -0.40605287702115955,
          -1.2643752545741518,
          -0.1871501700472934,
          0.23862410214207808,
          -0.7019458766283143,
          1.3441029643313476,
          -0.43947702239800734,
          0.46956879077394936,
          -0.8597948974670128,
          0.0026281227180973187,
          -0.22223767618770673,
          0.6992930653568116,
          0.5907292865110206,
          -0.14622322657645975,
          -0.26605265918155957,
          -0.5429291871674363,
          -1.7843747137842811,
          -0.3563710862105144,
          -0.002827404971875332,
          0.2686576191356684,
          -0.16958628442973667,
          3.0200524775178046,
          2.061673601983738,
          0.041631722026929455,
          0.7410460224670462,
          0.22227784753652444,
          -1.4565817581142078,
          0.23291829141455267,
          0.7687293435339603,
          1.485741062631242,
          -0.7724009475238568,
          1.3917455003854484,
          1.6413262019193702,
          -1.4723174185852206,
          -0.4664638394957361,
          -0.030537918986224426,
          -0.531018189406682,
          -0.5636199416937714,
          -0.30077443758675076,
          -0.7117602383544114,
          0.024800218268403257,
          0.18598994953989526,
          -0.4290929165911982,
          -0.7518120831646949,
          -0.3824586083890252,
          0.3247726296293858,
          -0.3569313053766406,
          0.012395505659914376,
          1.7582437010371725,
          -0.3390904709219071,
          -0.3362359960558831,
          -0.6416307222858723,
          -0.5614552104888914,
          -0.5797790128231096,
          -0.7102107913981576,
          -1.4738298700834207,
          -1.07953173629423,
          0.5109821528636939,
          -0.04904865748605111,
          -0.6910868470116301,
          1.5144410319591401,
          0.22317344802364972,
          -0.6172440889047198,
          -0.43529294667537377,
          -0.6791861576450785,
          -0.21712637055330897,
          -0.45657600617798855,
          0.8834609159452856,
          0.391699633712973,
          -0.1423244745524811,
          -0.2744654786983744,
          -1.1954285778715232,
          0.11488644719587518,
          -1.16201860970972,
          1.1038720864801084,
          0.12808572966576628,
          -0.9629441521734793,
          -0.037547972630805476,
          -0.45399759262359596,
          0.09566144545201558,
          -0.6837079856922815,
          -1.770499039432706,
          0.5681377902478422,
          -0.4540030988471263,
          -0.31364769257860275,
          0.9887384870261097,
          -0.2729251304930647,
          0.34080469521159923,
          0.719773449167508,
          -0.4845321906070378,
          1.608702309241041,
          -0.3536114576009851,
          -0.42174422417037805,
          -0.42359243798320334,
          -0.47716504894173895,
          -1.017113207598596,
          0.29515684845535184,
          -0.5876836812073353,
          2.4076092887506984,
          1.518239638900474,
          0.2009730903865538,
          -0.4073018847919855,
          -0.07598763872538976,
          -0.5169917810015274,
          -0.21089066568901882,
          -0.08434931375841906,
          -0.0791571047333376,
          0.29467915764873537,
          1.6622323916851893,
          0.7718354847592407,
          -0.6738039188882204,
          -0.2762423753731296,
          0.873517490905985,
          0.09589770394903366,
          0.0898135878781134,
          -0.5299780538527391,
          0.016173630698162633,
          -0.5954987286026591,
          1.3086894809389098,
          2.5425113451046526,
          -0.10518818449723302,
          1.1406640106658612,
          0.030837006906499237,
          0.9717150584608111,
          1.2652399173492368,
          2.578222550358595,
          -0.9333299100071165,
          -0.6088838963942292,
          0.4451063401461352,
          -0.09674776437434998,
          -0.7992436684176837,
          -0.3949394672603478,
          -0.8727907816213908,
          3.069188179136524,
          -1.0238377441492266,
          0.9264805953548306,
          1.5164297574839796,
          0.313899493638117,
          0.7841550342970612,
          -0.3747264227868616,
          1.666116717792069,
          0.1725509810348314,
          0.9573982503422996,
          1.0043911046702145,
          -0.6497107562461256,
          -0.44464275018253596,
          0.13034678065792743,
          -0.08308529845803106,
          -0.36968221998670286,
          0.1562515554015056,
          -0.4586171060394322,
          -0.8586068212931005,
          -1.5187379133865295,
          -0.7970407757845605,
          -0.17495575167473942,
          0.8980849706369155,
          2.779005235980781,
          0.5401800010691202,
          1.3176705046107227,
          -0.7859469025569198,
          -0.7946453938445316,
          -0.8979128730393847,
          -0.8121001524074695,
          0.5158674653310369,
          -0.581431746529863,
          -0.09668988710754714,
          3.3247673508334477,
          1.0380766925842992,
          -0.871472792220186,
          -0.5338221202442895,
          1.4789800616713087,
          -0.38279404113230614,
          -0.4073294034877951,
          1.8195947881136136,
          0.31209623321853097,
          -0.20579933817543605,
          -1.670947333968541,
          -0.04495676480504626,
          0.21380610236430186,
          -0.15820027730407848,
          -0.4099000365634039,
          -0.07123148988185475,
          0.1485399264721415,
          1.0168664519763364,
          1.1616837126222497,
          0.6860588957775767,
          0.7662050898098668,
          -0.26569124585852205,
          1.9283709384968848,
          -0.15741134295069525,
          -0.8264693247323825,
          0.12603629852840234,
          -0.29755828201675777,
          1.114954851777378,
          -0.23803691401034743,
          1.4574276182067114,
          -0.41435078924690494
         ],
         "y": [
          -1.2393968541046412,
          -1.1547054986954635,
          -1.925586533570409,
          -1.953675334980253,
          -1.9193707522981094,
          -1.1472445211132039,
          -0.8993786801800301,
          -1.1521684282455267,
          -1.9086799051995258,
          -1.174413376859892,
          -1.2494054311184088,
          -1.1595081509538074,
          -1.1534022814442186,
          -0.3717038817280971,
          -1.4895149109074508,
          -1.1520101884441742,
          -1.1474499994428635,
          -1.1452747603449234,
          -0.8982433282076472,
          -1.9187720510904183,
          -1.2720318445724113,
          -1.1788677994963803,
          -1.1484234308430332,
          -1.160683232232796,
          -1.1499611807561063,
          -1.1433841488558332,
          -1.5762844744021924,
          -1.1678775742299006,
          -1.1540496135760732,
          -1.153753035399034,
          -1.1879178541811606,
          -1.239545560245995,
          -1.1598830486748153,
          -1.1481657701602817,
          -1.1352945406657455,
          -1.1516098447477037,
          -2.1341981890985062,
          -1.1444286941309014,
          -1.177741947879842,
          -1.239217439525407,
          -1.161516978797073,
          -1.1457311031870516,
          -1.1579772689904475,
          -1.1519976294752352,
          -1.2567924560072068,
          0.13606047406044505,
          -1.2432737446416409,
          -1.2422583359811918,
          -1.2425948186847942,
          -1.21843572380101,
          -1.1488625579188882,
          -1.1923100154145374,
          -1.159666988994222,
          -1.2430112557083584,
          -2.2504775256166134,
          -2.236387452631868,
          -1.1556303908550045,
          -1.1678230879762872,
          -1.158018751867655,
          -1.1361768535892116,
          -1.1579632051630206,
          -1.1664423253347638,
          -2.1508762697147064,
          -1.1408046122659448,
          -1.176810643573455,
          -2.1552666317386846,
          -1.1318029391322257,
          -1.2390640315070482,
          -1.1753051345564156,
          -0.9022545082486992,
          -2.132029459828972,
          -1.242792853739707,
          -0.8998870159910008,
          -1.1575897675662397,
          -1.1590195991916525,
          -1.9138271665171929,
          -0.8988531047250674,
          -1.239541563777311,
          -1.1592915904986618,
          -2.12553629840273,
          -1.1547992292141949,
          -1.2722778759733995,
          -0.906115590003779,
          -2.134759638296392,
          -1.1531426313007984,
          -2.117355560921849,
          -1.1471782145647487,
          -0.9004127502343664,
          -1.1317798043694554,
          -0.8983133253896471,
          -1.286286922795192,
          -2.203908690218781,
          -1.2355081165945767,
          -1.9062579045711612,
          -1.1585693904352512,
          -1.236190652147814,
          -1.14920168428016,
          -2.130040916040428,
          -1.9163315191288075,
          -1.9534245130114205,
          -1.173921272419426,
          -0.9155584250912694,
          -0.9101945747138156,
          -2.2048270064668527,
          -1.1377571739076164,
          -2.2075572248327076,
          -2.1230424981590406,
          -0.9353153626778039,
          -2.147322268496616,
          -1.1397114723548727,
          -0.9151734002079146,
          -1.952812676813228,
          -1.1557894852715918,
          -2.1279611913484713,
          -2.096587112375371,
          -1.1694121644291309,
          -0.6315020290921343,
          -1.1503939703607229,
          -1.2615066325404027,
          -1.1527202797111338,
          -2.1468522205677987,
          -2.1401274298416326,
          -2.1190838350001275,
          -2.2290408199038816,
          -0.9065499709997706,
          -1.147967377626265,
          -1.1519848331165843,
          -0.904333118151964,
          -0.8978388456412056,
          -2.210865213559584,
          -2.116441848824364,
          -1.1914671816795581,
          -1.2009475217715762,
          -0.9168118635475373,
          -1.2394003408317256,
          -1.1686118893577615,
          -1.1475351319728704,
          -1.1535299469216778,
          -1.1547662043950915,
          -1.154795719787535,
          -2.212340173330014,
          -1.9859492415146403,
          -0.9215170655440892,
          -1.563113676867348,
          -1.9544496292689257,
          -2.16018384493701,
          -1.1557908282957696,
          -0.9127848607278688,
          -1.5654457685491332,
          -1.9246808458427727,
          -1.5640439386603366,
          -1.9033158199546416,
          -2.2454657107066,
          -2.2042511424079,
          -1.941673934874295,
          -0.9137896594953931,
          -2.1571192222067603,
          -1.1740364594553716,
          -1.2157834860339014,
          -0.8984530397696291,
          -1.562737616312314,
          -1.5781278125993912,
          -1.153372564012486,
          -0.8996594266163616,
          -1.239350468070025,
          -1.1595031471467732,
          -2.2557682221622506,
          -2.1124599599168183,
          -2.2198740744549963,
          -1.1775194179625483,
          -2.1420249306695345,
          -1.2044099126470806,
          -1.1503989033829694,
          -1.180179290905926,
          -0.9143126627469518,
          -1.939354957162534,
          -2.2235505239420474,
          -1.146925337826749,
          -2.118296922896644,
          -1.9603304693633699,
          -2.1412577680080207,
          -0.9064586158835974,
          -2.206883575239273,
          -0.6290093231486912,
          -2.1276319362685343,
          -2.109905676675734,
          -2.1272599671489187,
          -2.21533195985434,
          -2.150558007272387,
          -2.2490997571705176,
          -2.135048560229559,
          -2.2253313775997214,
          -1.1818298035649328,
          -2.1151824525916236,
          -0.8988288212918685,
          -1.1461543018797136,
          -2.1561886293913437,
          -2.124583702735567,
          -0.6068617865515609,
          -2.1854461395752547,
          -1.2612701719043284,
          -0.8994960476868568,
          -1.1877419518177594,
          -1.9818941676974604,
          -2.1357799439787035,
          -1.239400184400214,
          -2.234379263123503,
          -2.1591231344550805,
          -2.1382944880961694,
          -2.1098500104308453,
          -1.1555306839793238,
          -1.9647270523498908,
          -1.9562644157146352,
          -1.1705762790670513,
          -1.244614629343632,
          -1.2487252225168597,
          -1.1814494990604016,
          -1.588366404257658,
          -2.16004342804931,
          -1.166427976078227,
          -1.2422603904547334,
          -1.1846328128058778,
          -1.4907219533491616,
          -1.141665777566415,
          -1.157737594921111,
          -1.8779893341147513,
          -2.1528100042409752,
          -1.916011667238009,
          -2.2271238853058386,
          -1.9536645445360978
         ],
         "z": [
          0.15070127129259597,
          0.017206221396908507,
          0.26841558002058985,
          0.29767473836895747,
          0.22517644997714137,
          0.024805124353257914,
          0.0612616788754119,
          0.017520063811281385,
          0.2402183921222441,
          -0.057104144782166,
          0.13788530645615577,
          0.010058162294207177,
          0.013793417857516513,
          0.025938853957319742,
          0.17550994527961866,
          0.020581385934298292,
          0.025030358186747655,
          0.027982024636646792,
          0.06121626190526339,
          0.22722694344021016,
          0.10785779079333706,
          -0.01411890584245492,
          0.02609737915320557,
          0.009279122289128508,
          0.02298920706806016,
          0.02769136837795625,
          0.17386655536116286,
          -0.0005406115637470921,
          0.01856225121807096,
          0.017877779265825712,
          -0.025865202003549918,
          0.15086427463380506,
          0.009787896854499526,
          0.026370219502224408,
          0.042940033918683965,
          0.021701543265123614,
          0.2875514701447348,
          0.030162450418864926,
          -0.016552093567396255,
          0.15050460708215657,
          0.008861554415047693,
          0.023146200408605967,
          0.008380095250353473,
          0.0198724071210176,
          0.12715433854468997,
          0.04681500208982135,
          0.14577930448344462,
          0.14594926311890968,
          0.13898476586406883,
          0.1781513172540456,
          0.02554338946324792,
          0.14802968664074767,
          0.009551064336913698,
          0.14598937400090034,
          0.24734696477576523,
          0.26507611876390574,
          0.015667473754677454,
          -0.002508992664859898,
          0.013059285661206213,
          0.03632618089160198,
          0.013443805976813418,
          0.0018818071816096103,
          0.27013596111313204,
          0.03856405678947745,
          -0.012958399476154812,
          0.26132119612006893,
          0.047978221235003206,
          0.1503364498067873,
          -0.039865076756749496,
          0.05871475190611262,
          0.3097453552896323,
          0.14372569394840076,
          0.061263614558410125,
          0.009926628437281185,
          0.009522639222598698,
          0.28419871084253984,
          0.06322513585901536,
          0.15085989392872723,
          0.011805070654143303,
          0.29787357008835913,
          0.01730896354049031,
          0.10779302981350287,
          0.05231381985196407,
          0.29577095606459264,
          0.007580716093111209,
          0.3163898626986186,
          0.02528771638408698,
          0.05985560518432185,
          0.048008664971445326,
          0.05755433328531851,
          0.3205690174850951,
          0.30809084770436573,
          0.155187024605332,
          0.24337716067471665,
          0.011568708958906972,
          0.15492649533746317,
          0.022891192827991604,
          0.31277554365696664,
          0.28195585726259653,
          0.2973998013784866,
          -0.01612556626437447,
          0.042363464911902945,
          0.045420867238206215,
          0.30065357667586734,
          0.0376907716214241,
          0.30166199929535303,
          0.32133438448478513,
          0.0037205562593862576,
          0.283167206987957,
          0.037404153630220295,
          0.03405281790659268,
          0.29913401797706285,
          0.016410136955103995,
          0.318282101408774,
          0.3465008654645569,
          -0.010640030178757774,
          0.010556771625820563,
          0.022275772912729842,
          0.12054172946597481,
          0.016784501374805503,
          0.2890980288929365,
          0.2822855806452351,
          0.313303895989866,
          0.2753399234966785,
          0.050805674165974514,
          0.026571909133100792,
          0.015513757011064814,
          0.054189314222530045,
          0.06021761722163566,
          0.29652354482824084,
          0.31837504676249173,
          -0.030986704051962303,
          0.058893180992053075,
          0.03476409873959472,
          0.1507050932474894,
          -0.022500688084326013,
          0.025678949251337103,
          0.015917647400253677,
          0.015288473785402693,
          0.015320826905062682,
          0.292468062097506,
          0.2544354578908782,
          0.034316876415796206,
          0.18812371027596247,
          0.29852347639002225,
          0.2524433020770169,
          0.01641160910296783,
          0.04338250318275426,
          0.18486638857320542,
          0.26414874927197274,
          0.1872811691606472,
          0.2469561057519497,
          0.2506714240349247,
          0.3059266612558326,
          0.2420828134242458,
          0.03933993226851075,
          0.274707940528206,
          -0.008110700388030655,
          0.042241619355486607,
          0.060361425082372334,
          0.19057166565021566,
          0.17136326627223353,
          0.018839969979895933,
          0.05997880764678099,
          0.15111162787485627,
          0.1203170678761927,
          0.2339094800606148,
          0.3191429195820737,
          0.2855929124312486,
          -0.012181480698397217,
          0.2900325282893333,
          0.1320185391810147,
          0.02092945073606043,
          -0.01620984406396622,
          0.04099793002122794,
          0.24444355585255806,
          0.27721037294375284,
          0.024455253516205734,
          0.3165439168537235,
          0.2912674895878262,
          0.2950209273877996,
          0.05070553580560012,
          0.30441209931307445,
          0.017292305275945975,
          0.31536862782353875,
          0.31436641488945083,
          0.3178305669724379,
          0.274015263546677,
          0.2693902133959381,
          0.24586560788214945,
          0.29249227491160146,
          0.2791624449547854,
          0.15895236796060275,
          0.3169274799086159,
          0.06010368081231158,
          0.023026325883134503,
          0.26731307099091134,
          0.2951141256372588,
          0.04310469190841855,
          0.2266623541721952,
          0.12226682436244174,
          0.05885076720803754,
          0.14823996585017843,
          0.2615577156601949,
          0.3035038753646917,
          0.15070492177603012,
          0.26530117405656123,
          0.24213093728943091,
          0.28795229228874325,
          0.3107982996542264,
          0.014051479132827874,
          0.28103107294014595,
          0.29612223271666205,
          0.09995445872003764,
          0.1437383325058179,
          0.137260693249107,
          -0.03386060542537972,
          0.15892042395775605,
          0.2477672486827493,
          0.001866078330480284,
          0.14595151511770835,
          -0.0227009477336784,
          0.17429347422916086,
          0.03502250036572544,
          0.011730277040696215,
          0.28136389606185375,
          0.25549300538275227,
          0.28237676008146173,
          0.2772961418328358,
          0.2976629104885864
         ]
        },
        {
         "customdata": [
          [
           "VeChainThor Authority"
          ]
         ],
         "hovertemplate": "<b>%{hovertext}</b><br><br>Class=%{marker.color}<br>PC1=%{x}<br>PC2=%{y}<br>PC3=%{z}<br>Algorithm=%{customdata[0]}<extra></extra>",
         "hovertext": [
          "Vechain"
         ],
         "legendgroup": "3",
         "marker": {
          "color": [
           3
          ],
          "coloraxis": "coloraxis",
          "symbol": "x"
         },
         "mode": "markers",
         "name": "3",
         "scene": "scene",
         "showlegend": true,
         "type": "scatter3d",
         "x": [
          17.072662688956267
         ],
         "y": [
          2.7885443598088266
         ],
         "z": [
          -12.392982994895377
         ]
        },
        {
         "customdata": [
          [
           "SHA-256 + Hive"
          ],
          [
           "Proof-of-Authority"
          ],
          [
           "ECC 256K1"
          ],
          [
           "Leased POS"
          ]
         ],
         "hovertemplate": "<b>%{hovertext}</b><br><br>Class=%{marker.color}<br>PC1=%{x}<br>PC2=%{y}<br>PC3=%{z}<br>Algorithm=%{customdata[0]}<extra></extra>",
         "hovertext": [
          "LitecoinCash",
          "Poa Network",
          "Acute Angle Cloud",
          "Waves"
         ],
         "legendgroup": "2",
         "marker": {
          "color": [
           2,
           2,
           2,
           2
          ],
          "coloraxis": "coloraxis",
          "symbol": "cross"
         },
         "mode": "markers",
         "name": "2",
         "scene": "scene",
         "showlegend": true,
         "type": "scatter3d",
         "x": [
          5.759107058050283,
          2.8506252829618344,
          6.549455620438757,
          0.8201388233749486
         ],
         "y": [
          3.2231839135264124,
          3.3355188565620155,
          3.2016947170066588,
          3.4190946106641964
         ],
         "z": [
          9.671038720598126,
          15.405685297245235,
          9.05616636583913,
          19.947059862463288
         ]
        }
       ],
       "layout": {
        "coloraxis": {
         "colorbar": {
          "title": {
           "text": "Class"
          }
         },
         "colorscale": [
          [
           0,
           "#0d0887"
          ],
          [
           0.1111111111111111,
           "#46039f"
          ],
          [
           0.2222222222222222,
           "#7201a8"
          ],
          [
           0.3333333333333333,
           "#9c179e"
          ],
          [
           0.4444444444444444,
           "#bd3786"
          ],
          [
           0.5555555555555556,
           "#d8576b"
          ],
          [
           0.6666666666666666,
           "#ed7953"
          ],
          [
           0.7777777777777778,
           "#fb9f3a"
          ],
          [
           0.8888888888888888,
           "#fdca26"
          ],
          [
           1,
           "#f0f921"
          ]
         ]
        },
        "legend": {
         "title": {
          "text": "Class"
         },
         "tracegroupgap": 0,
         "x": 0,
         "y": 1
        },
        "margin": {
         "t": 60
        },
        "scene": {
         "domain": {
          "x": [
           0,
           1
          ],
          "y": [
           0,
           1
          ]
         },
         "xaxis": {
          "title": {
           "text": "PC1"
          }
         },
         "yaxis": {
          "title": {
           "text": "PC2"
          }
         },
         "zaxis": {
          "title": {
           "text": "PC3"
          }
         }
        },
        "template": {
         "data": {
          "bar": [
           {
            "error_x": {
             "color": "#2a3f5f"
            },
            "error_y": {
             "color": "#2a3f5f"
            },
            "marker": {
             "line": {
              "color": "#E5ECF6",
              "width": 0.5
             }
            },
            "type": "bar"
           }
          ],
          "barpolar": [
           {
            "marker": {
             "line": {
              "color": "#E5ECF6",
              "width": 0.5
             }
            },
            "type": "barpolar"
           }
          ],
          "carpet": [
           {
            "aaxis": {
             "endlinecolor": "#2a3f5f",
             "gridcolor": "white",
             "linecolor": "white",
             "minorgridcolor": "white",
             "startlinecolor": "#2a3f5f"
            },
            "baxis": {
             "endlinecolor": "#2a3f5f",
             "gridcolor": "white",
             "linecolor": "white",
             "minorgridcolor": "white",
             "startlinecolor": "#2a3f5f"
            },
            "type": "carpet"
           }
          ],
          "choropleth": [
           {
            "colorbar": {
             "outlinewidth": 0,
             "ticks": ""
            },
            "type": "choropleth"
           }
          ],
          "contour": [
           {
            "colorbar": {
             "outlinewidth": 0,
             "ticks": ""
            },
            "colorscale": [
             [
              0,
              "#0d0887"
             ],
             [
              0.1111111111111111,
              "#46039f"
             ],
             [
              0.2222222222222222,
              "#7201a8"
             ],
             [
              0.3333333333333333,
              "#9c179e"
             ],
             [
              0.4444444444444444,
              "#bd3786"
             ],
             [
              0.5555555555555556,
              "#d8576b"
             ],
             [
              0.6666666666666666,
              "#ed7953"
             ],
             [
              0.7777777777777778,
              "#fb9f3a"
             ],
             [
              0.8888888888888888,
              "#fdca26"
             ],
             [
              1,
              "#f0f921"
             ]
            ],
            "type": "contour"
           }
          ],
          "contourcarpet": [
           {
            "colorbar": {
             "outlinewidth": 0,
             "ticks": ""
            },
            "type": "contourcarpet"
           }
          ],
          "heatmap": [
           {
            "colorbar": {
             "outlinewidth": 0,
             "ticks": ""
            },
            "colorscale": [
             [
              0,
              "#0d0887"
             ],
             [
              0.1111111111111111,
              "#46039f"
             ],
             [
              0.2222222222222222,
              "#7201a8"
             ],
             [
              0.3333333333333333,
              "#9c179e"
             ],
             [
              0.4444444444444444,
              "#bd3786"
             ],
             [
              0.5555555555555556,
              "#d8576b"
             ],
             [
              0.6666666666666666,
              "#ed7953"
             ],
             [
              0.7777777777777778,
              "#fb9f3a"
             ],
             [
              0.8888888888888888,
              "#fdca26"
             ],
             [
              1,
              "#f0f921"
             ]
            ],
            "type": "heatmap"
           }
          ],
          "heatmapgl": [
           {
            "colorbar": {
             "outlinewidth": 0,
             "ticks": ""
            },
            "colorscale": [
             [
              0,
              "#0d0887"
             ],
             [
              0.1111111111111111,
              "#46039f"
             ],
             [
              0.2222222222222222,
              "#7201a8"
             ],
             [
              0.3333333333333333,
              "#9c179e"
             ],
             [
              0.4444444444444444,
              "#bd3786"
             ],
             [
              0.5555555555555556,
              "#d8576b"
             ],
             [
              0.6666666666666666,
              "#ed7953"
             ],
             [
              0.7777777777777778,
              "#fb9f3a"
             ],
             [
              0.8888888888888888,
              "#fdca26"
             ],
             [
              1,
              "#f0f921"
             ]
            ],
            "type": "heatmapgl"
           }
          ],
          "histogram": [
           {
            "marker": {
             "colorbar": {
              "outlinewidth": 0,
              "ticks": ""
             }
            },
            "type": "histogram"
           }
          ],
          "histogram2d": [
           {
            "colorbar": {
             "outlinewidth": 0,
             "ticks": ""
            },
            "colorscale": [
             [
              0,
              "#0d0887"
             ],
             [
              0.1111111111111111,
              "#46039f"
             ],
             [
              0.2222222222222222,
              "#7201a8"
             ],
             [
              0.3333333333333333,
              "#9c179e"
             ],
             [
              0.4444444444444444,
              "#bd3786"
             ],
             [
              0.5555555555555556,
              "#d8576b"
             ],
             [
              0.6666666666666666,
              "#ed7953"
             ],
             [
              0.7777777777777778,
              "#fb9f3a"
             ],
             [
              0.8888888888888888,
              "#fdca26"
             ],
             [
              1,
              "#f0f921"
             ]
            ],
            "type": "histogram2d"
           }
          ],
          "histogram2dcontour": [
           {
            "colorbar": {
             "outlinewidth": 0,
             "ticks": ""
            },
            "colorscale": [
             [
              0,
              "#0d0887"
             ],
             [
              0.1111111111111111,
              "#46039f"
             ],
             [
              0.2222222222222222,
              "#7201a8"
             ],
             [
              0.3333333333333333,
              "#9c179e"
             ],
             [
              0.4444444444444444,
              "#bd3786"
             ],
             [
              0.5555555555555556,
              "#d8576b"
             ],
             [
              0.6666666666666666,
              "#ed7953"
             ],
             [
              0.7777777777777778,
              "#fb9f3a"
             ],
             [
              0.8888888888888888,
              "#fdca26"
             ],
             [
              1,
              "#f0f921"
             ]
            ],
            "type": "histogram2dcontour"
           }
          ],
          "mesh3d": [
           {
            "colorbar": {
             "outlinewidth": 0,
             "ticks": ""
            },
            "type": "mesh3d"
           }
          ],
          "parcoords": [
           {
            "line": {
             "colorbar": {
              "outlinewidth": 0,
              "ticks": ""
             }
            },
            "type": "parcoords"
           }
          ],
          "pie": [
           {
            "automargin": true,
            "type": "pie"
           }
          ],
          "scatter": [
           {
            "marker": {
             "colorbar": {
              "outlinewidth": 0,
              "ticks": ""
             }
            },
            "type": "scatter"
           }
          ],
          "scatter3d": [
           {
            "line": {
             "colorbar": {
              "outlinewidth": 0,
              "ticks": ""
             }
            },
            "marker": {
             "colorbar": {
              "outlinewidth": 0,
              "ticks": ""
             }
            },
            "type": "scatter3d"
           }
          ],
          "scattercarpet": [
           {
            "marker": {
             "colorbar": {
              "outlinewidth": 0,
              "ticks": ""
             }
            },
            "type": "scattercarpet"
           }
          ],
          "scattergeo": [
           {
            "marker": {
             "colorbar": {
              "outlinewidth": 0,
              "ticks": ""
             }
            },
            "type": "scattergeo"
           }
          ],
          "scattergl": [
           {
            "marker": {
             "colorbar": {
              "outlinewidth": 0,
              "ticks": ""
             }
            },
            "type": "scattergl"
           }
          ],
          "scattermapbox": [
           {
            "marker": {
             "colorbar": {
              "outlinewidth": 0,
              "ticks": ""
             }
            },
            "type": "scattermapbox"
           }
          ],
          "scatterpolar": [
           {
            "marker": {
             "colorbar": {
              "outlinewidth": 0,
              "ticks": ""
             }
            },
            "type": "scatterpolar"
           }
          ],
          "scatterpolargl": [
           {
            "marker": {
             "colorbar": {
              "outlinewidth": 0,
              "ticks": ""
             }
            },
            "type": "scatterpolargl"
           }
          ],
          "scatterternary": [
           {
            "marker": {
             "colorbar": {
              "outlinewidth": 0,
              "ticks": ""
             }
            },
            "type": "scatterternary"
           }
          ],
          "surface": [
           {
            "colorbar": {
             "outlinewidth": 0,
             "ticks": ""
            },
            "colorscale": [
             [
              0,
              "#0d0887"
             ],
             [
              0.1111111111111111,
              "#46039f"
             ],
             [
              0.2222222222222222,
              "#7201a8"
             ],
             [
              0.3333333333333333,
              "#9c179e"
             ],
             [
              0.4444444444444444,
              "#bd3786"
             ],
             [
              0.5555555555555556,
              "#d8576b"
             ],
             [
              0.6666666666666666,
              "#ed7953"
             ],
             [
              0.7777777777777778,
              "#fb9f3a"
             ],
             [
              0.8888888888888888,
              "#fdca26"
             ],
             [
              1,
              "#f0f921"
             ]
            ],
            "type": "surface"
           }
          ],
          "table": [
           {
            "cells": {
             "fill": {
              "color": "#EBF0F8"
             },
             "line": {
              "color": "white"
             }
            },
            "header": {
             "fill": {
              "color": "#C8D4E3"
             },
             "line": {
              "color": "white"
             }
            },
            "type": "table"
           }
          ]
         },
         "layout": {
          "annotationdefaults": {
           "arrowcolor": "#2a3f5f",
           "arrowhead": 0,
           "arrowwidth": 1
          },
          "coloraxis": {
           "colorbar": {
            "outlinewidth": 0,
            "ticks": ""
           }
          },
          "colorscale": {
           "diverging": [
            [
             0,
             "#8e0152"
            ],
            [
             0.1,
             "#c51b7d"
            ],
            [
             0.2,
             "#de77ae"
            ],
            [
             0.3,
             "#f1b6da"
            ],
            [
             0.4,
             "#fde0ef"
            ],
            [
             0.5,
             "#f7f7f7"
            ],
            [
             0.6,
             "#e6f5d0"
            ],
            [
             0.7,
             "#b8e186"
            ],
            [
             0.8,
             "#7fbc41"
            ],
            [
             0.9,
             "#4d9221"
            ],
            [
             1,
             "#276419"
            ]
           ],
           "sequential": [
            [
             0,
             "#0d0887"
            ],
            [
             0.1111111111111111,
             "#46039f"
            ],
            [
             0.2222222222222222,
             "#7201a8"
            ],
            [
             0.3333333333333333,
             "#9c179e"
            ],
            [
             0.4444444444444444,
             "#bd3786"
            ],
            [
             0.5555555555555556,
             "#d8576b"
            ],
            [
             0.6666666666666666,
             "#ed7953"
            ],
            [
             0.7777777777777778,
             "#fb9f3a"
            ],
            [
             0.8888888888888888,
             "#fdca26"
            ],
            [
             1,
             "#f0f921"
            ]
           ],
           "sequentialminus": [
            [
             0,
             "#0d0887"
            ],
            [
             0.1111111111111111,
             "#46039f"
            ],
            [
             0.2222222222222222,
             "#7201a8"
            ],
            [
             0.3333333333333333,
             "#9c179e"
            ],
            [
             0.4444444444444444,
             "#bd3786"
            ],
            [
             0.5555555555555556,
             "#d8576b"
            ],
            [
             0.6666666666666666,
             "#ed7953"
            ],
            [
             0.7777777777777778,
             "#fb9f3a"
            ],
            [
             0.8888888888888888,
             "#fdca26"
            ],
            [
             1,
             "#f0f921"
            ]
           ]
          },
          "colorway": [
           "#636efa",
           "#EF553B",
           "#00cc96",
           "#ab63fa",
           "#FFA15A",
           "#19d3f3",
           "#FF6692",
           "#B6E880",
           "#FF97FF",
           "#FECB52"
          ],
          "font": {
           "color": "#2a3f5f"
          },
          "geo": {
           "bgcolor": "white",
           "lakecolor": "white",
           "landcolor": "#E5ECF6",
           "showlakes": true,
           "showland": true,
           "subunitcolor": "white"
          },
          "hoverlabel": {
           "align": "left"
          },
          "hovermode": "closest",
          "mapbox": {
           "style": "light"
          },
          "paper_bgcolor": "white",
          "plot_bgcolor": "#E5ECF6",
          "polar": {
           "angularaxis": {
            "gridcolor": "white",
            "linecolor": "white",
            "ticks": ""
           },
           "bgcolor": "#E5ECF6",
           "radialaxis": {
            "gridcolor": "white",
            "linecolor": "white",
            "ticks": ""
           }
          },
          "scene": {
           "xaxis": {
            "backgroundcolor": "#E5ECF6",
            "gridcolor": "white",
            "gridwidth": 2,
            "linecolor": "white",
            "showbackground": true,
            "ticks": "",
            "zerolinecolor": "white"
           },
           "yaxis": {
            "backgroundcolor": "#E5ECF6",
            "gridcolor": "white",
            "gridwidth": 2,
            "linecolor": "white",
            "showbackground": true,
            "ticks": "",
            "zerolinecolor": "white"
           },
           "zaxis": {
            "backgroundcolor": "#E5ECF6",
            "gridcolor": "white",
            "gridwidth": 2,
            "linecolor": "white",
            "showbackground": true,
            "ticks": "",
            "zerolinecolor": "white"
           }
          },
          "shapedefaults": {
           "line": {
            "color": "#2a3f5f"
           }
          },
          "ternary": {
           "aaxis": {
            "gridcolor": "white",
            "linecolor": "white",
            "ticks": ""
           },
           "baxis": {
            "gridcolor": "white",
            "linecolor": "white",
            "ticks": ""
           },
           "bgcolor": "#E5ECF6",
           "caxis": {
            "gridcolor": "white",
            "linecolor": "white",
            "ticks": ""
           }
          },
          "title": {
           "x": 0.05
          },
          "xaxis": {
           "automargin": true,
           "gridcolor": "white",
           "linecolor": "white",
           "ticks": "",
           "title": {
            "standoff": 15
           },
           "zerolinecolor": "white",
           "zerolinewidth": 2
          },
          "yaxis": {
           "automargin": true,
           "gridcolor": "white",
           "linecolor": "white",
           "ticks": "",
           "title": {
            "standoff": 15
           },
           "zerolinecolor": "white",
           "zerolinewidth": 2
          }
         }
        },
        "width": 800
       }
      },
      "text/html": [
       "<div>\n",
       "        \n",
       "        \n",
       "            <div id=\"f5f5160c-5b66-4f98-a00a-e2b65c54fbc5\" class=\"plotly-graph-div\" style=\"height:525px; width:800px;\"></div>\n",
       "            <script type=\"text/javascript\">\n",
       "                require([\"plotly\"], function(Plotly) {\n",
       "                    window.PLOTLYENV=window.PLOTLYENV || {};\n",
       "                    \n",
       "                if (document.getElementById(\"f5f5160c-5b66-4f98-a00a-e2b65c54fbc5\")) {\n",
       "                    Plotly.newPlot(\n",
       "                        'f5f5160c-5b66-4f98-a00a-e2b65c54fbc5',\n",
       "                        [{\"customdata\": [[\"Scrypt\"], [\"Scrypt\"], [\"X11\"], [\"SHA-256\"], [\"SHA-256\"], [\"X15\"], [\"Scrypt\"], [\"Scrypt\"], [\"Scrypt\"], [\"Groestl\"], [\"Scrypt\"], [\"X11\"], [\"SHA3\"], [\"SHA-256\"], [\"Scrypt\"], [\"NeoScrypt\"], [\"Scrypt\"], [\"Scrypt\"], [\"X11\"], [\"X11\"], [\"Scrypt\"], [\"Scrypt\"], [\"X11\"], [\"Scrypt\"], [\"Counterparty\"], [\"SHA-256\"], [\"X13\"], [\"Scrypt\"], [\"X13\"], [\"X11\"], [\"Scrypt\"], [\"SHA3\"], [\"QUAIT\"], [\"Scrypt\"], [\"X13\"], [\"SHA-256\"], [\"X15\"], [\"BLAKE256\"], [\"SHA-256\"], [\"SHA-256\"], [\"Scrypt\"], [\"Scrypt\"], [\"X11\"], [\"SHA-256\"], [\"PoS\"], [\"X11\"], [\"SHA-256\"], [\"SHA-256\"], [\"NIST5\"], [\"X11\"], [\"POS 3.0\"], [\"Scrypt\"], [\"Scrypt\"], [\"Scrypt\"], [\"X13\"], [\"X11\"], [\"X11\"], [\"Scrypt\"], [\"SHA-256\"], [\"X11\"], [\"Scrypt\"], [\"PoS\"], [\"X11\"], [\"PoS\"], [\"X13\"], [\"X14\"], [\"PoS\"], [\"X11\"], [\"PoS\"], [\"Scrypt\"], [\"Scrypt\"], [\"PoS\"], [\"X11\"], [\"SHA-256\"], [\"Scrypt\"], [\"X11\"], [\"Scrypt\"], [\"Scrypt\"], [\"X11\"], [\"Scrypt\"], [\"Scrypt\"], [\"Scrypt\"], [\"Quark\"], [\"QuBit\"], [\"Scrypt\"], [\"SHA-256\"], [\"X11\"], [\"Scrypt\"], [\"Scrypt\"], [\"Scrypt\"], [\"Scrypt\"], [\"X13\"], [\"Scrypt\"], [\"Scrypt\"], [\"X11\"], [\"Blake2S\"], [\"X11\"], [\"PoS\"], [\"X11\"], [\"PoS\"], [\"X11\"], [\"Scrypt\"], [\"Scrypt\"], [\"Scrypt\"], [\"X11\"], [\"Scrypt\"], [\"PoS\"], [\"Scrypt\"], [\"SHA-256\"], [\"POS 3.0\"], [\"NIST5\"], [\"NIST5\"], [\"Skein\"], [\"X13\"], [\"SkunkHash v2 Raptor\"], [\"Skein\"], [\"X11\"], [\"PoS\"], [\"Scrypt\"], [\"Scrypt\"], [\"SHA-512\"], [\"X11\"], [\"NeoScrypt\"], [\"Scrypt\"], [\"Lyra2REv2\"], [\"SHA-256\"], [\"NIST5\"], [\"PHI1612\"], [\"Scrypt\"], [\"Quark\"], [\"POS 2.0\"], [\"Scrypt\"], [\"X11\"], [\"X13\"], [\"Scrypt\"], [\"NIST5\"], [\"Quark\"], [\"Scrypt\"], [\"X11\"], [\"Quark\"], [\"Scrypt\"], [\"Scrypt\"], [\"X11\"], [\"POS 3.0\"], [\"Ethash\"], [\"Scrypt\"], [\"Scrypt\"], [\"X13\"], [\"C11\"], [\"X11\"], [\"XEVAN\"], [\"Scrypt\"], [\"NIST5\"], [\"Scrypt\"], [\"Scrypt\"], [\"Scrypt\"], [\"Green Protocol\"], [\"PoS\"], [\"Scrypt\"], [\"Quark\"], [\"PoS\"], [\"X16R\"], [\"Scrypt\"], [\"XEVAN\"], [\"Scrypt\"], [\"Scrypt\"], [\"SHA-256D\"], [\"Scrypt\"], [\"X15\"], [\"Quark\"], [\"SHA-256\"], [\"DPoS\"], [\"X16R\"], [\"Quark\"], [\"Quark\"], [\"Scrypt\"], [\"Lyra2REv2\"], [\"Quark\"], [\"Scrypt\"], [\"X11\"], [\"X11\"], [\"Scrypt\"], [\"PoS\"], [\"Keccak\"], [\"X11\"], [\"XEVAN\"], [\"Quark\"], [\"Equihash\"], [\"Scrypt\"], [\"Quark\"], [\"Quark\"], [\"X11\"], [\"Scrypt\"], [\"XEVAN\"], [\"X11\"], [\"X13\"], [\"X11\"], [\"Scrypt\"], [\"Scrypt\"], [\"SHA-256\"], [\"X11\"], [\"Scrypt\"], [\"SHA-256\"], [\"X11\"], [\"Scrypt\"], [\"Scrypt\"], [\"X11\"], [\"Scrypt\"], [\"PoS\"], [\"X11\"], [\"SHA-256\"], [\"Scrypt\"], [\"NeoScrypt\"], [\"X13\"], [\"SHA-256\"], [\"PoS\"], [\"Scrypt\"], [\"Scrypt\"]], \"hovertemplate\": \"<b>%{hovertext}</b><br><br>Class=%{marker.color}<br>PC1=%{x}<br>PC2=%{y}<br>PC3=%{z}<br>Algorithm=%{customdata[0]}<extra></extra>\", \"hovertext\": [\"42 Coin\", \"404Coin\", \"Dash\", \"BitcoinDark\", \"PayCoin\", \"KoboCoin\", \"Aurora Coin\", \"BitBar\", \"CryptoBullion\", \"Diamond\", \"HoboNickels\", \"IOCoin\", \"MaxCoin\", \"MazaCoin\", \"Nautilus Coin\", \"Orbitcoin\", \"PotCoin\", \"PhoenixCoin\", \"SyncCoin\", \"TorCoin\", \"UnitaryStatus Dollar\", \"UltraCoin\", \"X11 Coin\", \"ZCC Coin\", \"StorjCoin\", \"Neutron\", \"Kore\", \"Dnotes\", \"Sativa Coin\", \"Ucoin\", \"Vtorrent\", \"Nexus\", \"Droidz\", \"Diggits\", \"Paycon\", \"Emercoin\", \"EverGreenCoin\", \"Decred\", \"EDRCoin\", \"DubaiCoin\", \"BillaryCoin\", \"GPU Coin\", \"EuropeCoin\", \"SwingCoin\", \"Nebuchadnezzar\", \"Ratecoin\", \"Revenu\", \"Clockcoin\", \"VIP Tokens\", \"BitSend\", \"Let it Ride\", \"PutinCoin\", \"iBankCoin\", \"Frankywillcoin\", \"MudraCoin\", \"Lutetium Coin\", \"GoldBlocks\", \"CarterCoin\", \"BitTokens\", \"MustangCoin\", \"ZoneCoin\", \"Opair\", \"Halloween Coin\", \"CoffeeCoin\", \"RoyalCoin\", \"GanjaCoin V2\", \"TeamUP\", \"InsaneCoin\", \"FreeCoin\", \"PLNCoin\", \"AquariusCoin\", \"Creatio\", \"Eternity\", \"Eurocoin\", \"BitcoinFast\", \"Stakenet\", \"BitConnect Coin\", \"MoneyCoin\", \"Enigma\", \"Russiacoin\", \"GameUnits\", \"GAKHcoin\", \"Allsafe\", \"LiteCreed\", \"Klingon Empire Darsek\", \"Internet of People\", \"KushCoin\", \"Printerium\", \"Impeach\", \"Zilbercoin\", \"FirstCoin\", \"FindCoin\", \"OpenChat\", \"RenosCoin\", \"VirtacoinPlus\", \"TajCoin\", \"Impact\", \"Atmos\", \"HappyCoin\", \"MacronCoin\", \"Condensate\", \"Independent Money System\", \"ArgusCoin\", \"LomoCoin\", \"GoldReserve\", \"GrowthCoin\", \"Phreak\", \"Degas Coin\", \"Ultimate Secure Cash\", \"QTUM\", \"Denarius\", \"Virta Unique Coin\", \"Bitcoin Planet\", \"BritCoin\", \"Signatum\", \"Cream\", \"Monoeci\", \"Stakecoin\", \"CoinonatX\", \"Ethereum Dark\", \"Obsidian\", \"Regalcoin\", \"TrezarCoin\", \"TerraNovaCoin\", \"Rupee\", \"Theresa May Coin\", \"NamoCoin\", \"LUXCoin\", \"Xios\", \"Bitcloud 2.0\", \"KekCoin\", \"BlackholeCoin\", \"Magnet\", \"Bitcoin Diamond\", \"Cash & Back Coin\", \"Bulwark\", \"Kalkulus\", \"LiteCoin Ultra\", \"PhantomX\", \"Digiwage\", \"Trollcoin\", \"Litecoin Plus\", \"Monkey Project\", \"TokenPay\", \"1717 Masonic Commemorative Token\", \"My Big Coin\", \"Unified Society USDEX\", \"Tokyo Coin\", \"Stipend\", \"Pushi\", \"Ellerium\", \"Velox\", \"Bitspace\", \"Briacoin\", \"Ignition\", \"MedicCoin\", \"Bitcoin Green\", \"Deviant Coin\", \"Abjcoin\", \"Carebit\", \"Zealium\", \"Proton\", \"iDealCash\", \"Bitcoin Incognito\", \"HollyWoodCoin\", \"Xt3ch\", \"TheVig\", \"EmaratCoin\", \"Dekado\", \"Poseidon Quark\", \"BitcoinWSpectrum\", \"Muse\", \"Trivechain\", \"Dystem\", \"Giant\", \"Peony Coin\", \"Absolute Coin\", \"Vitae\", \"TPCash\", \"ARENON\", \"EUNO\", \"MMOCoin\", \"Ketan\", \"XDNA\", \"PAXEX\", \"Bettex coin\", \"HerbCoin\", \"PirateCash\", \"Oduwa\", \"Galilel\", \"Crypto Sports\", \"Dash Platinum\", \"Nasdacoin\", \"Beetle Coin\", \"Award\", \"Bitcoin Rhodium\", \"Insane Coin\", \"OrangeCoin\", \"BitstarCoin\", \"NeosCoin\", \"PinkCoin\", \"AudioCoin\", \"IncaKoin\", \"Piggy Coin\", \"Genstake\", \"XiaoMiCoin\", \"CapriCoin\", \" ClubCoin\", \"Radium\", \"Creditbit \", \"OKCash\", \"WhiteCoin\", \"FriendshipCoin\", \"Triangles Coin\", \"TigerCash\", \"Particl\", \"Gapcoin\", \"BitcoinPlus\"], \"legendgroup\": \"1\", \"marker\": {\"color\": [1, 1, 1, 1, 1, 1, 1, 1, 1, 1, 1, 1, 1, 1, 1, 1, 1, 1, 1, 1, 1, 1, 1, 1, 1, 1, 1, 1, 1, 1, 1, 1, 1, 1, 1, 1, 1, 1, 1, 1, 1, 1, 1, 1, 1, 1, 1, 1, 1, 1, 1, 1, 1, 1, 1, 1, 1, 1, 1, 1, 1, 1, 1, 1, 1, 1, 1, 1, 1, 1, 1, 1, 1, 1, 1, 1, 1, 1, 1, 1, 1, 1, 1, 1, 1, 1, 1, 1, 1, 1, 1, 1, 1, 1, 1, 1, 1, 1, 1, 1, 1, 1, 1, 1, 1, 1, 1, 1, 1, 1, 1, 1, 1, 1, 1, 1, 1, 1, 1, 1, 1, 1, 1, 1, 1, 1, 1, 1, 1, 1, 1, 1, 1, 1, 1, 1, 1, 1, 1, 1, 1, 1, 1, 1, 1, 1, 1, 1, 1, 1, 1, 1, 1, 1, 1, 1, 1, 1, 1, 1, 1, 1, 1, 1, 1, 1, 1, 1, 1, 1, 1, 1, 1, 1, 1, 1, 1, 1, 1, 1, 1, 1, 1, 1, 1, 1, 1, 1, 1, 1, 1, 1, 1, 1, 1, 1, 1, 1, 1, 1, 1, 1, 1, 1, 1, 1, 1, 1, 1, 1, 1, 1, 1, 1, 1, 1, 1, 1], \"coloraxis\": \"coloraxis\", \"symbol\": \"circle\"}, \"mode\": \"markers\", \"name\": \"1\", \"scene\": \"scene\", \"showlegend\": true, \"type\": \"scatter3d\", \"x\": [-4.8916213874462455, 0.2633804366837788, -1.254015493070605, -1.283379421191628, -0.7002676817603871, -0.2383552218964696, -0.900675202809912, -2.3934673989557145, -1.7768201615215589, -1.5832567775558355, -0.3538870187751907, -1.146109379787607, -0.5688096755734646, 0.5581374751120003, -0.6170799647856763, -1.463899762189078, -0.021995126077143514, -0.4140377775226861, -4.168638511125286, -1.6668339715016345, 0.4322616895276307, -0.47334615727018814, -1.5005595794161308, 0.04010597726598039, 0.27752595123052537, -0.567422263131961, -1.3821525284841243, 0.2718176356935553, -1.2068837088240791, -1.1558801652468849, -0.9465850497910142, -0.3868670513632746, -1.9862429892262023, -0.055250647512434525, -0.7799588614348574, -0.1556508304522596, -0.7222858981352754, -0.3971188052855588, -1.1148840921801086, -1.1700183296477717, -0.8781565122245244, -0.08394806304503691, -0.809590912696709, -0.9983595968695231, -0.622642219986251, -0.6382099315335554, -0.9542014636392484, -0.4035331282366946, -0.4808125360923023, -0.8222732138465804, -0.46982174714773406, 0.4166458304262944, -0.9808424294474161, -0.36248315811792253, -0.5143875810163777, 0.24432303684010193, -1.0453362590454527, -0.5133038265266656, -1.4145918855853699, -1.9696290567570032, -1.1814001372580718, -0.21899886314479483, -0.08760625137218661, -0.1973723734629172, -1.2720301491649864, -0.4994112559843555, -0.24150239212520158, -1.0941917390830773, -0.34000215486680685, -0.7875480240897692, -1.0876861899932997, -0.622642219986251, -1.1700970227472103, -0.9326502329599827, -0.7831503401507809, -0.6153464813946481, -0.9044196926761141, -0.4430743457024546, -1.8598362888789424, -0.7080147370275705, -1.2043635726305462, -1.4132481217747672, -0.9704683221224052, -0.7665549513553119, -0.3552485098533181, -1.1818781645262335, -1.4553740141517852, -0.9436015955454016, -1.5172827731438316, -0.7122651262417915, 0.08763507805431145, 0.6285876151940376, 0.34777481785850756, -0.3767544921407189, -0.9701288046814427, -1.3641286677762599, -0.6132721069058462, -0.09475125413331317, -0.8909569683391942, 0.30199592409326836, -0.37473436729614956, -1.0620307800493778, -1.2663374459147294, -0.8762123441283783, -1.062406054407856, 0.5606870479138754, -0.6535219393478077, -0.6038761745163521, -0.3153092363301129, -0.15525782127274296, -1.2871999686907711, -0.48381680132345645, -1.1493651864512036, -0.8681741206222349, 0.15280329505608867, -0.8370248800083608, -1.324476087055081, -0.7159654391811888, -0.7328408420245828, -1.340331330544022, 0.5536617631747535, -1.2589253282576023, -0.1259959742750448, -1.3555126655271474, -0.4606146685078891, -0.3727752704087826, 0.2077843622589951, -0.6859083467013617, -1.2109059910211337, -0.7232623130554857, -0.9618857005117777, 0.0826396849186063, -0.7448051474199964, -0.23423543546152978, -0.23632797556718413, -0.6435954728066801, -0.8511561915049174, -0.7012001122554152, -0.873744930577614, -0.5103041919724594, 0.24755483213340534, -1.4307780281650377, -1.0691727629314283, -0.6152584797060329, -1.2272808837769262, -0.9580609617774415, -0.1009288215332943, 0.3067350726863184, -1.3659857809731364, -1.4649567453813856, -1.3130878485715407, -0.24314405424196545, -0.8574015683218204, -1.648030730197959, -1.5187741002483486, 0.3403529733508546, -1.0276015943175922, -0.38976821093069614, -0.9127093764081388, -0.47927626345169455, -0.5134346821630628, -0.9307599937029786, 0.643266044823984, -0.99792030253411, -0.40669287193495307, -0.5906353685912961, -0.008752670184586612, -0.63497041945256, -0.10392926442655709, -0.6328250513503683, -0.14006250396237438, 0.6955709058842857, -0.8061338875239081, -0.9845432512214712, -1.5278457155320788, -0.03407970514020444, -0.7471065155694266, -0.394896697909597, -0.4929163445078014, -0.689660402888992, -0.9355730430185275, 0.0976604448433402, -0.39881645100421614, -0.3196669580994216, -0.8355679853568191, -0.5843746135696722, -0.8938180895419707, -0.2294431975130526, -0.9004710401933761, -1.153694320616175, -1.260073239985824, -1.3713180584680664, -0.6430173020129637, -0.008185168283208501, -0.7330656081437872, -1.2688149054477165, -1.052414100208129, -0.7984369628617904, -0.7072238181266519, -0.785566810272523, -0.16906808445265845, 0.6913034678318329, 0.5708821564510208, -0.04681821254471186, -0.7244334078596604, 0.06686316838233686, -0.42290578988767097, -0.2874616170905069, -1.0068984008879898, -1.446910310335955, -0.39926696371722686, -0.05167686925754322, -1.225544126310173, -2.490221606563638, 0.6580534154424785, -0.8700812201444857, -0.5336337006362015, -1.8063928846913702], \"y\": [1.0283228872333272, 0.9505309061823226, 1.2152869556374495, 0.8776712615744323, 0.7935033586042017, 1.8792490721943924, 0.9673978286953397, 0.9862980726482986, 0.9807376518418371, 0.6390317274530876, 0.958454862540279, 1.2146735575124472, 2.0179425954689925, 0.853267963631537, 0.8833624266491689, 0.5594441050541911, 0.9528539890389733, 0.9593972406698257, 1.2614999183566562, 1.219971278345194, 0.9463062830792737, 0.9596744849742161, 1.2207985614086738, 0.9499289893339042, 1.7265833227573624, 0.8702556686417071, 1.7870125434923048, 0.8681376419676563, 1.7865567689406787, 1.1324824513124083, 0.9671363299670501, 2.273396446588632, 1.9235011668417492, 0.8747685722425351, 1.7793581986371159, 0.8599447627814159, 1.8896742605068, 0.9381543301335282, 0.8767134407824231, 0.8792198340850912, 0.9645476339172068, 0.8725799185483343, 1.2042824018816387, 0.8742785721799605, 1.8101753863259873, 1.208150185631736, 0.8689367846796625, 0.8632642653530572, 1.4790315997694523, 1.2073672516826792, 1.7520637254591493, 0.9457334719127269, 0.9649710580243239, 0.9590442782718969, 1.691209205513741, 1.114169913881673, 1.2116666480884246, 0.9602140014169801, 0.8785550693614503, 1.2252620954422087, 0.9683264949735606, 1.8040018831737368, 1.1961384437223257, 1.8057028681877205, 1.7085078367106812, 1.8976027648541085, 1.7999700299632067, 1.2134588754908275, 1.8058520669575593, 0.96428745937347, 0.9657387166794844, 1.8101753863259873, 1.2118353068698706, 0.8759601000570695, 0.9647225681818457, 0.7300197592071073, 0.9658990592580031, 0.9539498394205412, 1.2231234667380924, 0.9599273701545519, 0.9698788794990306, 0.9751169908122201, 1.672443460765038, 0.9443856263412691, 0.9542314595573085, 0.8772321956537701, 1.218967216517827, 0.9671193703603641, 0.9701069124815552, 0.8802758853277513, 0.25380175963312857, 1.665180013884823, 0.9481800292036637, 0.8797577010785189, 1.209184070952099, 1.9084949548421237, 1.2068729223097323, 1.8021124843258174, 1.2087340143752487, 1.7960374253185725, 1.201027826171349, 0.967618136017312, 0.9678935395407054, 0.955137850288563, 1.212425262621922, 0.8623854355970608, 1.8091487928833678, 0.9602718358704501, 0.7830935684061269, 1.7470331698281716, 1.4901299270070445, 1.4781957522485167, 1.9049662246831671, 1.7813741688284712, 1.7346330073371319, 1.9031907093531664, 1.21817493352288, 1.80737067564035, 0.9633101580790702, 0.9740016408858808, 1.7996334555889049, 1.2147076873849296, 0.5380096455085751, 0.970172311565864, 0.8437067066937327, 0.8680057676481163, 1.467437558837306, 1.8623673388915236, 0.9684942225918041, 1.74588775640682, 1.7520281446311041, 0.9417004704175249, 1.2068221054338175, 1.7720012377301582, 0.9561274319929451, 1.4009196728520799, 1.6709122990900855, 0.9597676022053421, 1.210691227920405, 1.6636624640222346, 0.9490621100369476, 0.9746604440521444, 1.131844904372131, 1.7537581810043767, 0.1273672579272158, 0.2675025862957748, 0.9550623636950115, 1.6824313768644932, 0.956043629949249, 1.216107059694091, 1.5159965252542618, 0.8751988960334336, 1.4829150218364728, 0.9767483541914804, 0.97449908211289, 0.8677480491416674, 1.752428036707931, 1.8044589113637972, 0.9657416309993148, 1.7445008045391237, 1.8054444775773404, 0.8465820837424332, 0.9416571555173082, 1.317469567134546, 0.8807601948047488, 0.8802460547660789, 1.8955107258918722, 0.9611101731444951, 1.7999822853824679, 1.6593499353106798, 0.7841459093954375, 1.8471676313720242, 0.9266041099754607, 1.6715258909984465, 1.7613101039070496, 0.8594425116860924, 0.925543771120118, 1.6635469744068774, 0.9529589834909828, 1.126832985763493, 1.2110426931626403, 0.8710664218850745, 1.8019316333608155, 0.929481271441001, 1.1258899264714781, 1.4298654398119397, 1.7507392269309805, 0.0702128348890254, 0.9667295383586354, 1.7553077829339006, 1.6744307989332605, 1.1337519288529623, 0.9611559160827263, 1.5022925367830133, 1.203581705778769, -0.3206935567123034, 1.2132213882477674, 0.9594674249020125, 0.9628168271331254, 0.7924501161298139, 1.199858705086044, 0.9392558187507416, 0.8607385151313636, 1.197108712788157, 0.9667264223970335, 0.9524935233000792, 1.2039020135496843, 0.9572243383304144, 1.8147271425439158, 0.7437412248043722, 0.8680117070766381, 0.9540202959708282, 0.5498764076806409, 1.8069649205104596, 0.7727899908368685, 1.8140724392860252, 0.9573005561051469, 0.8983765333423493], \"z\": [-0.2862239212553213, -0.3870806487896342, -0.33343861965748617, -0.24607721751623296, -0.057913257533177116, -0.4663744745982138, -0.3662240730058524, -0.34696446864875496, -0.34875805116974273, -0.19970482742042592, -0.37881863272378935, -0.33276624699717383, -0.4338977745539913, -0.27281938995205207, -0.18423245323337079, -0.19173662172884465, -0.386936776775419, -0.37754671650255184, -0.2702998602283804, -0.32959999659370814, -0.39498148336576955, -0.37808054016465803, -0.3237029245312581, -0.39360345006246467, -0.1485266341923615, -0.2507915540866697, -0.4143047847988648, -0.20658968472646, -0.41173021592468534, -0.1521181818330754, -0.36794302466209067, -0.3234882534192672, -0.44915925606856205, -0.1955413670602864, -0.42215631839223117, -0.27008385993798534, -0.4483433308223687, -0.2992433973652077, -0.24502730802388983, -0.2393566343146587, -0.3735493189313356, -0.202169926674808, -0.3539207249863765, -0.24916223488004202, -0.11361069279408527, -0.33957368666001425, -0.2628484509794797, -0.2663891819451932, -0.3856240493625052, -0.34573730157777177, -0.11242871837976665, -0.3968931632086139, -0.37462878358201585, -0.3773897428835557, -0.251839470845856, -0.17178638428882548, -0.3388136981051881, -0.37747283560764705, -0.24651656076499345, -0.32169725963650403, -0.3698028904203469, -0.12173358445992856, -0.36050106865759685, -0.11659674425132723, -0.22093063657805495, -0.4872186956063983, -0.13328193990908513, -0.33496460742411166, -0.11929987995858328, -0.37228568483805896, -0.374854917127485, -0.11361069279408527, -0.34107354675714235, -0.24311682723656214, -0.3709964428050506, -0.14017849834221635, -0.3704161379816332, -0.39311975194411264, -0.3251666446170328, -0.3825076874209514, -0.3660465779333992, -0.3562391726640985, -0.16902685297916192, -0.2912793963459354, -0.3904309725863153, -0.24506650071779906, -0.3277393753215985, -0.36792443449136714, -0.3722493817248733, -0.19477428171901073, -0.2154524874249325, -0.29828345176147303, -0.3916863379494385, -0.18887424859819352, -0.3439810404277825, -0.47707559993025195, -0.3425323996516652, -0.12420404184079721, -0.3434877136216947, -0.13220743253330416, -0.35335739378509673, -0.3691408082708127, -0.3728436746823655, -0.3993131116256889, -0.33710568550395953, -0.2160616469547902, -0.117099936272558, -0.37929059630636935, -0.07806183622740218, -0.1193608846558273, -0.3727831299284623, -0.387981906737418, -0.49262520658749265, -0.4185524820216943, -0.12843257720053505, -0.4906789861521874, -0.32705588994273493, -0.12333897494422703, -0.37377216120295037, -0.35770689548170764, -0.12509054653077, -0.3351343928040998, -0.2213260871582176, -0.36854005471458634, -0.055647791885931254, -0.2527145056241316, -0.40239475407298814, -0.40529088282763354, -0.369986744038885, -0.36848188639112545, -0.10571130817766244, -0.4152419381136108, -0.345541934839659, -0.4304245121552987, -0.3826363372555653, -0.19712774929183569, -0.17062254593192677, -0.3827971477542997, -0.33774449716282934, -0.18306742918133856, -0.39145413328587964, -0.3578737650499666, -0.15197461214890834, -0.11095525655610206, 0.08729316464548985, -0.2016652814096293, -0.3826027413608703, -0.25799491543633196, -0.27229221254077335, -0.3357924242444041, -0.3452337403704652, -0.1984612143013192, -0.3831913270299195, -0.3568883485732193, -0.3602364524852077, -0.20616263489671416, -0.10617094947282829, -0.1242065326790285, -0.37102877148625474, -0.36696158745476254, -0.12420214425958488, -0.058751895763772384, -0.4031273518225331, -0.12838881073336947, -0.18677820451351712, -0.19220201977540408, -0.5137098075312251, -0.37766997130703345, -0.27455999534399206, -0.19756800283145098, -0.07135176094096132, -0.008895628087263747, -0.24284238861777463, -0.1718504045612636, -0.3437430288346618, -0.23711093098310224, -0.24373153226523675, -0.18086586159056223, -0.3969247599085247, -0.15743843273751584, -0.3381297536712809, -0.2023578099600321, -0.13133500243502885, -0.3222451823452082, -0.163208597384361, -0.15927662723388486, -0.3588984700778922, 0.07471761957385128, -0.3680523960451381, -0.35203999689572874, -0.1698960450292467, -0.15333770594385526, -0.37772011215327234, -0.3543425978485974, -0.35417252373658675, -0.008481377460469862, -0.3347042872129829, -0.3857421768119759, -0.3745661285210101, -0.06266306663824522, -0.352075868748889, -0.4086647682134827, -0.25205339354102796, -0.3569500855527412, -0.36421964034723575, -0.38598638087220033, -0.3465261143826615, -0.38074386762321394, -0.10951237640310316, -0.12108701238241452, -0.25327628964749704, -0.384385876938912, -0.21277477776858758, -0.38376471020058583, -0.08507961335198805, -0.10832241678635804, -0.38590653998412766, -0.169008338936058]}, {\"customdata\": [[\"X13\"], [\"SHA-512\"], [\"Scrypt\"], [\"PHI1612\"], [\"Shabal256\"], [\"X11\"], [\"Scrypt\"], [\"Scrypt\"], [\"Scrypt\"], [\"SHA-256D\"], [\"SHA-256D\"], [\"DPoS\"], [\"X13\"], [\"X11\"], [\"Scrypt\"], [\"SHA-256\"], [\"X15\"], [\"536\"], [\"Scrypt\"], [\"X13\"], [\"Scrypt\"], [\"Ouroboros\"], [\"Scrypt\"], [\"SHA-256\"], [\"DPoS\"], [\"NIST5\"], [\"Scrypt\"], [\"Proof-of-BibleHash\"], [\"VBFT\"], [\"Semux BFT consensus\"], [\"Scrypt\"], [\"Scrypt\"], [\"Scrypt\"], [\"SHA-512\"], [\"XEVAN\"], [\"Scrypt\"], [\"SHA-256D\"], [\"DPoS\"], [\"Scrypt\"], [\"DPoS\"], [\"Scrypt\"], [\"TRC10\"], [\"PoS\"], [\"SHA-256\"]], \"hovertemplate\": \"<b>%{hovertext}</b><br><br>Class=%{marker.color}<br>PC1=%{x}<br>PC2=%{y}<br>PC3=%{z}<br>Algorithm=%{customdata[0]}<extra></extra>\", \"hovertext\": [\"EliteCoin\", \"Bitshares\", \"CasinoCoin\", \"TittieCoin\", \"BurstCoin\", \"Hitcoin\", \"ZeitCoin\", \"SafeExchangeCoin\", \"Swiscoin\", \"BuzzCoin\", \"LanaCoin\", \"ARK\", \"EmberCoin\", \"XenixCoin\", \"PandaCoin\", \"ProCurrency\", \"HTML5 Coin\", \"Espers\", \"Linda\", \"DeepOnion\", \"Draftcoin\", \"Cardano\", \"WomenCoin\", \"Infinity Economics\", \"Lamden Tau\", \"Electra\", \"GermanCoin\", \"BiblePay\", \"Ontology\", \"Semux\", \"Swisscoin\", \"Lynx\", \"ThunderStake\", \"Kcash\", \"BitMoney\", \"Credit\", \"Titan Coin\", \"ALAX\", \"LiteDoge\", \"Lisk\", \"HiCoin\", \"BitTorrent\", \"Nxt\", \"ZEPHYR\"], \"legendgroup\": \"4\", \"marker\": {\"color\": [4, 4, 4, 4, 4, 4, 4, 4, 4, 4, 4, 4, 4, 4, 4, 4, 4, 4, 4, 4, 4, 4, 4, 4, 4, 4, 4, 4, 4, 4, 4, 4, 4, 4, 4, 4, 4, 4, 4, 4, 4, 4, 4, 4], \"coloraxis\": \"coloraxis\", \"symbol\": \"diamond\"}, \"mode\": \"markers\", \"name\": \"4\", \"scene\": \"scene\", \"showlegend\": true, \"type\": \"scatter3d\", \"x\": [1.660345586605503, 1.851708695367882, 3.3968814253053408, 1.0082875161643938, 4.537664025924239, 0.9361747669975535, 1.9138100771505957, 2.494761383693919, 1.4791553844786278, 1.79950821493721, 1.1887661105520608, 2.940481184022799, 0.9733848525202826, 1.0677348771176096, 1.7352805873335233, 0.9246646253601966, 1.7670512739864834, 2.6866658353748876, 1.2791466248219463, 1.4448136112053331, 2.1324278630595814, 3.24252266262185, 1.4472520922288157, 1.3358117686085975, 3.3025559092412577, 1.3144186385780705, 1.1808165636684371, 9.253329109012045, 1.1880566138891966, 1.7638399230535993, 1.0641411344236051, 3.733299538704358, 0.7832764722319685, 2.8035172833653306, 1.9756110634778683, 1.5359786886094329, 1.09853667615206, 3.6051470532337384, 1.3114070609018704, 2.993482037192899, 1.3653994501151987, 8.073662951081296, 1.1729246379442644, 2.5446349773376493], \"y\": [1.7395569346517452, 1.781362711858427, 0.3245962118073156, 1.7593966845291478, 0.7156414063191887, 1.1817991046829148, 0.8431248899020822, 0.33839522178287534, 0.22647922563990563, 1.8695230144521449, 1.875900421732469, 1.9626530595775717, 1.7609912553870717, 1.1526398748542945, 0.8474408424141744, 0.7584738519153007, 1.8513955739628543, 1.8431184728335515, 0.9312871536628986, 1.7218087564219076, 0.8129021777437018, 1.6831285239690659, 0.932386605363025, 0.762422862543841, 1.956484713654108, 1.4516034506328026, 0.9318461162027203, 3.0657544889900548, 1.7171281016753217, 1.9818324405741188, 0.9372223457273796, 0.1936154581397038, 0.9371349658875067, 1.9925862784674573, 1.2535648224698452, 0.928632963806014, 1.877617837603696, 1.952709561661449, 0.9321612443148777, 1.961621390228859, 0.8530366930980264, 1.8914782458744481, 2.00127142246442, 0.8939895059897756], \"z\": [-0.47806113510068293, -0.14687327296183908, -0.27383513372942925, -0.2444483722305219, -0.2445266302314032, -0.3774866975260515, -0.23935708262497546, -0.255676597570056, -0.2599419413693236, -0.545522890951625, -0.5413598776728827, 0.11376820775062627, -0.4342678811090878, -0.4545847665402651, -0.2314163115670813, -0.11852374979278842, -0.4990025589508319, -0.5658633252547922, -0.4176914623668475, -0.5314383999077339, -0.31747206125180455, -0.2008681524952325, -0.41100801542772963, -0.09872203210520888, 0.10475239438682302, -0.42167183563086524, -0.4183041657883215, 0.4354017373753336, -0.15341520160487548, 0.13647353647944047, -0.4061058861884986, -0.29923767927990796, -0.41247424660853244, -0.10062807211417572, -0.23933051262183236, -0.4193662363671407, -0.5386187739984931, 0.1010019002080048, -0.41459032742748014, 0.11209539401567521, -0.2241409023845632, 0.03118814761904264, -0.09913924800003074, 0.04543597749987229]}, {\"customdata\": [[\"SHA-256\"], [\"Scrypt\"], [\"Ethash\"], [\"Equihash\"], [\"Multiple\"], [\"Scrypt\"], [\"X11\"], [\"Scrypt\"], [\"Multiple\"], [\"Scrypt\"], [\"SHA-256\"], [\"Scrypt\"], [\"Scrypt\"], [\"Quark\"], [\"Groestl\"], [\"Scrypt\"], [\"Scrypt\"], [\"Scrypt\"], [\"X11\"], [\"Multiple\"], [\"SHA-256\"], [\"Scrypt\"], [\"Scrypt\"], [\"Scrypt\"], [\"Scrypt\"], [\"Scrypt\"], [\"NeoScrypt\"], [\"Scrypt\"], [\"Scrypt\"], [\"Scrypt\"], [\"Scrypt\"], [\"SHA-256\"], [\"Scrypt\"], [\"Scrypt\"], [\"Scrypt\"], [\"Scrypt\"], [\"HybridScryptHash256\"], [\"Scrypt\"], [\"Scrypt\"], [\"SHA-256\"], [\"Scrypt\"], [\"Scrypt\"], [\"Scrypt\"], [\"Scrypt\"], [\"SHA-256\"], [\"Multiple\"], [\"SHA-256\"], [\"SHA-256\"], [\"SHA-256\"], [\"SHA-256\"], [\"Scrypt\"], [\"Lyra2REv2\"], [\"Scrypt\"], [\"SHA-256\"], [\"CryptoNight\"], [\"CryptoNight\"], [\"Scrypt\"], [\"Scrypt\"], [\"Scrypt\"], [\"Scrypt\"], [\"Scrypt\"], [\"Scrypt\"], [\"Stanford Folding\"], [\"Scrypt\"], [\"Scrypt\"], [\"M7 POW\"], [\"Scrypt\"], [\"SHA-256\"], [\"Scrypt\"], [\"X11\"], [\"Lyra2RE\"], [\"SHA-256\"], [\"X11\"], [\"Scrypt\"], [\"Scrypt\"], [\"Ethash\"], [\"X11\"], [\"SHA-256\"], [\"Scrypt\"], [\"1GB AES Pattern Search\"], [\"Scrypt\"], [\"SHA-256\"], [\"X11\"], [\"Dagger\"], [\"Scrypt\"], [\"X11GOST\"], [\"Scrypt\"], [\"X11\"], [\"Scrypt\"], [\"X11\"], [\"Equihash\"], [\"CryptoNight\"], [\"SHA-256\"], [\"Multiple\"], [\"Scrypt\"], [\"SHA-256\"], [\"Scrypt\"], [\"Lyra2Z\"], [\"Ethash\"], [\"Equihash\"], [\"Scrypt\"], [\"X11\"], [\"X11\"], [\"CryptoNight\"], [\"Scrypt\"], [\"CryptoNight\"], [\"Lyra2RE\"], [\"X11\"], [\"CryptoNight-V7\"], [\"Scrypt\"], [\"X11\"], [\"Equihash\"], [\"Scrypt\"], [\"Lyra2RE\"], [\"Dagger-Hashimoto\"], [\"Scrypt\"], [\"NIST5\"], [\"Scrypt\"], [\"SHA-256\"], [\"Scrypt\"], [\"CryptoNight-V7\"], [\"Blake2b\"], [\"Cloverhash\"], [\"CryptoNight\"], [\"X11\"], [\"Scrypt\"], [\"Scrypt\"], [\"X11\"], [\"X11\"], [\"CryptoNight\"], [\"Time Travel\"], [\"Scrypt\"], [\"Keccak\"], [\"X11\"], [\"SHA-256\"], [\"Scrypt\"], [\"Scrypt\"], [\"Scrypt\"], [\"Scrypt\"], [\"Scrypt\"], [\"CryptoNight\"], [\"Equihash\"], [\"X11\"], [\"NeoScrypt\"], [\"Equihash\"], [\"Dagger\"], [\"Scrypt\"], [\"X11\"], [\"NeoScrypt\"], [\"Ethash\"], [\"NeoScrypt\"], [\"Multiple\"], [\"CryptoNight\"], [\"CryptoNight\"], [\"Ethash\"], [\"X11\"], [\"CryptoNight-V7\"], [\"Scrypt\"], [\"BLAKE256\"], [\"X11\"], [\"NeoScrypt\"], [\"NeoScrypt\"], [\"Scrypt\"], [\"X11\"], [\"SHA-256\"], [\"C11\"], [\"CryptoNight\"], [\"SkunkHash\"], [\"CryptoNight\"], [\"Scrypt\"], [\"Dagger\"], [\"Lyra2REv2\"], [\"Scrypt\"], [\"Scrypt\"], [\"X11\"], [\"Ethash\"], [\"CryptoNight\"], [\"Scrypt\"], [\"IMesh\"], [\"Equihash\"], [\"Lyra2Z\"], [\"X11\"], [\"CryptoNight\"], [\"NIST5\"], [\"Lyra2RE\"], [\"Tribus\"], [\"Lyra2Z\"], [\"CryptoNight\"], [\"CryptoNight Heavy\"], [\"CryptoNight\"], [\"Jump Consistent Hash\"], [\"CryptoNight\"], [\"X16R\"], [\"HMQ1725\"], [\"X11\"], [\"Scrypt\"], [\"CryptoNight-V7\"], [\"Cryptonight-GPU\"], [\"XEVAN\"], [\"CryptoNight Heavy\"], [\"SHA-256\"], [\"X11\"], [\"X16R\"], [\"Equihash\"], [\"Lyra2Z\"], [\"SHA-256\"], [\"CryptoNight\"], [\"Blake\"], [\"Blake\"], [\"Exosis\"], [\"Scrypt\"], [\"Equihash\"], [\"Equihash\"], [\"QuBit\"], [\"SHA-256\"], [\"SHA-256\"], [\"Scrypt\"], [\"NeoScrypt\"], [\"Blake\"], [\"Scrypt\"], [\"SHA-256\"], [\"Scrypt\"], [\"Groestl\"], [\"Scrypt\"], [\"Scrypt\"], [\"Multiple\"], [\"Equihash+Scrypt\"], [\"Ethash\"], [\"CryptoNight\"], [\"Equihash\"]], \"hovertemplate\": \"<b>%{hovertext}</b><br><br>Class=%{marker.color}<br>PC1=%{x}<br>PC2=%{y}<br>PC3=%{z}<br>Algorithm=%{customdata[0]}<extra></extra>\", \"hovertext\": [\"Bitcoin\", \"Litecoin\", \"Ethereum Classic\", \"ZCash\", \"DigiByte\", \"ProsperCoin\", \"Spreadcoin\", \"Argentum\", \"MyriadCoin\", \"MoonCoin\", \"ZetaCoin\", \"SexCoin\", \"Quatloo\", \"QuarkCoin\", \"Riecoin\", \"Digitalcoin \", \"Catcoin\", \"CannaCoin\", \"CryptCoin\", \"Verge\", \"DevCoin\", \"EarthCoin\", \"E-Gulden\", \"Einsteinium\", \"Emerald\", \"Franko\", \"FeatherCoin\", \"GrandCoin\", \"GlobalCoin\", \"GoldCoin\", \"Infinite Coin\", \"IXcoin\", \"KrugerCoin\", \"LuckyCoin\", \"Litebar \", \"MegaCoin\", \"MediterraneanCoin\", \"MinCoin\", \"NobleCoin\", \"Namecoin\", \"NyanCoin\", \"RonPaulCoin\", \"StableCoin\", \"SmartCoin\", \"SysCoin\", \"TeslaCoin\", \"TigerCoin\", \"TerraCoin\", \"UnbreakableCoin\", \"Unobtanium\", \"ViaCoin\", \"Vertcoin\", \"WorldCoin\", \"JouleCoin\", \"ByteCoin\", \"DigitalNote \", \"MonaCoin\", \"Gulden\", \"PesetaCoin\", \"Wild Beast Coin\", \"Flo\", \"ArtByte\", \"Folding Coin\", \"OmniCron\", \"GreenCoin\", \"Cryptonite\", \"MasterCoin\", \"SoonCoin\", \"1Credit\", \"MarsCoin \", \"Crypto\", \"Anarchists Prime\", \"BowsCoin\", \"Song Coin\", \"BitZeny\", \"Expanse\", \"MindCoin\", \"I0coin\", \"Revolution VR\", \"HOdlcoin\", \"Gamecredits\", \"CarpeDiemCoin\", \"Adzcoin\", \"SoilCoin\", \"YoCoin\", \"SibCoin\", \"Francs\", \"BolivarCoin\", \"Omni\", \"PizzaCoin\", \"Komodo\", \"Karbo\", \"ZayedCoin\", \"Circuits of Value\", \"DopeCoin\", \"DollarCoin\", \"Shilling\", \"ZCoin\", \"Elementrem\", \"ZClassic\", \"KiloCoin\", \"ArtexCoin\", \"Kurrent\", \"Cannabis Industry Coin\", \"OsmiumCoin\", \"Bikercoins\", \"HexxCoin\", \"PacCoin\", \"Citadel\", \"BeaverCoin\", \"VaultCoin\", \"Zero\", \"Canada eCoin\", \"Zoin\", \"DubaiCoin\", \"EB3coin\", \"Coinonat\", \"BenjiRolls\", \"ILCoin\", \"EquiTrader\", \"Quantum Resistant Ledger\", \"Nano\", \"ChanCoin\", \"Dinastycoin\", \"DigitalPrice\", \"Unify\", \"SocialCoin\", \"ArcticCoin\", \"DAS\", \"LeviarCoin\", \"Bitcore\", \"gCn Coin\", \"SmartCash\", \"Onix\", \"Bitcoin Cash\", \"Sojourn Coin\", \"FrazCoin\", \"Kronecoin\", \"AdCoin\", \"Linx\", \"Sumokoin\", \"BitcoinZ\", \"Elements\", \"VIVO Coin\", \"Bitcoin Gold\", \"Pirl\", \"eBoost\", \"Pura\", \"Innova\", \"Ellaism\", \"GoByte\", \"SHIELD\", \"UltraNote\", \"BitCoal\", \"DaxxCoin\", \"AC3\", \"Lethean\", \"PopularCoin\", \"Photon\", \"Sucre\", \"SparksPay\", \"GunCoin\", \"IrishCoin\", \"Pioneer Coin\", \"UnitedBitcoin\", \"Interzone\", \"TurtleCoin\", \"MUNcoin\", \"Niobio Cash\", \"ShareChain\", \"Travelflex\", \"KREDS\", \"BitFlip\", \"LottoCoin\", \"Crypto Improvement Fund\", \"Callisto Network\", \"BitTube\", \"Poseidon\", \"Aidos Kuneen\", \"Bitrolium\", \"Alpenschillling\", \"FuturoCoin\", \"Monero Classic\", \"Jumpcoin\", \"Infinex\", \"KEYCO\", \"GINcoin\", \"PlatinCoin\", \"Loki\", \"Newton Coin\", \"MassGrid\", \"PluraCoin\", \"Motion\", \"PlusOneCoin\", \"Axe\", \"HexCoin\", \"Webchain\", \"Ryo\", \"Urals Coin\", \"Qwertycoin\", \"Project Pai\", \"Azart\", \"Xchange\", \"CrypticCoin\", \"Actinium\", \"Bitcoin SV\", \"FREDEnergy\", \"Universal Molecule\", \"Lithium\", \"Exosis\", \"Block-Logic\", \"Beam\", \"Bithereum\", \"SLICE\", \"BLAST\", \"GlobalToken\", \"SolarCoin\", \"UFO Coin\", \"BlakeCoin\", \"Crypto Escudo\", \"Crown Coin\", \"SmileyCoin\", \"Groestlcoin\", \"Bata\", \"Pakcoin\", \"JoinCoin\", \"Vollar\", \"Reality Clash\", \"Beldex\", \"Horizen\"], \"legendgroup\": \"0\", \"marker\": {\"color\": [0, 0, 0, 0, 0, 0, 0, 0, 0, 0, 0, 0, 0, 0, 0, 0, 0, 0, 0, 0, 0, 0, 0, 0, 0, 0, 0, 0, 0, 0, 0, 0, 0, 0, 0, 0, 0, 0, 0, 0, 0, 0, 0, 0, 0, 0, 0, 0, 0, 0, 0, 0, 0, 0, 0, 0, 0, 0, 0, 0, 0, 0, 0, 0, 0, 0, 0, 0, 0, 0, 0, 0, 0, 0, 0, 0, 0, 0, 0, 0, 0, 0, 0, 0, 0, 0, 0, 0, 0, 0, 0, 0, 0, 0, 0, 0, 0, 0, 0, 0, 0, 0, 0, 0, 0, 0, 0, 0, 0, 0, 0, 0, 0, 0, 0, 0, 0, 0, 0, 0, 0, 0, 0, 0, 0, 0, 0, 0, 0, 0, 0, 0, 0, 0, 0, 0, 0, 0, 0, 0, 0, 0, 0, 0, 0, 0, 0, 0, 0, 0, 0, 0, 0, 0, 0, 0, 0, 0, 0, 0, 0, 0, 0, 0, 0, 0, 0, 0, 0, 0, 0, 0, 0, 0, 0, 0, 0, 0, 0, 0, 0, 0, 0, 0, 0, 0, 0, 0, 0, 0, 0, 0, 0, 0, 0, 0, 0, 0, 0, 0, 0, 0, 0, 0, 0, 0, 0, 0, 0, 0, 0, 0, 0, 0, 0, 0, 0, 0, 0, 0, 0, 0, 0, 0, 0, 0, 0, 0, 0, 0], \"coloraxis\": \"coloraxis\", \"symbol\": \"square\"}, \"mode\": \"markers\", \"name\": \"0\", \"scene\": \"scene\", \"showlegend\": true, \"type\": \"scatter3d\", \"x\": [-0.40791525342226664, -0.004093126372100349, 0.3255405862586363, -0.4124525850596198, 2.3283903160513093, -0.593561533641162, -0.7757374264940601, -0.3085736653372097, 1.6740832560269083, -0.9326406877436452, 0.26265418893724085, 0.27193367783455996, -0.3242842246216326, 0.10994905313299885, -0.2533664669285222, -0.188168443506333, -0.5574147522708098, -0.6955345748159659, -0.9205116798521314, 2.3471137679375556, 1.730289910672468, 1.5971090116891045, -0.38617327848980104, 0.3839182873825368, -0.33534642311810964, -0.9464698150566527, 0.32815230798038036, 0.8381001354596046, -0.02438224780015277, -0.09302439074096006, 2.196230145183296, -0.3817555684138875, 0.3066658219972256, -0.40605287702115955, -1.2643752545741518, -0.1871501700472934, 0.23862410214207808, -0.7019458766283143, 1.3441029643313476, -0.43947702239800734, 0.46956879077394936, -0.8597948974670128, 0.0026281227180973187, -0.22223767618770673, 0.6992930653568116, 0.5907292865110206, -0.14622322657645975, -0.26605265918155957, -0.5429291871674363, -1.7843747137842811, -0.3563710862105144, -0.002827404971875332, 0.2686576191356684, -0.16958628442973667, 3.0200524775178046, 2.061673601983738, 0.041631722026929455, 0.7410460224670462, 0.22227784753652444, -1.4565817581142078, 0.23291829141455267, 0.7687293435339603, 1.485741062631242, -0.7724009475238568, 1.3917455003854484, 1.6413262019193702, -1.4723174185852206, -0.4664638394957361, -0.030537918986224426, -0.531018189406682, -0.5636199416937714, -0.30077443758675076, -0.7117602383544114, 0.024800218268403257, 0.18598994953989526, -0.4290929165911982, -0.7518120831646949, -0.3824586083890252, 0.3247726296293858, -0.3569313053766406, 0.012395505659914376, 1.7582437010371725, -0.3390904709219071, -0.3362359960558831, -0.6416307222858723, -0.5614552104888914, -0.5797790128231096, -0.7102107913981576, -1.4738298700834207, -1.07953173629423, 0.5109821528636939, -0.04904865748605111, -0.6910868470116301, 1.5144410319591401, 0.22317344802364972, -0.6172440889047198, -0.43529294667537377, -0.6791861576450785, -0.21712637055330897, -0.45657600617798855, 0.8834609159452856, 0.391699633712973, -0.1423244745524811, -0.2744654786983744, -1.1954285778715232, 0.11488644719587518, -1.16201860970972, 1.1038720864801084, 0.12808572966576628, -0.9629441521734793, -0.037547972630805476, -0.45399759262359596, 0.09566144545201558, -0.6837079856922815, -1.770499039432706, 0.5681377902478422, -0.4540030988471263, -0.31364769257860275, 0.9887384870261097, -0.2729251304930647, 0.34080469521159923, 0.719773449167508, -0.4845321906070378, 1.608702309241041, -0.3536114576009851, -0.42174422417037805, -0.42359243798320334, -0.47716504894173895, -1.017113207598596, 0.29515684845535184, -0.5876836812073353, 2.4076092887506984, 1.518239638900474, 0.2009730903865538, -0.4073018847919855, -0.07598763872538976, -0.5169917810015274, -0.21089066568901882, -0.08434931375841906, -0.0791571047333376, 0.29467915764873537, 1.6622323916851893, 0.7718354847592407, -0.6738039188882204, -0.2762423753731296, 0.873517490905985, 0.09589770394903366, 0.0898135878781134, -0.5299780538527391, 0.016173630698162633, -0.5954987286026591, 1.3086894809389098, 2.5425113451046526, -0.10518818449723302, 1.1406640106658612, 0.030837006906499237, 0.9717150584608111, 1.2652399173492368, 2.578222550358595, -0.9333299100071165, -0.6088838963942292, 0.4451063401461352, -0.09674776437434998, -0.7992436684176837, -0.3949394672603478, -0.8727907816213908, 3.069188179136524, -1.0238377441492266, 0.9264805953548306, 1.5164297574839796, 0.313899493638117, 0.7841550342970612, -0.3747264227868616, 1.666116717792069, 0.1725509810348314, 0.9573982503422996, 1.0043911046702145, -0.6497107562461256, -0.44464275018253596, 0.13034678065792743, -0.08308529845803106, -0.36968221998670286, 0.1562515554015056, -0.4586171060394322, -0.8586068212931005, -1.5187379133865295, -0.7970407757845605, -0.17495575167473942, 0.8980849706369155, 2.779005235980781, 0.5401800010691202, 1.3176705046107227, -0.7859469025569198, -0.7946453938445316, -0.8979128730393847, -0.8121001524074695, 0.5158674653310369, -0.581431746529863, -0.09668988710754714, 3.3247673508334477, 1.0380766925842992, -0.871472792220186, -0.5338221202442895, 1.4789800616713087, -0.38279404113230614, -0.4073294034877951, 1.8195947881136136, 0.31209623321853097, -0.20579933817543605, -1.670947333968541, -0.04495676480504626, 0.21380610236430186, -0.15820027730407848, -0.4099000365634039, -0.07123148988185475, 0.1485399264721415, 1.0168664519763364, 1.1616837126222497, 0.6860588957775767, 0.7662050898098668, -0.26569124585852205, 1.9283709384968848, -0.15741134295069525, -0.8264693247323825, 0.12603629852840234, -0.29755828201675777, 1.114954851777378, -0.23803691401034743, 1.4574276182067114, -0.41435078924690494], \"y\": [-1.2393968541046412, -1.1547054986954635, -1.925586533570409, -1.953675334980253, -1.9193707522981094, -1.1472445211132039, -0.8993786801800301, -1.1521684282455267, -1.9086799051995258, -1.174413376859892, -1.2494054311184088, -1.1595081509538074, -1.1534022814442186, -0.3717038817280971, -1.4895149109074508, -1.1520101884441742, -1.1474499994428635, -1.1452747603449234, -0.8982433282076472, -1.9187720510904183, -1.2720318445724113, -1.1788677994963803, -1.1484234308430332, -1.160683232232796, -1.1499611807561063, -1.1433841488558332, -1.5762844744021924, -1.1678775742299006, -1.1540496135760732, -1.153753035399034, -1.1879178541811606, -1.239545560245995, -1.1598830486748153, -1.1481657701602817, -1.1352945406657455, -1.1516098447477037, -2.1341981890985062, -1.1444286941309014, -1.177741947879842, -1.239217439525407, -1.161516978797073, -1.1457311031870516, -1.1579772689904475, -1.1519976294752352, -1.2567924560072068, 0.13606047406044505, -1.2432737446416409, -1.2422583359811918, -1.2425948186847942, -1.21843572380101, -1.1488625579188882, -1.1923100154145374, -1.159666988994222, -1.2430112557083584, -2.2504775256166134, -2.236387452631868, -1.1556303908550045, -1.1678230879762872, -1.158018751867655, -1.1361768535892116, -1.1579632051630206, -1.1664423253347638, -2.1508762697147064, -1.1408046122659448, -1.176810643573455, -2.1552666317386846, -1.1318029391322257, -1.2390640315070482, -1.1753051345564156, -0.9022545082486992, -2.132029459828972, -1.242792853739707, -0.8998870159910008, -1.1575897675662397, -1.1590195991916525, -1.9138271665171929, -0.8988531047250674, -1.239541563777311, -1.1592915904986618, -2.12553629840273, -1.1547992292141949, -1.2722778759733995, -0.906115590003779, -2.134759638296392, -1.1531426313007984, -2.117355560921849, -1.1471782145647487, -0.9004127502343664, -1.1317798043694554, -0.8983133253896471, -1.286286922795192, -2.203908690218781, -1.2355081165945767, -1.9062579045711612, -1.1585693904352512, -1.236190652147814, -1.14920168428016, -2.130040916040428, -1.9163315191288075, -1.9534245130114205, -1.173921272419426, -0.9155584250912694, -0.9101945747138156, -2.2048270064668527, -1.1377571739076164, -2.2075572248327076, -2.1230424981590406, -0.9353153626778039, -2.147322268496616, -1.1397114723548727, -0.9151734002079146, -1.952812676813228, -1.1557894852715918, -2.1279611913484713, -2.096587112375371, -1.1694121644291309, -0.6315020290921343, -1.1503939703607229, -1.2615066325404027, -1.1527202797111338, -2.1468522205677987, -2.1401274298416326, -2.1190838350001275, -2.2290408199038816, -0.9065499709997706, -1.147967377626265, -1.1519848331165843, -0.904333118151964, -0.8978388456412056, -2.210865213559584, -2.116441848824364, -1.1914671816795581, -1.2009475217715762, -0.9168118635475373, -1.2394003408317256, -1.1686118893577615, -1.1475351319728704, -1.1535299469216778, -1.1547662043950915, -1.154795719787535, -2.212340173330014, -1.9859492415146403, -0.9215170655440892, -1.563113676867348, -1.9544496292689257, -2.16018384493701, -1.1557908282957696, -0.9127848607278688, -1.5654457685491332, -1.9246808458427727, -1.5640439386603366, -1.9033158199546416, -2.2454657107066, -2.2042511424079, -1.941673934874295, -0.9137896594953931, -2.1571192222067603, -1.1740364594553716, -1.2157834860339014, -0.8984530397696291, -1.562737616312314, -1.5781278125993912, -1.153372564012486, -0.8996594266163616, -1.239350468070025, -1.1595031471467732, -2.2557682221622506, -2.1124599599168183, -2.2198740744549963, -1.1775194179625483, -2.1420249306695345, -1.2044099126470806, -1.1503989033829694, -1.180179290905926, -0.9143126627469518, -1.939354957162534, -2.2235505239420474, -1.146925337826749, -2.118296922896644, -1.9603304693633699, -2.1412577680080207, -0.9064586158835974, -2.206883575239273, -0.6290093231486912, -2.1276319362685343, -2.109905676675734, -2.1272599671489187, -2.21533195985434, -2.150558007272387, -2.2490997571705176, -2.135048560229559, -2.2253313775997214, -1.1818298035649328, -2.1151824525916236, -0.8988288212918685, -1.1461543018797136, -2.1561886293913437, -2.124583702735567, -0.6068617865515609, -2.1854461395752547, -1.2612701719043284, -0.8994960476868568, -1.1877419518177594, -1.9818941676974604, -2.1357799439787035, -1.239400184400214, -2.234379263123503, -2.1591231344550805, -2.1382944880961694, -2.1098500104308453, -1.1555306839793238, -1.9647270523498908, -1.9562644157146352, -1.1705762790670513, -1.244614629343632, -1.2487252225168597, -1.1814494990604016, -1.588366404257658, -2.16004342804931, -1.166427976078227, -1.2422603904547334, -1.1846328128058778, -1.4907219533491616, -1.141665777566415, -1.157737594921111, -1.8779893341147513, -2.1528100042409752, -1.916011667238009, -2.2271238853058386, -1.9536645445360978], \"z\": [0.15070127129259597, 0.017206221396908507, 0.26841558002058985, 0.29767473836895747, 0.22517644997714137, 0.024805124353257914, 0.0612616788754119, 0.017520063811281385, 0.2402183921222441, -0.057104144782166, 0.13788530645615577, 0.010058162294207177, 0.013793417857516513, 0.025938853957319742, 0.17550994527961866, 0.020581385934298292, 0.025030358186747655, 0.027982024636646792, 0.06121626190526339, 0.22722694344021016, 0.10785779079333706, -0.01411890584245492, 0.02609737915320557, 0.009279122289128508, 0.02298920706806016, 0.02769136837795625, 0.17386655536116286, -0.0005406115637470921, 0.01856225121807096, 0.017877779265825712, -0.025865202003549918, 0.15086427463380506, 0.009787896854499526, 0.026370219502224408, 0.042940033918683965, 0.021701543265123614, 0.2875514701447348, 0.030162450418864926, -0.016552093567396255, 0.15050460708215657, 0.008861554415047693, 0.023146200408605967, 0.008380095250353473, 0.0198724071210176, 0.12715433854468997, 0.04681500208982135, 0.14577930448344462, 0.14594926311890968, 0.13898476586406883, 0.1781513172540456, 0.02554338946324792, 0.14802968664074767, 0.009551064336913698, 0.14598937400090034, 0.24734696477576523, 0.26507611876390574, 0.015667473754677454, -0.002508992664859898, 0.013059285661206213, 0.03632618089160198, 0.013443805976813418, 0.0018818071816096103, 0.27013596111313204, 0.03856405678947745, -0.012958399476154812, 0.26132119612006893, 0.047978221235003206, 0.1503364498067873, -0.039865076756749496, 0.05871475190611262, 0.3097453552896323, 0.14372569394840076, 0.061263614558410125, 0.009926628437281185, 0.009522639222598698, 0.28419871084253984, 0.06322513585901536, 0.15085989392872723, 0.011805070654143303, 0.29787357008835913, 0.01730896354049031, 0.10779302981350287, 0.05231381985196407, 0.29577095606459264, 0.007580716093111209, 0.3163898626986186, 0.02528771638408698, 0.05985560518432185, 0.048008664971445326, 0.05755433328531851, 0.3205690174850951, 0.30809084770436573, 0.155187024605332, 0.24337716067471665, 0.011568708958906972, 0.15492649533746317, 0.022891192827991604, 0.31277554365696664, 0.28195585726259653, 0.2973998013784866, -0.01612556626437447, 0.042363464911902945, 0.045420867238206215, 0.30065357667586734, 0.0376907716214241, 0.30166199929535303, 0.32133438448478513, 0.0037205562593862576, 0.283167206987957, 0.037404153630220295, 0.03405281790659268, 0.29913401797706285, 0.016410136955103995, 0.318282101408774, 0.3465008654645569, -0.010640030178757774, 0.010556771625820563, 0.022275772912729842, 0.12054172946597481, 0.016784501374805503, 0.2890980288929365, 0.2822855806452351, 0.313303895989866, 0.2753399234966785, 0.050805674165974514, 0.026571909133100792, 0.015513757011064814, 0.054189314222530045, 0.06021761722163566, 0.29652354482824084, 0.31837504676249173, -0.030986704051962303, 0.058893180992053075, 0.03476409873959472, 0.1507050932474894, -0.022500688084326013, 0.025678949251337103, 0.015917647400253677, 0.015288473785402693, 0.015320826905062682, 0.292468062097506, 0.2544354578908782, 0.034316876415796206, 0.18812371027596247, 0.29852347639002225, 0.2524433020770169, 0.01641160910296783, 0.04338250318275426, 0.18486638857320542, 0.26414874927197274, 0.1872811691606472, 0.2469561057519497, 0.2506714240349247, 0.3059266612558326, 0.2420828134242458, 0.03933993226851075, 0.274707940528206, -0.008110700388030655, 0.042241619355486607, 0.060361425082372334, 0.19057166565021566, 0.17136326627223353, 0.018839969979895933, 0.05997880764678099, 0.15111162787485627, 0.1203170678761927, 0.2339094800606148, 0.3191429195820737, 0.2855929124312486, -0.012181480698397217, 0.2900325282893333, 0.1320185391810147, 0.02092945073606043, -0.01620984406396622, 0.04099793002122794, 0.24444355585255806, 0.27721037294375284, 0.024455253516205734, 0.3165439168537235, 0.2912674895878262, 0.2950209273877996, 0.05070553580560012, 0.30441209931307445, 0.017292305275945975, 0.31536862782353875, 0.31436641488945083, 0.3178305669724379, 0.274015263546677, 0.2693902133959381, 0.24586560788214945, 0.29249227491160146, 0.2791624449547854, 0.15895236796060275, 0.3169274799086159, 0.06010368081231158, 0.023026325883134503, 0.26731307099091134, 0.2951141256372588, 0.04310469190841855, 0.2266623541721952, 0.12226682436244174, 0.05885076720803754, 0.14823996585017843, 0.2615577156601949, 0.3035038753646917, 0.15070492177603012, 0.26530117405656123, 0.24213093728943091, 0.28795229228874325, 0.3107982996542264, 0.014051479132827874, 0.28103107294014595, 0.29612223271666205, 0.09995445872003764, 0.1437383325058179, 0.137260693249107, -0.03386060542537972, 0.15892042395775605, 0.2477672486827493, 0.001866078330480284, 0.14595151511770835, -0.0227009477336784, 0.17429347422916086, 0.03502250036572544, 0.011730277040696215, 0.28136389606185375, 0.25549300538275227, 0.28237676008146173, 0.2772961418328358, 0.2976629104885864]}, {\"customdata\": [[\"VeChainThor Authority\"]], \"hovertemplate\": \"<b>%{hovertext}</b><br><br>Class=%{marker.color}<br>PC1=%{x}<br>PC2=%{y}<br>PC3=%{z}<br>Algorithm=%{customdata[0]}<extra></extra>\", \"hovertext\": [\"Vechain\"], \"legendgroup\": \"3\", \"marker\": {\"color\": [3], \"coloraxis\": \"coloraxis\", \"symbol\": \"x\"}, \"mode\": \"markers\", \"name\": \"3\", \"scene\": \"scene\", \"showlegend\": true, \"type\": \"scatter3d\", \"x\": [17.072662688956267], \"y\": [2.7885443598088266], \"z\": [-12.392982994895377]}, {\"customdata\": [[\"SHA-256 + Hive\"], [\"Proof-of-Authority\"], [\"ECC 256K1\"], [\"Leased POS\"]], \"hovertemplate\": \"<b>%{hovertext}</b><br><br>Class=%{marker.color}<br>PC1=%{x}<br>PC2=%{y}<br>PC3=%{z}<br>Algorithm=%{customdata[0]}<extra></extra>\", \"hovertext\": [\"LitecoinCash\", \"Poa Network\", \"Acute Angle Cloud\", \"Waves\"], \"legendgroup\": \"2\", \"marker\": {\"color\": [2, 2, 2, 2], \"coloraxis\": \"coloraxis\", \"symbol\": \"cross\"}, \"mode\": \"markers\", \"name\": \"2\", \"scene\": \"scene\", \"showlegend\": true, \"type\": \"scatter3d\", \"x\": [5.759107058050283, 2.8506252829618344, 6.549455620438757, 0.8201388233749486], \"y\": [3.2231839135264124, 3.3355188565620155, 3.2016947170066588, 3.4190946106641964], \"z\": [9.671038720598126, 15.405685297245235, 9.05616636583913, 19.947059862463288]}],\n",
       "                        {\"coloraxis\": {\"colorbar\": {\"title\": {\"text\": \"Class\"}}, \"colorscale\": [[0.0, \"#0d0887\"], [0.1111111111111111, \"#46039f\"], [0.2222222222222222, \"#7201a8\"], [0.3333333333333333, \"#9c179e\"], [0.4444444444444444, \"#bd3786\"], [0.5555555555555556, \"#d8576b\"], [0.6666666666666666, \"#ed7953\"], [0.7777777777777778, \"#fb9f3a\"], [0.8888888888888888, \"#fdca26\"], [1.0, \"#f0f921\"]]}, \"legend\": {\"title\": {\"text\": \"Class\"}, \"tracegroupgap\": 0, \"x\": 0, \"y\": 1}, \"margin\": {\"t\": 60}, \"scene\": {\"domain\": {\"x\": [0.0, 1.0], \"y\": [0.0, 1.0]}, \"xaxis\": {\"title\": {\"text\": \"PC1\"}}, \"yaxis\": {\"title\": {\"text\": \"PC2\"}}, \"zaxis\": {\"title\": {\"text\": \"PC3\"}}}, \"template\": {\"data\": {\"bar\": [{\"error_x\": {\"color\": \"#2a3f5f\"}, \"error_y\": {\"color\": \"#2a3f5f\"}, \"marker\": {\"line\": {\"color\": \"#E5ECF6\", \"width\": 0.5}}, \"type\": \"bar\"}], \"barpolar\": [{\"marker\": {\"line\": {\"color\": \"#E5ECF6\", \"width\": 0.5}}, \"type\": \"barpolar\"}], \"carpet\": [{\"aaxis\": {\"endlinecolor\": \"#2a3f5f\", \"gridcolor\": \"white\", \"linecolor\": \"white\", \"minorgridcolor\": \"white\", \"startlinecolor\": \"#2a3f5f\"}, \"baxis\": {\"endlinecolor\": \"#2a3f5f\", \"gridcolor\": \"white\", \"linecolor\": \"white\", \"minorgridcolor\": \"white\", \"startlinecolor\": \"#2a3f5f\"}, \"type\": \"carpet\"}], \"choropleth\": [{\"colorbar\": {\"outlinewidth\": 0, \"ticks\": \"\"}, \"type\": \"choropleth\"}], \"contour\": [{\"colorbar\": {\"outlinewidth\": 0, \"ticks\": \"\"}, \"colorscale\": [[0.0, \"#0d0887\"], [0.1111111111111111, \"#46039f\"], [0.2222222222222222, \"#7201a8\"], [0.3333333333333333, \"#9c179e\"], [0.4444444444444444, \"#bd3786\"], [0.5555555555555556, \"#d8576b\"], [0.6666666666666666, \"#ed7953\"], [0.7777777777777778, \"#fb9f3a\"], [0.8888888888888888, \"#fdca26\"], [1.0, \"#f0f921\"]], \"type\": \"contour\"}], \"contourcarpet\": [{\"colorbar\": {\"outlinewidth\": 0, \"ticks\": \"\"}, \"type\": \"contourcarpet\"}], \"heatmap\": [{\"colorbar\": {\"outlinewidth\": 0, \"ticks\": \"\"}, \"colorscale\": [[0.0, \"#0d0887\"], [0.1111111111111111, \"#46039f\"], [0.2222222222222222, \"#7201a8\"], [0.3333333333333333, \"#9c179e\"], [0.4444444444444444, \"#bd3786\"], [0.5555555555555556, \"#d8576b\"], [0.6666666666666666, \"#ed7953\"], [0.7777777777777778, \"#fb9f3a\"], [0.8888888888888888, \"#fdca26\"], [1.0, \"#f0f921\"]], \"type\": \"heatmap\"}], \"heatmapgl\": [{\"colorbar\": {\"outlinewidth\": 0, \"ticks\": \"\"}, \"colorscale\": [[0.0, \"#0d0887\"], [0.1111111111111111, \"#46039f\"], [0.2222222222222222, \"#7201a8\"], [0.3333333333333333, \"#9c179e\"], [0.4444444444444444, \"#bd3786\"], [0.5555555555555556, \"#d8576b\"], [0.6666666666666666, \"#ed7953\"], [0.7777777777777778, \"#fb9f3a\"], [0.8888888888888888, \"#fdca26\"], [1.0, \"#f0f921\"]], \"type\": \"heatmapgl\"}], \"histogram\": [{\"marker\": {\"colorbar\": {\"outlinewidth\": 0, \"ticks\": \"\"}}, \"type\": \"histogram\"}], \"histogram2d\": [{\"colorbar\": {\"outlinewidth\": 0, \"ticks\": \"\"}, \"colorscale\": [[0.0, \"#0d0887\"], [0.1111111111111111, \"#46039f\"], [0.2222222222222222, \"#7201a8\"], [0.3333333333333333, \"#9c179e\"], [0.4444444444444444, \"#bd3786\"], [0.5555555555555556, \"#d8576b\"], [0.6666666666666666, \"#ed7953\"], [0.7777777777777778, \"#fb9f3a\"], [0.8888888888888888, \"#fdca26\"], [1.0, \"#f0f921\"]], \"type\": \"histogram2d\"}], \"histogram2dcontour\": [{\"colorbar\": {\"outlinewidth\": 0, \"ticks\": \"\"}, \"colorscale\": [[0.0, \"#0d0887\"], [0.1111111111111111, \"#46039f\"], [0.2222222222222222, \"#7201a8\"], [0.3333333333333333, \"#9c179e\"], [0.4444444444444444, \"#bd3786\"], [0.5555555555555556, \"#d8576b\"], [0.6666666666666666, \"#ed7953\"], [0.7777777777777778, \"#fb9f3a\"], [0.8888888888888888, \"#fdca26\"], [1.0, \"#f0f921\"]], \"type\": \"histogram2dcontour\"}], \"mesh3d\": [{\"colorbar\": {\"outlinewidth\": 0, \"ticks\": \"\"}, \"type\": \"mesh3d\"}], \"parcoords\": [{\"line\": {\"colorbar\": {\"outlinewidth\": 0, \"ticks\": \"\"}}, \"type\": \"parcoords\"}], \"pie\": [{\"automargin\": true, \"type\": \"pie\"}], \"scatter\": [{\"marker\": {\"colorbar\": {\"outlinewidth\": 0, \"ticks\": \"\"}}, \"type\": \"scatter\"}], \"scatter3d\": [{\"line\": {\"colorbar\": {\"outlinewidth\": 0, \"ticks\": \"\"}}, \"marker\": {\"colorbar\": {\"outlinewidth\": 0, \"ticks\": \"\"}}, \"type\": \"scatter3d\"}], \"scattercarpet\": [{\"marker\": {\"colorbar\": {\"outlinewidth\": 0, \"ticks\": \"\"}}, \"type\": \"scattercarpet\"}], \"scattergeo\": [{\"marker\": {\"colorbar\": {\"outlinewidth\": 0, \"ticks\": \"\"}}, \"type\": \"scattergeo\"}], \"scattergl\": [{\"marker\": {\"colorbar\": {\"outlinewidth\": 0, \"ticks\": \"\"}}, \"type\": \"scattergl\"}], \"scattermapbox\": [{\"marker\": {\"colorbar\": {\"outlinewidth\": 0, \"ticks\": \"\"}}, \"type\": \"scattermapbox\"}], \"scatterpolar\": [{\"marker\": {\"colorbar\": {\"outlinewidth\": 0, \"ticks\": \"\"}}, \"type\": \"scatterpolar\"}], \"scatterpolargl\": [{\"marker\": {\"colorbar\": {\"outlinewidth\": 0, \"ticks\": \"\"}}, \"type\": \"scatterpolargl\"}], \"scatterternary\": [{\"marker\": {\"colorbar\": {\"outlinewidth\": 0, \"ticks\": \"\"}}, \"type\": \"scatterternary\"}], \"surface\": [{\"colorbar\": {\"outlinewidth\": 0, \"ticks\": \"\"}, \"colorscale\": [[0.0, \"#0d0887\"], [0.1111111111111111, \"#46039f\"], [0.2222222222222222, \"#7201a8\"], [0.3333333333333333, \"#9c179e\"], [0.4444444444444444, \"#bd3786\"], [0.5555555555555556, \"#d8576b\"], [0.6666666666666666, \"#ed7953\"], [0.7777777777777778, \"#fb9f3a\"], [0.8888888888888888, \"#fdca26\"], [1.0, \"#f0f921\"]], \"type\": \"surface\"}], \"table\": [{\"cells\": {\"fill\": {\"color\": \"#EBF0F8\"}, \"line\": {\"color\": \"white\"}}, \"header\": {\"fill\": {\"color\": \"#C8D4E3\"}, \"line\": {\"color\": \"white\"}}, \"type\": \"table\"}]}, \"layout\": {\"annotationdefaults\": {\"arrowcolor\": \"#2a3f5f\", \"arrowhead\": 0, \"arrowwidth\": 1}, \"coloraxis\": {\"colorbar\": {\"outlinewidth\": 0, \"ticks\": \"\"}}, \"colorscale\": {\"diverging\": [[0, \"#8e0152\"], [0.1, \"#c51b7d\"], [0.2, \"#de77ae\"], [0.3, \"#f1b6da\"], [0.4, \"#fde0ef\"], [0.5, \"#f7f7f7\"], [0.6, \"#e6f5d0\"], [0.7, \"#b8e186\"], [0.8, \"#7fbc41\"], [0.9, \"#4d9221\"], [1, \"#276419\"]], \"sequential\": [[0.0, \"#0d0887\"], [0.1111111111111111, \"#46039f\"], [0.2222222222222222, \"#7201a8\"], [0.3333333333333333, \"#9c179e\"], [0.4444444444444444, \"#bd3786\"], [0.5555555555555556, \"#d8576b\"], [0.6666666666666666, \"#ed7953\"], [0.7777777777777778, \"#fb9f3a\"], [0.8888888888888888, \"#fdca26\"], [1.0, \"#f0f921\"]], \"sequentialminus\": [[0.0, \"#0d0887\"], [0.1111111111111111, \"#46039f\"], [0.2222222222222222, \"#7201a8\"], [0.3333333333333333, \"#9c179e\"], [0.4444444444444444, \"#bd3786\"], [0.5555555555555556, \"#d8576b\"], [0.6666666666666666, \"#ed7953\"], [0.7777777777777778, \"#fb9f3a\"], [0.8888888888888888, \"#fdca26\"], [1.0, \"#f0f921\"]]}, \"colorway\": [\"#636efa\", \"#EF553B\", \"#00cc96\", \"#ab63fa\", \"#FFA15A\", \"#19d3f3\", \"#FF6692\", \"#B6E880\", \"#FF97FF\", \"#FECB52\"], \"font\": {\"color\": \"#2a3f5f\"}, \"geo\": {\"bgcolor\": \"white\", \"lakecolor\": \"white\", \"landcolor\": \"#E5ECF6\", \"showlakes\": true, \"showland\": true, \"subunitcolor\": \"white\"}, \"hoverlabel\": {\"align\": \"left\"}, \"hovermode\": \"closest\", \"mapbox\": {\"style\": \"light\"}, \"paper_bgcolor\": \"white\", \"plot_bgcolor\": \"#E5ECF6\", \"polar\": {\"angularaxis\": {\"gridcolor\": \"white\", \"linecolor\": \"white\", \"ticks\": \"\"}, \"bgcolor\": \"#E5ECF6\", \"radialaxis\": {\"gridcolor\": \"white\", \"linecolor\": \"white\", \"ticks\": \"\"}}, \"scene\": {\"xaxis\": {\"backgroundcolor\": \"#E5ECF6\", \"gridcolor\": \"white\", \"gridwidth\": 2, \"linecolor\": \"white\", \"showbackground\": true, \"ticks\": \"\", \"zerolinecolor\": \"white\"}, \"yaxis\": {\"backgroundcolor\": \"#E5ECF6\", \"gridcolor\": \"white\", \"gridwidth\": 2, \"linecolor\": \"white\", \"showbackground\": true, \"ticks\": \"\", \"zerolinecolor\": \"white\"}, \"zaxis\": {\"backgroundcolor\": \"#E5ECF6\", \"gridcolor\": \"white\", \"gridwidth\": 2, \"linecolor\": \"white\", \"showbackground\": true, \"ticks\": \"\", \"zerolinecolor\": \"white\"}}, \"shapedefaults\": {\"line\": {\"color\": \"#2a3f5f\"}}, \"ternary\": {\"aaxis\": {\"gridcolor\": \"white\", \"linecolor\": \"white\", \"ticks\": \"\"}, \"baxis\": {\"gridcolor\": \"white\", \"linecolor\": \"white\", \"ticks\": \"\"}, \"bgcolor\": \"#E5ECF6\", \"caxis\": {\"gridcolor\": \"white\", \"linecolor\": \"white\", \"ticks\": \"\"}}, \"title\": {\"x\": 0.05}, \"xaxis\": {\"automargin\": true, \"gridcolor\": \"white\", \"linecolor\": \"white\", \"ticks\": \"\", \"title\": {\"standoff\": 15}, \"zerolinecolor\": \"white\", \"zerolinewidth\": 2}, \"yaxis\": {\"automargin\": true, \"gridcolor\": \"white\", \"linecolor\": \"white\", \"ticks\": \"\", \"title\": {\"standoff\": 15}, \"zerolinecolor\": \"white\", \"zerolinewidth\": 2}}}, \"width\": 800},\n",
       "                        {\"responsive\": true}\n",
       "                    ).then(function(){\n",
       "                            \n",
       "var gd = document.getElementById('f5f5160c-5b66-4f98-a00a-e2b65c54fbc5');\n",
       "var x = new MutationObserver(function (mutations, observer) {{\n",
       "        var display = window.getComputedStyle(gd).display;\n",
       "        if (!display || display === 'none') {{\n",
       "            console.log([gd, 'removed!']);\n",
       "            Plotly.purge(gd);\n",
       "            observer.disconnect();\n",
       "        }}\n",
       "}});\n",
       "\n",
       "// Listen for the removal of the full notebook cells\n",
       "var notebookContainer = gd.closest('#notebook-container');\n",
       "if (notebookContainer) {{\n",
       "    x.observe(notebookContainer, {childList: true});\n",
       "}}\n",
       "\n",
       "// Listen for the clearing of the current output cell\n",
       "var outputEl = gd.closest('.output');\n",
       "if (outputEl) {{\n",
       "    x.observe(outputEl, {childList: true});\n",
       "}}\n",
       "\n",
       "                        })\n",
       "                };\n",
       "                });\n",
       "            </script>\n",
       "        </div>"
      ]
     },
     "metadata": {},
     "output_type": "display_data"
    }
   ],
   "source": [
    "# Visualizing Results\n",
    "fig = px.scatter_3d(\n",
    "    clustered_df,\n",
    "    x=\"PC1\",\n",
    "    y=\"PC2\",\n",
    "    z=\"PC3\",\n",
    "    color=\"Class\",\n",
    "    symbol=\"Class\",\n",
    "    width=800,\n",
    "    hover_name=\"CoinName\",\n",
    "    hover_data=[\"Algorithm\"],\n",
    ")\n",
    "fig.update_layout(legend=dict(x=0, y=1))\n",
    "fig.show()"
   ]
  },
  {
   "cell_type": "code",
   "execution_count": 411,
   "metadata": {
    "scrolled": true
   },
   "outputs": [
    {
     "data": {
      "text/html": [
       "<div>\n",
       "<style scoped>\n",
       "    .dataframe tbody tr th:only-of-type {\n",
       "        vertical-align: middle;\n",
       "    }\n",
       "\n",
       "    .dataframe tbody tr th {\n",
       "        vertical-align: top;\n",
       "    }\n",
       "\n",
       "    .dataframe thead th {\n",
       "        text-align: right;\n",
       "    }\n",
       "</style>\n",
       "<table border=\"1\" class=\"dataframe\">\n",
       "  <thead>\n",
       "    <tr style=\"text-align: right;\">\n",
       "      <th></th>\n",
       "      <th>Algorithm</th>\n",
       "      <th>ProofType</th>\n",
       "      <th>TotalCoinSupply_log</th>\n",
       "      <th>TotalCoinsMined_log</th>\n",
       "    </tr>\n",
       "    <tr>\n",
       "      <th>Index</th>\n",
       "      <th></th>\n",
       "      <th></th>\n",
       "      <th></th>\n",
       "      <th></th>\n",
       "    </tr>\n",
       "  </thead>\n",
       "  <tbody>\n",
       "    <tr>\n",
       "      <th>42</th>\n",
       "      <td>Scrypt</td>\n",
       "      <td>PoW/PoS</td>\n",
       "      <td>5.392317</td>\n",
       "      <td>5.392316</td>\n",
       "    </tr>\n",
       "    <tr>\n",
       "      <th>404</th>\n",
       "      <td>Scrypt</td>\n",
       "      <td>PoW/PoS</td>\n",
       "      <td>28.986851</td>\n",
       "      <td>29.974849</td>\n",
       "    </tr>\n",
       "    <tr>\n",
       "      <th>LTC</th>\n",
       "      <td>Scrypt</td>\n",
       "      <td>PoW</td>\n",
       "      <td>26.323886</td>\n",
       "      <td>25.909747</td>\n",
       "    </tr>\n",
       "    <tr>\n",
       "      <th>PRC</th>\n",
       "      <td>Scrypt</td>\n",
       "      <td>PoW</td>\n",
       "      <td>24.323886</td>\n",
       "      <td>22.459717</td>\n",
       "    </tr>\n",
       "    <tr>\n",
       "      <th>ARG</th>\n",
       "      <td>Scrypt</td>\n",
       "      <td>PoW</td>\n",
       "      <td>25.931569</td>\n",
       "      <td>23.541063</td>\n",
       "    </tr>\n",
       "    <tr>\n",
       "      <th>...</th>\n",
       "      <td>...</td>\n",
       "      <td>...</td>\n",
       "      <td>...</td>\n",
       "      <td>...</td>\n",
       "    </tr>\n",
       "    <tr>\n",
       "      <th>PAK</th>\n",
       "      <td>Scrypt</td>\n",
       "      <td>PoW</td>\n",
       "      <td>27.439363</td>\n",
       "      <td>26.054334</td>\n",
       "    </tr>\n",
       "    <tr>\n",
       "      <th>XHI</th>\n",
       "      <td>Scrypt</td>\n",
       "      <td>PoS</td>\n",
       "      <td>33.220555</td>\n",
       "      <td>33.219316</td>\n",
       "    </tr>\n",
       "    <tr>\n",
       "      <th>XWC</th>\n",
       "      <td>Scrypt</td>\n",
       "      <td>PoW/PoS</td>\n",
       "      <td>28.160387</td>\n",
       "      <td>27.908880</td>\n",
       "    </tr>\n",
       "    <tr>\n",
       "      <th>GAP</th>\n",
       "      <td>Scrypt</td>\n",
       "      <td>PoW/PoS</td>\n",
       "      <td>27.897353</td>\n",
       "      <td>23.831812</td>\n",
       "    </tr>\n",
       "    <tr>\n",
       "      <th>XBC</th>\n",
       "      <td>Scrypt</td>\n",
       "      <td>PoS</td>\n",
       "      <td>19.931569</td>\n",
       "      <td>16.969465</td>\n",
       "    </tr>\n",
       "  </tbody>\n",
       "</table>\n",
       "<p>169 rows × 4 columns</p>\n",
       "</div>"
      ],
      "text/plain": [
       "      Algorithm ProofType  TotalCoinSupply_log  TotalCoinsMined_log\n",
       "Index                                                              \n",
       "42       Scrypt   PoW/PoS             5.392317             5.392316\n",
       "404      Scrypt   PoW/PoS            28.986851            29.974849\n",
       "LTC      Scrypt       PoW            26.323886            25.909747\n",
       "PRC      Scrypt       PoW            24.323886            22.459717\n",
       "ARG      Scrypt       PoW            25.931569            23.541063\n",
       "...         ...       ...                  ...                  ...\n",
       "PAK      Scrypt       PoW            27.439363            26.054334\n",
       "XHI      Scrypt       PoS            33.220555            33.219316\n",
       "XWC      Scrypt   PoW/PoS            28.160387            27.908880\n",
       "GAP      Scrypt   PoW/PoS            27.897353            23.831812\n",
       "XBC      Scrypt       PoS            19.931569            16.969465\n",
       "\n",
       "[169 rows x 4 columns]"
      ]
     },
     "execution_count": 411,
     "metadata": {},
     "output_type": "execute_result"
    }
   ],
   "source": [
    "#crypto_df_clean[crypto_df_clean['Algorithm'] == \"Scrypt\"]"
   ]
  },
  {
   "cell_type": "code",
   "execution_count": 412,
   "metadata": {
    "scrolled": true
   },
   "outputs": [
    {
     "data": {},
     "metadata": {},
     "output_type": "display_data"
    },
    {
     "data": {
      "application/vnd.holoviews_exec.v0+json": "",
      "text/html": [
       "<div id='3943'>\n",
       "\n",
       "\n",
       "\n",
       "\n",
       "\n",
       "  <div class=\"bk-root\" id=\"2bb822dd-a685-4add-9c5b-e3995544e779\" data-root-id=\"3943\"></div>\n",
       "</div>\n",
       "<script type=\"application/javascript\">(function(root) {\n",
       "  function embed_document(root) {\n",
       "  var docs_json = {\"4da62587-6f98-46c1-9d8e-0c77cc1b15ab\":{\"roots\":{\"references\":[{\"attributes\":{},\"id\":\"3948\",\"type\":\"StringEditor\"},{\"attributes\":{},\"id\":\"3963\",\"type\":\"NumberEditor\"},{\"attributes\":{\"editor\":{\"id\":\"3948\"},\"field\":\"CoinName\",\"formatter\":{\"id\":\"3947\"},\"title\":\"CoinName\"},\"id\":\"3949\",\"type\":\"TableColumn\"},{\"attributes\":{\"margin\":[5,5,5,5],\"name\":\"HSpacer09526\",\"sizing_mode\":\"stretch_width\"},\"id\":\"3944\",\"type\":\"Spacer\"},{\"attributes\":{},\"id\":\"3973\",\"type\":\"IntEditor\"},{\"attributes\":{},\"id\":\"3952\",\"type\":\"StringFormatter\"},{\"attributes\":{},\"id\":\"3968\",\"type\":\"NumberEditor\"},{\"attributes\":{},\"id\":\"3947\",\"type\":\"StringFormatter\"},{\"attributes\":{\"children\":[{\"id\":\"3944\"},{\"id\":\"3977\"},{\"id\":\"3981\"}],\"margin\":[0,0,0,0],\"name\":\"Row09522\",\"tags\":[\"embedded\"]},\"id\":\"3943\",\"type\":\"Row\"},{\"attributes\":{\"editor\":{\"id\":\"3973\"},\"field\":\"Class\",\"formatter\":{\"id\":\"3972\"},\"title\":\"Class\"},\"id\":\"3974\",\"type\":\"TableColumn\"},{\"attributes\":{},\"id\":\"3957\",\"type\":\"StringFormatter\"},{\"attributes\":{\"margin\":[5,5,5,5],\"name\":\"HSpacer09527\",\"sizing_mode\":\"stretch_width\"},\"id\":\"3981\",\"type\":\"Spacer\"},{\"attributes\":{\"data\":{\"Algorithm\":[\"Scrypt\",\"Scrypt\",\"X13\",\"SHA-256\",\"Scrypt\",\"X11\",\"Ethash\",\"Equihash\",\"SHA-512\",\"Multiple\",\"SHA-256\",\"SHA-256\",\"Scrypt\",\"X15\",\"X11\",\"Scrypt\",\"Scrypt\",\"Multiple\",\"Scrypt\",\"SHA-256\",\"Scrypt\",\"Scrypt\",\"Quark\",\"Groestl\",\"Scrypt\",\"Scrypt\",\"Scrypt\",\"Scrypt\",\"Scrypt\",\"X11\",\"Scrypt\",\"Groestl\",\"Multiple\",\"SHA-256\",\"Scrypt\",\"Scrypt\",\"Scrypt\",\"Scrypt\",\"Scrypt\",\"NeoScrypt\",\"Scrypt\",\"Scrypt\",\"Scrypt\",\"Scrypt\",\"Scrypt\",\"X11\",\"SHA-256\",\"Scrypt\",\"Scrypt\",\"Scrypt\",\"SHA3\",\"Scrypt\",\"HybridScryptHash256\",\"Scrypt\",\"SHA-256\",\"Scrypt\",\"Scrypt\",\"SHA-256\",\"Scrypt\",\"NeoScrypt\",\"Scrypt\",\"Scrypt\",\"Scrypt\",\"Scrypt\",\"Scrypt\",\"X11\",\"SHA-256\",\"Multiple\",\"SHA-256\",\"PHI1612\",\"X11\",\"SHA-256\",\"SHA-256\",\"SHA-256\",\"Scrypt\",\"Scrypt\",\"Scrypt\",\"Lyra2REv2\",\"Scrypt\",\"X11\",\"SHA-256\",\"Scrypt\",\"CryptoNight\",\"CryptoNight\",\"Shabal256\",\"Counterparty\",\"Scrypt\",\"SHA-256\",\"Scrypt\",\"Scrypt\",\"X13\",\"Scrypt\",\"Scrypt\",\"Scrypt\",\"X13\",\"Scrypt\",\"Stanford Folding\",\"X11\",\"Scrypt\",\"Scrypt\",\"Scrypt\",\"M7 POW\",\"Scrypt\",\"SHA-256\",\"Scrypt\",\"SHA3\",\"X11\",\"Lyra2RE\",\"SHA-256\",\"QUAIT\",\"X11\",\"Scrypt\",\"Scrypt\",\"Scrypt\",\"Ethash\",\"X13\",\"SHA-256\",\"X15\",\"X11\",\"SHA-256\",\"BLAKE256\",\"Scrypt\",\"1GB AES Pattern Search\",\"SHA-256\",\"X11\",\"Scrypt\",\"SHA-256\",\"SHA-256\",\"Scrypt\",\"Scrypt\",\"X11\",\"Dagger\",\"Scrypt\",\"X11GOST\",\"X11\",\"Scrypt\",\"SHA-256\",\"Scrypt\",\"PoS\",\"Scrypt\",\"X11\",\"X11\",\"SHA-256\",\"SHA-256\",\"NIST5\",\"X11\",\"Scrypt\",\"POS 3.0\",\"Scrypt\",\"Scrypt\",\"Scrypt\",\"X13\",\"X11\",\"X11\",\"Equihash\",\"X11\",\"Scrypt\",\"CryptoNight\",\"SHA-256\",\"SHA-256\",\"X11\",\"Scrypt\",\"Multiple\",\"Scrypt\",\"SHA-256\",\"Scrypt\",\"Scrypt\",\"SHA-256D\",\"PoS\",\"X11\",\"Lyra2Z\",\"PoS\",\"X13\",\"X14\",\"PoS\",\"SHA-256D\",\"Ethash\",\"Equihash\",\"DPoS\",\"X11\",\"Scrypt\",\"X11\",\"X13\",\"X11\",\"PoS\",\"Scrypt\",\"Scrypt\",\"X11\",\"PoS\",\"X11\",\"SHA-256\",\"Scrypt\",\"X11\",\"Scrypt\",\"Scrypt\",\"X11\",\"CryptoNight\",\"Scrypt\",\"Scrypt\",\"Scrypt\",\"Scrypt\",\"Quark\",\"QuBit\",\"Scrypt\",\"CryptoNight\",\"Lyra2RE\",\"Scrypt\",\"SHA-256\",\"X11\",\"Scrypt\",\"X11\",\"Scrypt\",\"CryptoNight-V7\",\"Scrypt\",\"Scrypt\",\"Scrypt\",\"X13\",\"X11\",\"Equihash\",\"Scrypt\",\"Scrypt\",\"Lyra2RE\",\"Scrypt\",\"Dagger-Hashimoto\",\"X11\",\"Blake2S\",\"X11\",\"Scrypt\",\"PoS\",\"X11\",\"NIST5\",\"PoS\",\"X11\",\"Scrypt\",\"Scrypt\",\"Scrypt\",\"SHA-256\",\"X11\",\"Scrypt\",\"Scrypt\",\"SHA-256\",\"PoS\",\"Scrypt\",\"X15\",\"SHA-256\",\"Scrypt\",\"POS 3.0\",\"CryptoNight-V7\",\"536\",\"Blake2b\",\"Cloverhash\",\"CryptoNight\",\"NIST5\",\"X11\",\"NIST5\",\"Skein\",\"Scrypt\",\"X13\",\"Scrypt\",\"X11\",\"X11\",\"Scrypt\",\"CryptoNight\",\"X13\",\"Time Travel\",\"Scrypt\",\"Keccak\",\"SkunkHash v2 Raptor\",\"X11\",\"Skein\",\"SHA-256\",\"X11\",\"Scrypt\",\"VeChainThor Authority\",\"Scrypt\",\"PoS\",\"Scrypt\",\"Scrypt\",\"Scrypt\",\"Scrypt\",\"Scrypt\",\"Scrypt\",\"CryptoNight\",\"SHA-512\",\"Ouroboros\",\"X11\",\"Equihash\",\"NeoScrypt\",\"X11\",\"Scrypt\",\"NeoScrypt\",\"Lyra2REv2\",\"Equihash\",\"Scrypt\",\"SHA-256\",\"NIST5\",\"PHI1612\",\"Dagger\",\"Scrypt\",\"Quark\",\"Scrypt\",\"POS 2.0\",\"Scrypt\",\"SHA-256\",\"X11\",\"NeoScrypt\",\"Ethash\",\"NeoScrypt\",\"X11\",\"DPoS\",\"NIST5\",\"X13\",\"Multiple\",\"Scrypt\",\"CryptoNight\",\"CryptoNight\",\"Ethash\",\"NIST5\",\"Quark\",\"X11\",\"CryptoNight-V7\",\"Scrypt\",\"Scrypt\",\"Scrypt\",\"X11\",\"BLAKE256\",\"X11\",\"NeoScrypt\",\"Quark\",\"NeoScrypt\",\"Scrypt\",\"Scrypt\",\"Scrypt\",\"X11\",\"X11\",\"SHA-256\",\"C11\",\"POS 3.0\",\"Ethash\",\"Scrypt\",\"CryptoNight\",\"SkunkHash\",\"Scrypt\",\"CryptoNight\",\"Scrypt\",\"Dagger\",\"Lyra2REv2\",\"X13\",\"Proof-of-BibleHash\",\"SHA-256 + Hive\",\"Scrypt\",\"Scrypt\",\"X11\",\"C11\",\"Proof-of-Authority\",\"X11\",\"XEVAN\",\"Scrypt\",\"VBFT\",\"Ethash\",\"CryptoNight\",\"Scrypt\",\"IMesh\",\"NIST5\",\"Scrypt\",\"Scrypt\",\"Equihash\",\"Scrypt\",\"Lyra2Z\",\"Green Protocol\",\"PoS\",\"Scrypt\",\"Semux BFT consensus\",\"X11\",\"Quark\",\"PoS\",\"CryptoNight\",\"X16R\",\"Scrypt\",\"NIST5\",\"Lyra2RE\",\"XEVAN\",\"Tribus\",\"Scrypt\",\"Lyra2Z\",\"CryptoNight\",\"CryptoNight Heavy\",\"CryptoNight\",\"Scrypt\",\"Scrypt\",\"Jump Consistent Hash\",\"SHA-256D\",\"CryptoNight\",\"Scrypt\",\"X15\",\"Scrypt\",\"Quark\",\"SHA-256\",\"DPoS\",\"X16R\",\"HMQ1725\",\"X11\",\"X16R\",\"Quark\",\"Quark\",\"Scrypt\",\"Lyra2REv2\",\"Quark\",\"Scrypt\",\"Scrypt\",\"CryptoNight-V7\",\"Cryptonight-GPU\",\"XEVAN\",\"CryptoNight Heavy\",\"X11\",\"X11\",\"Scrypt\",\"PoS\",\"SHA-256\",\"Keccak\",\"X11\",\"X11\",\"Scrypt\",\"SHA-512\",\"X16R\",\"ECC 256K1\",\"Equihash\",\"XEVAN\",\"Lyra2Z\",\"SHA-256\",\"XEVAN\",\"CryptoNight\",\"Quark\",\"Blake\",\"Blake\",\"Equihash\",\"Exosis\",\"Scrypt\",\"Scrypt\",\"Equihash\",\"Quark\",\"Equihash\",\"Quark\",\"Scrypt\",\"QuBit\",\"X11\",\"Scrypt\",\"XEVAN\",\"SHA-256D\",\"X11\",\"SHA-256\",\"X13\",\"SHA-256\",\"X11\",\"DPoS\",\"Scrypt\",\"Scrypt\",\"NeoScrypt\",\"Scrypt\",\"Blake\",\"Scrypt\",\"SHA-256\",\"X11\",\"Scrypt\",\"Scrypt\",\"SHA-256\",\"X11\",\"SHA-256\",\"Scrypt\",\"Scrypt\",\"Scrypt\",\"Groestl\",\"X11\",\"Scrypt\",\"PoS\",\"Scrypt\",\"Scrypt\",\"X11\",\"SHA-256\",\"DPoS\",\"Scrypt\",\"Scrypt\",\"NeoScrypt\",\"Multiple\",\"X13\",\"Equihash+Scrypt\",\"Ethash\",\"SHA-256\",\"Leased POS\",\"PoS\",\"TRC10\",\"PoS\",\"SHA-256\",\"Scrypt\",\"CryptoNight\",\"Equihash\",\"Scrypt\"],\"Class\":{\"__ndarray__\":\"AQAAAAEAAAAEAAAAAAAAAAAAAAABAAAAAAAAAAAAAAAEAAAAAAAAAAEAAAABAAAAAAAAAAEAAAAAAAAAAAAAAAEAAAAAAAAAAAAAAAAAAAAAAAAAAAAAAAAAAAAAAAAAAAAAAAEAAAAAAAAAAQAAAAAAAAAAAAAABAAAAAEAAAAAAAAAAAAAAAAAAAAAAAAAAAAAAAAAAAAAAAAAAAAAAAAAAAAAAAAAAAAAAAEAAAAAAAAAAQAAAAAAAAAAAAAAAAAAAAAAAAABAAAAAAAAAAAAAAAAAAAAAQAAAAEAAAAAAAAAAAAAAAAAAAABAAAAAQAAAAEAAAAAAAAAAAAAAAAAAAABAAAAAAAAAAAAAAAAAAAABAAAAAEAAAAAAAAAAAAAAAAAAAABAAAAAQAAAAAAAAAAAAAAAAAAAAEAAAAAAAAAAQAAAAAAAAAAAAAABAAAAAEAAAAAAAAAAQAAAAAAAAAAAAAAAQAAAAAAAAABAAAAAAAAAAEAAAAAAAAAAAAAAAEAAAAAAAAAAQAAAAAAAAAAAAAAAAAAAAAAAAAAAAAAAQAAAAAAAAAAAAAAAAAAAAEAAAAAAAAAAAAAAAAAAAABAAAAAAAAAAEAAAABAAAAAQAAAAAAAAAAAAAAAQAAAAAAAAAAAAAAAQAAAAQAAAAAAAAAAQAAAAAAAAABAAAAAQAAAAAAAAAAAAAAAAAAAAAAAAABAAAABAAAAAEAAAAEAAAAAQAAAAAAAAAAAAAAAQAAAAEAAAABAAAAAQAAAAEAAAAAAAAAAQAAAAEAAAABAAAAAQAAAAEAAAAAAAAAAQAAAAAAAAABAAAAAQAAAAAAAAABAAAAAAAAAAEAAAABAAAAAAAAAAAAAAAAAAAABAAAAAAAAAAEAAAAAQAAAAEAAAAAAAAAAQAAAAEAAAABAAAAAQAAAAQAAAAAAAAAAAAAAAQAAAABAAAAAAAAAAAAAAAEAAAABAAAAAEAAAABAAAAAQAAAAAAAAABAAAAAQAAAAEAAAABAAAAAQAAAAEAAAABAAAAAQAAAAAAAAABAAAABAAAAAEAAAABAAAAAQAAAAEAAAAAAAAAAAAAAAAAAAABAAAAAQAAAAEAAAABAAAAAAAAAAEAAAAAAAAAAQAAAAEAAAAAAAAAAQAAAAAAAAAAAAAAAQAAAAAAAAAAAAAAAQAAAAAAAAABAAAAAQAAAAEAAAAAAAAAAQAAAAEAAAAAAAAAAQAAAAEAAAABAAAAAQAAAAEAAAAEAAAAAQAAAAAAAAABAAAAAAAAAAEAAAABAAAABAAAAAEAAAAAAAAAAQAAAAAAAAAEAAAAAAAAAAAAAAAAAAAAAQAAAAAAAAABAAAAAQAAAAAAAAABAAAAAAAAAAAAAAAAAAAABAAAAAAAAAAEAAAAAAAAAAAAAAAAAAAAAQAAAAAAAAABAAAAAAAAAAEAAAAEAAAAAwAAAAAAAAABAAAAAAAAAAAAAAAAAAAAAAAAAAEAAAABAAAAAAAAAAEAAAAEAAAAAQAAAAAAAAABAAAAAAAAAAEAAAAAAAAAAQAAAAAAAAAEAAAAAQAAAAEAAAABAAAAAAAAAAEAAAABAAAAAAAAAAEAAAABAAAABAAAAAAAAAAAAAAAAAAAAAAAAAABAAAABAAAAAQAAAABAAAAAAAAAAEAAAAAAAAAAAAAAAAAAAABAAAAAQAAAAAAAAAAAAAABAAAAAEAAAAAAAAAAQAAAAAAAAAAAAAAAAAAAAEAAAAAAAAAAAAAAAEAAAABAAAAAQAAAAAAAAAAAAAAAAAAAAEAAAABAAAAAQAAAAAAAAAAAAAAAQAAAAAAAAAAAAAAAAAAAAAAAAABAAAABAAAAAIAAAAAAAAAAAAAAAAAAAABAAAAAgAAAAEAAAABAAAAAQAAAAQAAAAAAAAAAAAAAAAAAAAAAAAAAQAAAAEAAAABAAAAAAAAAAEAAAAAAAAAAQAAAAEAAAABAAAABAAAAAAAAAABAAAAAQAAAAAAAAABAAAAAQAAAAAAAAAAAAAAAQAAAAAAAAABAAAAAAAAAAAAAAAAAAAAAAAAAAQAAAABAAAAAAAAAAEAAAAAAAAAAQAAAAEAAAAEAAAAAQAAAAEAAAABAAAAAAAAAAAAAAAAAAAAAQAAAAEAAAABAAAAAQAAAAEAAAABAAAAAAAAAAEAAAAAAAAAAAAAAAAAAAAAAAAAAQAAAAEAAAABAAAAAQAAAAAAAAABAAAAAQAAAAAAAAAEAAAABAAAAAAAAAACAAAAAAAAAAEAAAAAAAAAAAAAAAQAAAAAAAAAAQAAAAAAAAAAAAAAAQAAAAAAAAAAAAAAAQAAAAAAAAABAAAAAAAAAAEAAAAEAAAAAAAAAAEAAAABAAAAAQAAAAQAAAABAAAAAAAAAAEAAAAAAAAAAQAAAAQAAAAEAAAAAAAAAAAAAAABAAAAAAAAAAEAAAABAAAAAQAAAAAAAAABAAAAAQAAAAEAAAAAAAAAAQAAAAAAAAABAAAAAAAAAAEAAAABAAAAAQAAAAAAAAAAAAAAAQAAAAEAAAAEAAAABAAAAAEAAAABAAAAAAAAAAEAAAAAAAAAAAAAAAEAAAACAAAAAQAAAAQAAAAEAAAABAAAAAEAAAAAAAAAAAAAAAEAAAA=\",\"dtype\":\"int32\",\"shape\":[497]},\"CoinName\":[\"42 Coin\",\"404Coin\",\"EliteCoin\",\"Bitcoin\",\"Litecoin\",\"Dash\",\"Ethereum Classic\",\"ZCash\",\"Bitshares\",\"DigiByte\",\"BitcoinDark\",\"PayCoin\",\"ProsperCoin\",\"KoboCoin\",\"Spreadcoin\",\"Argentum\",\"Aurora Coin\",\"MyriadCoin\",\"MoonCoin\",\"ZetaCoin\",\"SexCoin\",\"Quatloo\",\"QuarkCoin\",\"Riecoin\",\"Digitalcoin \",\"BitBar\",\"Catcoin\",\"CryptoBullion\",\"CannaCoin\",\"CryptCoin\",\"CasinoCoin\",\"Diamond\",\"Verge\",\"DevCoin\",\"EarthCoin\",\"E-Gulden\",\"Einsteinium\",\"Emerald\",\"Franko\",\"FeatherCoin\",\"GrandCoin\",\"GlobalCoin\",\"GoldCoin\",\"HoboNickels\",\"Infinite Coin\",\"IOCoin\",\"IXcoin\",\"KrugerCoin\",\"LuckyCoin\",\"Litebar \",\"MaxCoin\",\"MegaCoin\",\"MediterraneanCoin\",\"MinCoin\",\"MazaCoin\",\"Nautilus Coin\",\"NobleCoin\",\"Namecoin\",\"NyanCoin\",\"Orbitcoin\",\"PotCoin\",\"PhoenixCoin\",\"RonPaulCoin\",\"StableCoin\",\"SmartCoin\",\"SyncCoin\",\"SysCoin\",\"TeslaCoin\",\"TigerCoin\",\"TittieCoin\",\"TorCoin\",\"TerraCoin\",\"UnbreakableCoin\",\"Unobtanium\",\"UnitaryStatus Dollar\",\"UltraCoin\",\"ViaCoin\",\"Vertcoin\",\"WorldCoin\",\"X11 Coin\",\"JouleCoin\",\"ZCC Coin\",\"ByteCoin\",\"DigitalNote \",\"BurstCoin\",\"StorjCoin\",\"MonaCoin\",\"Neutron\",\"Gulden\",\"PesetaCoin\",\"Kore\",\"Wild Beast Coin\",\"Dnotes\",\"Flo\",\"Sativa Coin\",\"ArtByte\",\"Folding Coin\",\"Ucoin\",\"OmniCron\",\"Vtorrent\",\"GreenCoin\",\"Cryptonite\",\"MasterCoin\",\"SoonCoin\",\"1Credit\",\"Nexus\",\"MarsCoin \",\"Crypto\",\"Anarchists Prime\",\"Droidz\",\"BowsCoin\",\"Song Coin\",\"BitZeny\",\"Diggits\",\"Expanse\",\"Paycon\",\"Emercoin\",\"EverGreenCoin\",\"MindCoin\",\"I0coin\",\"Decred\",\"Revolution VR\",\"HOdlcoin\",\"EDRCoin\",\"Hitcoin\",\"Gamecredits\",\"DubaiCoin\",\"CarpeDiemCoin\",\"BillaryCoin\",\"GPU Coin\",\"Adzcoin\",\"SoilCoin\",\"YoCoin\",\"SibCoin\",\"EuropeCoin\",\"ZeitCoin\",\"SwingCoin\",\"SafeExchangeCoin\",\"Nebuchadnezzar\",\"Francs\",\"BolivarCoin\",\"Ratecoin\",\"Revenu\",\"Clockcoin\",\"VIP Tokens\",\"BitSend\",\"Omni\",\"Let it Ride\",\"PutinCoin\",\"iBankCoin\",\"Frankywillcoin\",\"MudraCoin\",\"PizzaCoin\",\"Lutetium Coin\",\"Komodo\",\"GoldBlocks\",\"CarterCoin\",\"Karbo\",\"BitTokens\",\"ZayedCoin\",\"MustangCoin\",\"ZoneCoin\",\"Circuits of Value\",\"DopeCoin\",\"DollarCoin\",\"Swiscoin\",\"Shilling\",\"BuzzCoin\",\"Opair\",\"Halloween Coin\",\"ZCoin\",\"CoffeeCoin\",\"RoyalCoin\",\"GanjaCoin V2\",\"TeamUP\",\"LanaCoin\",\"Elementrem\",\"ZClassic\",\"ARK\",\"InsaneCoin\",\"KiloCoin\",\"ArtexCoin\",\"EmberCoin\",\"XenixCoin\",\"FreeCoin\",\"PLNCoin\",\"AquariusCoin\",\"Kurrent\",\"Creatio\",\"Eternity\",\"Eurocoin\",\"BitcoinFast\",\"Stakenet\",\"BitConnect Coin\",\"MoneyCoin\",\"Enigma\",\"Cannabis Industry Coin\",\"Russiacoin\",\"PandaCoin\",\"GameUnits\",\"GAKHcoin\",\"Allsafe\",\"LiteCreed\",\"OsmiumCoin\",\"Bikercoins\",\"HexxCoin\",\"Klingon Empire Darsek\",\"Internet of People\",\"KushCoin\",\"Printerium\",\"PacCoin\",\"Impeach\",\"Citadel\",\"Zilbercoin\",\"FirstCoin\",\"BeaverCoin\",\"FindCoin\",\"VaultCoin\",\"Zero\",\"OpenChat\",\"Canada eCoin\",\"Zoin\",\"RenosCoin\",\"DubaiCoin\",\"VirtacoinPlus\",\"TajCoin\",\"Impact\",\"EB3coin\",\"Atmos\",\"HappyCoin\",\"Coinonat\",\"MacronCoin\",\"Condensate\",\"Independent Money System\",\"ArgusCoin\",\"LomoCoin\",\"ProCurrency\",\"GoldReserve\",\"BenjiRolls\",\"GrowthCoin\",\"ILCoin\",\"Phreak\",\"Degas Coin\",\"HTML5 Coin\",\"Ultimate Secure Cash\",\"EquiTrader\",\"QTUM\",\"Quantum Resistant Ledger\",\"Espers\",\"Nano\",\"ChanCoin\",\"Dinastycoin\",\"Denarius\",\"DigitalPrice\",\"Virta Unique Coin\",\"Bitcoin Planet\",\"Unify\",\"BritCoin\",\"SocialCoin\",\"ArcticCoin\",\"DAS\",\"Linda\",\"LeviarCoin\",\"DeepOnion\",\"Bitcore\",\"gCn Coin\",\"SmartCash\",\"Signatum\",\"Onix\",\"Cream\",\"Bitcoin Cash\",\"Monoeci\",\"Draftcoin\",\"Vechain\",\"Sojourn Coin\",\"Stakecoin\",\"FrazCoin\",\"Kronecoin\",\"AdCoin\",\"Linx\",\"CoinonatX\",\"Ethereum Dark\",\"Sumokoin\",\"Obsidian\",\"Cardano\",\"Regalcoin\",\"BitcoinZ\",\"TrezarCoin\",\"Elements\",\"TerraNovaCoin\",\"VIVO Coin\",\"Rupee\",\"Bitcoin Gold\",\"WomenCoin\",\"Theresa May Coin\",\"NamoCoin\",\"LUXCoin\",\"Pirl\",\"Xios\",\"Bitcloud 2.0\",\"eBoost\",\"KekCoin\",\"BlackholeCoin\",\"Infinity Economics\",\"Pura\",\"Innova\",\"Ellaism\",\"GoByte\",\"Magnet\",\"Lamden Tau\",\"Electra\",\"Bitcoin Diamond\",\"SHIELD\",\"Cash & Back Coin\",\"UltraNote\",\"BitCoal\",\"DaxxCoin\",\"Bulwark\",\"Kalkulus\",\"AC3\",\"Lethean\",\"GermanCoin\",\"LiteCoin Ultra\",\"PopularCoin\",\"PhantomX\",\"Photon\",\"Sucre\",\"SparksPay\",\"Digiwage\",\"GunCoin\",\"IrishCoin\",\"Trollcoin\",\"Litecoin Plus\",\"Monkey Project\",\"Pioneer Coin\",\"UnitedBitcoin\",\"Interzone\",\"TokenPay\",\"1717 Masonic Commemorative Token\",\"My Big Coin\",\"TurtleCoin\",\"MUNcoin\",\"Unified Society USDEX\",\"Niobio Cash\",\"ShareChain\",\"Travelflex\",\"KREDS\",\"Tokyo Coin\",\"BiblePay\",\"LitecoinCash\",\"BitFlip\",\"LottoCoin\",\"Crypto Improvement Fund\",\"Stipend\",\"Poa Network\",\"Pushi\",\"Ellerium\",\"Velox\",\"Ontology\",\"Callisto Network\",\"BitTube\",\"Poseidon\",\"Aidos Kuneen\",\"Bitspace\",\"Briacoin\",\"Ignition\",\"Bitrolium\",\"MedicCoin\",\"Alpenschillling\",\"Bitcoin Green\",\"Deviant Coin\",\"Abjcoin\",\"Semux\",\"FuturoCoin\",\"Carebit\",\"Zealium\",\"Monero Classic\",\"Proton\",\"iDealCash\",\"Jumpcoin\",\"Infinex\",\"Bitcoin Incognito\",\"KEYCO\",\"HollyWoodCoin\",\"GINcoin\",\"PlatinCoin\",\"Loki\",\"Newton Coin\",\"Swisscoin\",\"Xt3ch\",\"MassGrid\",\"TheVig\",\"PluraCoin\",\"EmaratCoin\",\"Dekado\",\"Lynx\",\"Poseidon Quark\",\"BitcoinWSpectrum\",\"Muse\",\"Motion\",\"PlusOneCoin\",\"Axe\",\"Trivechain\",\"Dystem\",\"Giant\",\"Peony Coin\",\"Absolute Coin\",\"Vitae\",\"HexCoin\",\"TPCash\",\"Webchain\",\"Ryo\",\"Urals Coin\",\"Qwertycoin\",\"ARENON\",\"EUNO\",\"MMOCoin\",\"Ketan\",\"Project Pai\",\"XDNA\",\"PAXEX\",\"Azart\",\"ThunderStake\",\"Kcash\",\"Xchange\",\"Acute Angle Cloud\",\"CrypticCoin\",\"Bettex coin\",\"Actinium\",\"Bitcoin SV\",\"BitMoney\",\"FREDEnergy\",\"HerbCoin\",\"Universal Molecule\",\"Lithium\",\"PirateCash\",\"Exosis\",\"Block-Logic\",\"Oduwa\",\"Beam\",\"Galilel\",\"Bithereum\",\"Crypto Sports\",\"Credit\",\"SLICE\",\"Dash Platinum\",\"Nasdacoin\",\"Beetle Coin\",\"Titan Coin\",\"Award\",\"BLAST\",\"Bitcoin Rhodium\",\"GlobalToken\",\"Insane Coin\",\"ALAX\",\"LiteDoge\",\"SolarCoin\",\"UFO Coin\",\"OrangeCoin\",\"BlakeCoin\",\"BitstarCoin\",\"NeosCoin\",\"PinkCoin\",\"Crypto Escudo\",\"AudioCoin\",\"IncaKoin\",\"Piggy Coin\",\"Crown Coin\",\"Genstake\",\"SmileyCoin\",\"XiaoMiCoin\",\"Groestlcoin\",\"CapriCoin\",\" ClubCoin\",\"Radium\",\"Bata\",\"Pakcoin\",\"Creditbit \",\"OKCash\",\"Lisk\",\"HiCoin\",\"WhiteCoin\",\"FriendshipCoin\",\"JoinCoin\",\"Triangles Coin\",\"Vollar\",\"Reality Clash\",\"TigerCash\",\"Waves\",\"Particl\",\"BitTorrent\",\"Nxt\",\"ZEPHYR\",\"Gapcoin\",\"Beldex\",\"Horizen\",\"BitcoinPlus\"],\"ProofType\":[\"PoW/PoS\",\"PoW/PoS\",\"PoW/PoS\",\"PoW\",\"PoW\",\"PoW/PoS\",\"PoW\",\"PoW\",\"PoS\",\"PoW\",\"PoW/PoS\",\"PoS\",\"PoW\",\"PoW/PoS\",\"PoW\",\"PoW\",\"PoW/PoS\",\"PoW\",\"PoW\",\"PoW\",\"PoW\",\"PoW\",\"PoW\",\"PoW\",\"PoW\",\"PoW/PoS\",\"PoW\",\"PoW/PoS\",\"PoW\",\"PoW\",\"PoC\",\"PoW/PoS\",\"PoW\",\"PoW\",\"PoW\",\"PoW\",\"PoW\",\"PoW\",\"PoW\",\"PoW\",\"PoW\",\"PoW\",\"PoW\",\"PoW/PoS\",\"PoW\",\"PoW/PoS\",\"PoW\",\"PoW\",\"PoW\",\"PoW\",\"PoW/PoS\",\"PoW\",\"PoW\",\"PoW\",\"PoW/PoS\",\"PoS\",\"PoW\",\"PoW\",\"PoW\",\"PoW/PoS\",\"PoW/PoS\",\"PoW/PoS\",\"PoW\",\"PoW\",\"PoW\",\"PoW/PoS\",\"PoW\",\"PoS\",\"PoW\",\"PoS\",\"PoW/PoS\",\"PoW\",\"PoW\",\"PoW\",\"PoW/PoS\",\"PoW/PoS\",\"PoW\",\"PoW\",\"PoW\",\"PoW/PoS\",\"PoW\",\"PoW/PoS\",\"PoW\",\"PoW\",\"PoC\",\"PoS\",\"PoW\",\"PoW/PoS\",\"PoW\",\"PoW\",\"PoW/PoS\",\"PoW\",\"PoS\",\"PoW\",\"PoW/PoS\",\"PoW\",\"PoW\",\"PoS\",\"PoW\",\"PoW/PoS\",\"PoW\",\"PoW\",\"PoW\",\"PoW\",\"PoW\",\"PoW/nPoS\",\"PoW\",\"PoW\",\"PoW\",\"PoW/PoS\",\"PoW\",\"PoW\",\"PoW\",\"PoS\",\"PoW\",\"PoW/PoS\",\"PoW/PoS\",\"PoW/PoS\",\"PoW\",\"PoW\",\"PoW/PoS\",\"PoW\",\"PoW\",\"PoW/PoS\",\"PoW/PoS\",\"PoW\",\"PoW/PoS\",\"PoW\",\"PoW/PoS\",\"PoS\",\"PoW\",\"PoW\",\"PoW\",\"PoW\",\"PoW/PoS\",\"PoS\",\"PoW/PoS\",\"PoC\",\"PoS\",\"PoW\",\"PoW\",\"PoW/PoS\",\"PoW/PoS\",\"PoW/PoS\",\"PoW/PoS\",\"PoW/PoS\",\"PoW\",\"PoS\",\"PoW/PoS\",\"PoW/PoS\",\"PoW/PoS\",\"PoS\",\"PoW\",\"PoS\",\"dPoW/PoW\",\"PoW/PoS\",\"PoW/PoS\",\"PoW\",\"PoW/PoS\",\"PoW\",\"PoW/PoS\",\"PoW/PoS\",\"PoW\",\"PoW\",\"PoW\",\"PoW/PoW\",\"PoW\",\"PoW/PoS\",\"PoS\",\"PoW/PoS\",\"PoW\",\"PoS\",\"PoS\",\"PoW/PoS\",\"PoS\",\"PoW/PoS\",\"PoW\",\"PoW\",\"DPoS\",\"PoW/PoS\",\"PoW\",\"PoW\",\"PoW/PoS\",\"PoW/PoS\",\"PoS\",\"PoW/PoS\",\"PoW/PoS\",\"PoW\",\"PoS\",\"PoW/PoS\",\"PoW/PoS\",\"PoW/PoS\",\"TPoS\",\"PoW/PoS\",\"PoW/PoS\",\"PoW/PoS\",\"PoW\",\"PoW/PoS\",\"PoS\",\"PoW/PoS\",\"PoW/PoS\",\"PoS\",\"PoW/PoS\",\"PoW\",\"PoW\",\"PoW\",\"PoW/PoS\",\"PoW/PoS\",\"PoW/PoS\",\"PoW/PoS\",\"PoW\",\"PoW/PoS\",\"PoW\",\"PoS\",\"PoW/PoS \",\"PoW\",\"PoS\",\"PoW\",\"PoW\",\"PoW/PoS\",\"PoW\",\"PoW\",\"PoS\",\"PoW\",\"PoW/PoS\",\"PoW/PoS\",\"PoW/PoS\",\"PoW\",\"PoS\",\"PoW/PoS\",\"PoW\",\"PoS\",\"PoW/PoS\",\"PoW/PoS\",\"PoW/PoS\",\"PoW/PoS\",\"PoS\",\"PoW/PoS\",\"PoW\",\"PoS\",\"PoW\",\"PoS\",\"PoW/PoS\",\"PoW/PoS\",\"PoS\",\"PoW\",\"PoS\",\"PoW\",\"PoW/PoS\",\"PoW\",\"PoW\",\"PoW\",\"PoW/PoS\",\"PoW\",\"PoW/PoS\",\"PoW/PoS\",\"PoW\",\"PoW/PoS\",\"PoW\",\"PoW\",\"PoW\",\"PoW/PoS\",\"PoW\",\"PoW/PoS\",\"PoW\",\"PoW\",\"PoW\",\"PoS\",\"PoW\",\"PoW/PoS\",\"PoW\",\"PoW/PoS\",\"PoS\",\"Proof of Authority\",\"PoW\",\"PoS\",\"PoW\",\"PoW\",\"PoW\",\"PoW\",\"PoW/PoS\",\"PoW/PoS\",\"PoW\",\"PoS\",\"PoS\",\"PoW/PoS\",\"PoW\",\"PoW/PoS\",\"PoW\",\"PoW/PoS\",\"PoW\",\"PoS\",\"PoW\",\"PoW/PoS\",\"PoW/PoS\",\"PoW/PoS\",\"PoW/PoS\",\"PoW\",\"PoW/PoS\",\"PoW/PoS\",\"PoW\",\"PoS\",\"PoW/PoS\",\"PoS\",\"PoW\",\"PoW\",\"PoW\",\"PoW\",\"PoW/PoS\",\"DPoS\",\"PoW/PoS\",\"PoW/PoS\",\"PoW\",\"PoW/PoS\",\"PoW\",\"PoW\",\"PoW\",\"PoS\",\"PoS\",\"PoW\",\"PoW\",\"PoW/PoS\",\"PoW/PoS\",\"PoW\",\"PoW/PoS\",\"PoW\",\"PoW\",\"PoW\",\"PoS\",\"PoW\",\"PoW\",\"PoW/PoS\",\"PoW/PoS\",\"PoS\",\"PoW\",\"PoW\",\"PoW\",\"PoS\",\"PoS\",\"PoW and PoS\",\"PoW\",\"PoW\",\"PoW/PoS\",\"PoW\",\"PoW\",\"PoW\",\"PoW\",\"PoS\",\"POBh\",\"PoW + Hive\",\"PoW\",\"PoW\",\"PoW\",\"PoW/PoS\",\"PoA\",\"PoW/PoS\",\"PoW/PoS\",\"PoS\",\"PoS\",\"PoW\",\"PoW\",\"PoW\",\"PoW\",\"PoW/PoS\",\"PoW/PoS\",\"PoW/PoS\",\"PoW\",\"PoS\",\"PoW\",\"PoS\",\"PoS\",\"PoW/PoS\",\"DPoS\",\"PoW\",\"PoW/PoS\",\"PoS\",\"PoW\",\"PoS\",\"PoW/PoS\",\"PoW\",\"PoW\",\"PoS/PoW\",\"PoW\",\"PoS\",\"PoW\",\"PoW\",\"PoW\",\"PoW\",\"PoW/PoS\",\"PoS\",\"PoW\",\"PoW/PoS\",\"PoW\",\"PoW/PoS\",\"PoS\",\"HPoW\",\"PoS\",\"PoS\",\"PoS\",\"PoW\",\"PoW\",\"PoW\",\"PoW/PoS\",\"PoS\",\"PoW/PoS\",\"PoS\",\"PoW/PoS\",\"PoS\",\"PoW\",\"PoW/PoS\",\"PoW\",\"PoW\",\"PoW\",\"PoW\",\"PoS\",\"PoW/PoS\",\"PoS\",\"PoS\",\"PoW\",\"PoW/PoS\",\"PoS\",\"PoW\",\"PoW/PoS\",\"Zero-Knowledge Proof\",\"PoW\",\"DPOS\",\"PoW\",\"PoS\",\"PoW\",\"PoW\",\"Pos\",\"PoW\",\"PoW/PoS\",\"PoW\",\"PoW\",\"PoS\",\"PoW\",\"PoW\",\"PoW/PoS\",\"PoW\",\"PoW/PoS\",\"PoW\",\"PoS\",\"PoW/PoS\",\"PoW\",\"PoS\",\"PoW/PoS\",\"PoW/PoS\",\"PoW/PoS\",\"PoW/PoS\",\"PoW\",\"PoW\",\"PoW\",\"PoW/PoS\",\"DPoS\",\"PoW/PoS\",\"PoW\",\"PoW\",\"PoW/PoS\",\"PoW\",\"PoW/PoS\",\"PoS\",\"PoW/PoS\",\"PoW\",\"PoW/PoS\",\"PoW/PoS\",\"PoW/PoS\",\"PoW\",\"PoW/PoS\",\"PoW\",\"PoW/PoS\",\"PoW\",\"PoW/PoS\",\"PoW/PoS\",\"PoS\",\"PoW\",\"PoW\",\"Proof of Trust\",\"PoW/PoS\",\"DPoS\",\"PoS\",\"PoW/PoS\",\"PoW/PoS\",\"PoW\",\"PoW/PoS\",\"PoW\",\"PoW\",\"PoS\",\"LPoS\",\"PoS\",\"DPoS\",\"PoS/LPoS\",\"DPoS\",\"PoW/PoS\",\"PoW\",\"PoW\",\"PoS\"],\"TotalCoinSupply_log\":{\"__ndarray__\":\"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\",\"dtype\":\"float64\",\"shape\":[497]},\"TotalCoinsMined_log\":{\"__ndarray__\":\"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\",\"dtype\":\"float64\",\"shape\":[497]}},\"selected\":{\"id\":\"3946\"},\"selection_policy\":{\"id\":\"3979\"}},\"id\":\"3945\",\"type\":\"ColumnDataSource\"},{\"attributes\":{},\"id\":\"3972\",\"type\":\"NumberFormatter\"},{\"attributes\":{},\"id\":\"3958\",\"type\":\"StringEditor\"},{\"attributes\":{},\"id\":\"3979\",\"type\":\"UnionRenderers\"},{\"attributes\":{\"editor\":{\"id\":\"3963\"},\"field\":\"TotalCoinSupply_log\",\"formatter\":{\"id\":\"3962\"},\"title\":\"TotalCoinSupply_log\"},\"id\":\"3964\",\"type\":\"TableColumn\"},{\"attributes\":{\"source\":{\"id\":\"3945\"}},\"id\":\"3978\",\"type\":\"CDSView\"},{\"attributes\":{},\"id\":\"3953\",\"type\":\"StringEditor\"},{\"attributes\":{},\"id\":\"3946\",\"type\":\"Selection\"},{\"attributes\":{\"columns\":[{\"id\":\"3949\"},{\"id\":\"3954\"},{\"id\":\"3959\"},{\"id\":\"3964\"},{\"id\":\"3969\"},{\"id\":\"3974\"}],\"height\":300,\"reorderable\":false,\"source\":{\"id\":\"3945\"},\"view\":{\"id\":\"3978\"},\"width\":700},\"id\":\"3977\",\"type\":\"DataTable\"},{\"attributes\":{\"editor\":{\"id\":\"3968\"},\"field\":\"TotalCoinsMined_log\",\"formatter\":{\"id\":\"3967\"},\"title\":\"TotalCoinsMined_log\"},\"id\":\"3969\",\"type\":\"TableColumn\"},{\"attributes\":{\"format\":\"0,0.0[00000]\"},\"id\":\"3967\",\"type\":\"NumberFormatter\"},{\"attributes\":{\"format\":\"0,0.0[00000]\"},\"id\":\"3962\",\"type\":\"NumberFormatter\"},{\"attributes\":{\"editor\":{\"id\":\"3953\"},\"field\":\"Algorithm\",\"formatter\":{\"id\":\"3952\"},\"title\":\"Algorithm\"},\"id\":\"3954\",\"type\":\"TableColumn\"},{\"attributes\":{\"editor\":{\"id\":\"3958\"},\"field\":\"ProofType\",\"formatter\":{\"id\":\"3957\"},\"title\":\"ProofType\"},\"id\":\"3959\",\"type\":\"TableColumn\"}],\"root_ids\":[\"3943\"]},\"title\":\"Bokeh Application\",\"version\":\"2.0.2\"}};\n",
       "  var render_items = [{\"docid\":\"4da62587-6f98-46c1-9d8e-0c77cc1b15ab\",\"root_ids\":[\"3943\"],\"roots\":{\"3943\":\"2bb822dd-a685-4add-9c5b-e3995544e779\"}}];\n",
       "  root.Bokeh.embed.embed_items_notebook(docs_json, render_items);\n",
       "  }\n",
       "if (root.Bokeh !== undefined) {\n",
       "    embed_document(root);\n",
       "  } else {\n",
       "    var attempts = 0;\n",
       "    var timer = setInterval(function(root) {\n",
       "      if (root.Bokeh !== undefined) {\n",
       "        clearInterval(timer);\n",
       "        embed_document(root);\n",
       "      } else if (document.readyState == \"complete\") {\n",
       "        attempts++;\n",
       "        if (attempts > 100) {\n",
       "          clearInterval(timer);\n",
       "          console.log(\"Bokeh: ERROR: Unable to run BokehJS code because BokehJS library is missing\");\n",
       "        }\n",
       "      }\n",
       "    }, 10, root)\n",
       "  }\n",
       "})(window);</script>"
      ],
      "text/plain": [
       ":Table   [CoinName,Algorithm,ProofType,TotalCoinSupply_log,TotalCoinsMined_log,Class]"
      ]
     },
     "execution_count": 412,
     "metadata": {
      "application/vnd.holoviews_exec.v0+json": {
       "id": "3943"
      }
     },
     "output_type": "execute_result"
    }
   ],
   "source": [
    "clustered_df.hvplot.table(columns=['CoinName', 'Algorithm', 'ProofType', 'TotalCoinSupply_log', 'TotalCoinsMined_log','Class'], sortable=True, selectable=True)"
   ]
  },
  {
   "cell_type": "code",
   "execution_count": 414,
   "metadata": {},
   "outputs": [
    {
     "data": {},
     "metadata": {},
     "output_type": "display_data"
    },
    {
     "data": {
      "application/vnd.holoviews_exec.v0+json": "",
      "text/html": [
       "<div id='4342'>\n",
       "\n",
       "\n",
       "\n",
       "\n",
       "\n",
       "  <div class=\"bk-root\" id=\"30677f43-16e4-4e52-a6e0-ba5050b49037\" data-root-id=\"4342\"></div>\n",
       "</div>\n",
       "<script type=\"application/javascript\">(function(root) {\n",
       "  function embed_document(root) {\n",
       "  var docs_json = {\"e4526940-fc93-42b2-90f0-b3275686d6a6\":{\"roots\":{\"references\":[{\"attributes\":{\"axis\":{\"id\":\"4364\"},\"dimension\":1,\"grid_line_color\":null,\"ticker\":null},\"id\":\"4367\",\"type\":\"Grid\"},{\"attributes\":{\"data_source\":{\"id\":\"4437\"},\"glyph\":{\"id\":\"4440\"},\"hover_glyph\":null,\"muted_glyph\":{\"id\":\"4442\"},\"nonselection_glyph\":{\"id\":\"4441\"},\"selection_glyph\":null,\"view\":{\"id\":\"4444\"}},\"id\":\"4443\",\"type\":\"GlyphRenderer\"},{\"attributes\":{\"axis\":{\"id\":\"4360\"},\"grid_line_color\":null,\"ticker\":null},\"id\":\"4363\",\"type\":\"Grid\"},{\"attributes\":{\"fill_color\":{\"value\":\"#1f77b3\"},\"line_color\":{\"value\":\"#1f77b3\"},\"size\":{\"units\":\"screen\",\"value\":5.477225575051661},\"x\":{\"field\":\"TotalCoinsMined_log\"},\"y\":{\"field\":\"TotalCoinSupply_log\"}},\"id\":\"4388\",\"type\":\"Scatter\"},{\"attributes\":{},\"id\":\"4383\",\"type\":\"BasicTickFormatter\"},{\"attributes\":{\"data_source\":{\"id\":\"4401\"},\"glyph\":{\"id\":\"4404\"},\"hover_glyph\":null,\"muted_glyph\":{\"id\":\"4406\"},\"nonselection_glyph\":{\"id\":\"4405\"},\"selection_glyph\":null,\"view\":{\"id\":\"4408\"}},\"id\":\"4407\",\"type\":\"GlyphRenderer\"},{\"attributes\":{},\"id\":\"4477\",\"type\":\"UnionRenderers\"},{\"attributes\":{\"click_policy\":\"mute\",\"items\":[{\"id\":\"4400\"},{\"id\":\"4417\"},{\"id\":\"4436\"},{\"id\":\"4457\"},{\"id\":\"4480\"}],\"location\":[0,0],\"title\":\"Class\"},\"id\":\"4399\",\"type\":\"Legend\"},{\"attributes\":{\"label\":{\"value\":\"3\"},\"renderers\":[{\"id\":\"4443\"}]},\"id\":\"4457\",\"type\":\"LegendItem\"},{\"attributes\":{\"fill_alpha\":{\"value\":0.1},\"fill_color\":{\"value\":\"#2ba02b\"},\"line_alpha\":{\"value\":0.1},\"line_color\":{\"value\":\"#2ba02b\"},\"size\":{\"units\":\"screen\",\"value\":5.477225575051661},\"x\":{\"field\":\"TotalCoinsMined_log\"},\"y\":{\"field\":\"TotalCoinSupply_log\"}},\"id\":\"4422\",\"type\":\"Scatter\"},{\"attributes\":{},\"id\":\"4369\",\"type\":\"PanTool\"},{\"attributes\":{\"overlay\":{\"id\":\"4373\"}},\"id\":\"4371\",\"type\":\"BoxZoomTool\"},{\"attributes\":{},\"id\":\"4361\",\"type\":\"BasicTicker\"},{\"attributes\":{\"data_source\":{\"id\":\"4418\"},\"glyph\":{\"id\":\"4421\"},\"hover_glyph\":null,\"muted_glyph\":{\"id\":\"4423\"},\"nonselection_glyph\":{\"id\":\"4422\"},\"selection_glyph\":null,\"view\":{\"id\":\"4425\"}},\"id\":\"4424\",\"type\":\"GlyphRenderer\"},{\"attributes\":{\"fill_alpha\":{\"value\":0.2},\"fill_color\":{\"value\":\"#ff7e0e\"},\"line_alpha\":{\"value\":0.2},\"line_color\":{\"value\":\"#ff7e0e\"},\"size\":{\"units\":\"screen\",\"value\":5.477225575051661},\"x\":{\"field\":\"TotalCoinsMined_log\"},\"y\":{\"field\":\"TotalCoinSupply_log\"}},\"id\":\"4406\",\"type\":\"Scatter\"},{\"attributes\":{\"fill_alpha\":{\"value\":0.2},\"fill_color\":{\"value\":\"#2ba02b\"},\"line_alpha\":{\"value\":0.2},\"line_color\":{\"value\":\"#2ba02b\"},\"size\":{\"units\":\"screen\",\"value\":5.477225575051661},\"x\":{\"field\":\"TotalCoinsMined_log\"},\"y\":{\"field\":\"TotalCoinSupply_log\"}},\"id\":\"4423\",\"type\":\"Scatter\"},{\"attributes\":{\"data\":{\"Class\":[3],\"CoinName\":[\"Vechain\"],\"TotalCoinSupply_log\":{\"__ndarray__\":\"2YdPbPIqQkA=\",\"dtype\":\"float64\",\"shape\":[1]},\"TotalCoinsMined_log\":{\"__ndarray__\":\"XQ8rTmXYQUA=\",\"dtype\":\"float64\",\"shape\":[1]}},\"selected\":{\"id\":\"4438\"},\"selection_policy\":{\"id\":\"4477\"}},\"id\":\"4437\",\"type\":\"ColumnDataSource\"},{\"attributes\":{\"fill_color\":{\"value\":\"#9367bc\"},\"line_color\":{\"value\":\"#9367bc\"},\"size\":{\"units\":\"screen\",\"value\":5.477225575051661},\"x\":{\"field\":\"TotalCoinsMined_log\"},\"y\":{\"field\":\"TotalCoinSupply_log\"}},\"id\":\"4461\",\"type\":\"Scatter\"},{\"attributes\":{\"label\":{\"value\":\"4\"},\"renderers\":[{\"id\":\"4464\"}]},\"id\":\"4480\",\"type\":\"LegendItem\"},{\"attributes\":{},\"id\":\"4386\",\"type\":\"Selection\"},{\"attributes\":{\"fill_alpha\":{\"value\":0.1},\"fill_color\":{\"value\":\"#1f77b3\"},\"line_alpha\":{\"value\":0.1},\"line_color\":{\"value\":\"#1f77b3\"},\"size\":{\"units\":\"screen\",\"value\":5.477225575051661},\"x\":{\"field\":\"TotalCoinsMined_log\"},\"y\":{\"field\":\"TotalCoinSupply_log\"}},\"id\":\"4389\",\"type\":\"Scatter\"},{\"attributes\":{\"fill_color\":{\"value\":\"#2ba02b\"},\"line_color\":{\"value\":\"#2ba02b\"},\"size\":{\"units\":\"screen\",\"value\":5.477225575051661},\"x\":{\"field\":\"TotalCoinsMined_log\"},\"y\":{\"field\":\"TotalCoinSupply_log\"}},\"id\":\"4421\",\"type\":\"Scatter\"},{\"attributes\":{\"label\":{\"value\":\"0\"},\"renderers\":[{\"id\":\"4391\"}]},\"id\":\"4400\",\"type\":\"LegendItem\"},{\"attributes\":{},\"id\":\"4370\",\"type\":\"WheelZoomTool\"},{\"attributes\":{},\"id\":\"4372\",\"type\":\"ResetTool\"},{\"attributes\":{},\"id\":\"4365\",\"type\":\"BasicTicker\"},{\"attributes\":{\"data_source\":{\"id\":\"4458\"},\"glyph\":{\"id\":\"4461\"},\"hover_glyph\":null,\"muted_glyph\":{\"id\":\"4463\"},\"nonselection_glyph\":{\"id\":\"4462\"},\"selection_glyph\":null,\"view\":{\"id\":\"4465\"}},\"id\":\"4464\",\"type\":\"GlyphRenderer\"},{\"attributes\":{\"fill_alpha\":{\"value\":0.1},\"fill_color\":{\"value\":\"#9367bc\"},\"line_alpha\":{\"value\":0.1},\"line_color\":{\"value\":\"#9367bc\"},\"size\":{\"units\":\"screen\",\"value\":5.477225575051661},\"x\":{\"field\":\"TotalCoinsMined_log\"},\"y\":{\"field\":\"TotalCoinSupply_log\"}},\"id\":\"4462\",\"type\":\"Scatter\"},{\"attributes\":{},\"id\":\"4454\",\"type\":\"UnionRenderers\"},{\"attributes\":{},\"id\":\"4438\",\"type\":\"Selection\"},{\"attributes\":{\"fill_alpha\":{\"value\":0.1},\"fill_color\":{\"value\":\"#ff7e0e\"},\"line_alpha\":{\"value\":0.1},\"line_color\":{\"value\":\"#ff7e0e\"},\"size\":{\"units\":\"screen\",\"value\":5.477225575051661},\"x\":{\"field\":\"TotalCoinsMined_log\"},\"y\":{\"field\":\"TotalCoinSupply_log\"}},\"id\":\"4405\",\"type\":\"Scatter\"},{\"attributes\":{\"data\":{\"Class\":[1,1,1,1,1,1,1,1,1,1,1,1,1,1,1,1,1,1,1,1,1,1,1,1,1,1,1,1,1,1,1,1,1,1,1,1,1,1,1,1,1,1,1,1,1,1,1,1,1,1,1,1,1,1,1,1,1,1,1,1,1,1,1,1,1,1,1,1,1,1,1,1,1,1,1,1,1,1,1,1,1,1,1,1,1,1,1,1,1,1,1,1,1,1,1,1,1,1,1,1,1,1,1,1,1,1,1,1,1,1,1,1,1,1,1,1,1,1,1,1,1,1,1,1,1,1,1,1,1,1,1,1,1,1,1,1,1,1,1,1,1,1,1,1,1,1,1,1,1,1,1,1,1,1,1,1,1,1,1,1,1,1,1,1,1,1,1,1,1,1,1,1,1,1,1,1,1,1,1,1,1,1,1,1,1,1,1,1,1,1,1,1,1,1,1,1,1,1,1,1,1,1,1,1,1,1,1,1,1,1,1,1,1,1,1,1,1,1],\"CoinName\":[\"42 Coin\",\"404Coin\",\"Dash\",\"BitcoinDark\",\"PayCoin\",\"KoboCoin\",\"Aurora Coin\",\"BitBar\",\"CryptoBullion\",\"Diamond\",\"HoboNickels\",\"IOCoin\",\"MaxCoin\",\"MazaCoin\",\"Nautilus Coin\",\"Orbitcoin\",\"PotCoin\",\"PhoenixCoin\",\"SyncCoin\",\"TorCoin\",\"UnitaryStatus Dollar\",\"UltraCoin\",\"X11 Coin\",\"ZCC Coin\",\"StorjCoin\",\"Neutron\",\"Kore\",\"Dnotes\",\"Sativa Coin\",\"Ucoin\",\"Vtorrent\",\"Nexus\",\"Droidz\",\"Diggits\",\"Paycon\",\"Emercoin\",\"EverGreenCoin\",\"Decred\",\"EDRCoin\",\"DubaiCoin\",\"BillaryCoin\",\"GPU Coin\",\"EuropeCoin\",\"SwingCoin\",\"Nebuchadnezzar\",\"Ratecoin\",\"Revenu\",\"Clockcoin\",\"VIP Tokens\",\"BitSend\",\"Let it Ride\",\"PutinCoin\",\"iBankCoin\",\"Frankywillcoin\",\"MudraCoin\",\"Lutetium Coin\",\"GoldBlocks\",\"CarterCoin\",\"BitTokens\",\"MustangCoin\",\"ZoneCoin\",\"Opair\",\"Halloween Coin\",\"CoffeeCoin\",\"RoyalCoin\",\"GanjaCoin V2\",\"TeamUP\",\"InsaneCoin\",\"FreeCoin\",\"PLNCoin\",\"AquariusCoin\",\"Creatio\",\"Eternity\",\"Eurocoin\",\"BitcoinFast\",\"Stakenet\",\"BitConnect Coin\",\"MoneyCoin\",\"Enigma\",\"Russiacoin\",\"GameUnits\",\"GAKHcoin\",\"Allsafe\",\"LiteCreed\",\"Klingon Empire Darsek\",\"Internet of People\",\"KushCoin\",\"Printerium\",\"Impeach\",\"Zilbercoin\",\"FirstCoin\",\"FindCoin\",\"OpenChat\",\"RenosCoin\",\"VirtacoinPlus\",\"TajCoin\",\"Impact\",\"Atmos\",\"HappyCoin\",\"MacronCoin\",\"Condensate\",\"Independent Money System\",\"ArgusCoin\",\"LomoCoin\",\"GoldReserve\",\"GrowthCoin\",\"Phreak\",\"Degas Coin\",\"Ultimate Secure Cash\",\"QTUM\",\"Denarius\",\"Virta Unique Coin\",\"Bitcoin Planet\",\"BritCoin\",\"Signatum\",\"Cream\",\"Monoeci\",\"Stakecoin\",\"CoinonatX\",\"Ethereum Dark\",\"Obsidian\",\"Regalcoin\",\"TrezarCoin\",\"TerraNovaCoin\",\"Rupee\",\"Theresa May Coin\",\"NamoCoin\",\"LUXCoin\",\"Xios\",\"Bitcloud 2.0\",\"KekCoin\",\"BlackholeCoin\",\"Magnet\",\"Bitcoin Diamond\",\"Cash & Back Coin\",\"Bulwark\",\"Kalkulus\",\"LiteCoin Ultra\",\"PhantomX\",\"Digiwage\",\"Trollcoin\",\"Litecoin Plus\",\"Monkey Project\",\"TokenPay\",\"1717 Masonic Commemorative Token\",\"My Big Coin\",\"Unified Society USDEX\",\"Tokyo Coin\",\"Stipend\",\"Pushi\",\"Ellerium\",\"Velox\",\"Bitspace\",\"Briacoin\",\"Ignition\",\"MedicCoin\",\"Bitcoin Green\",\"Deviant Coin\",\"Abjcoin\",\"Carebit\",\"Zealium\",\"Proton\",\"iDealCash\",\"Bitcoin Incognito\",\"HollyWoodCoin\",\"Xt3ch\",\"TheVig\",\"EmaratCoin\",\"Dekado\",\"Poseidon Quark\",\"BitcoinWSpectrum\",\"Muse\",\"Trivechain\",\"Dystem\",\"Giant\",\"Peony Coin\",\"Absolute Coin\",\"Vitae\",\"TPCash\",\"ARENON\",\"EUNO\",\"MMOCoin\",\"Ketan\",\"XDNA\",\"PAXEX\",\"Bettex coin\",\"HerbCoin\",\"PirateCash\",\"Oduwa\",\"Galilel\",\"Crypto Sports\",\"Dash Platinum\",\"Nasdacoin\",\"Beetle Coin\",\"Award\",\"Bitcoin Rhodium\",\"Insane Coin\",\"OrangeCoin\",\"BitstarCoin\",\"NeosCoin\",\"PinkCoin\",\"AudioCoin\",\"IncaKoin\",\"Piggy Coin\",\"Genstake\",\"XiaoMiCoin\",\"CapriCoin\",\" ClubCoin\",\"Radium\",\"Creditbit \",\"OKCash\",\"WhiteCoin\",\"FriendshipCoin\",\"Triangles Coin\",\"TigerCash\",\"Particl\",\"Gapcoin\",\"BitcoinPlus\"],\"TotalCoinSupply_log\":{\"__ndarray__\":\"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\",\"dtype\":\"float64\",\"shape\":[218]},\"TotalCoinsMined_log\":{\"__ndarray__\":\"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\",\"dtype\":\"float64\",\"shape\":[218]}},\"selected\":{\"id\":\"4402\"},\"selection_policy\":{\"id\":\"4433\"}},\"id\":\"4401\",\"type\":\"ColumnDataSource\"},{\"attributes\":{\"active_drag\":\"auto\",\"active_inspect\":\"auto\",\"active_multi\":null,\"active_scroll\":\"auto\",\"active_tap\":\"auto\",\"tools\":[{\"id\":\"4346\"},{\"id\":\"4368\"},{\"id\":\"4369\"},{\"id\":\"4370\"},{\"id\":\"4371\"},{\"id\":\"4372\"}]},\"id\":\"4374\",\"type\":\"Toolbar\"},{\"attributes\":{\"data\":{\"Class\":[4,4,4,4,4,4,4,4,4,4,4,4,4,4,4,4,4,4,4,4,4,4,4,4,4,4,4,4,4,4,4,4,4,4,4,4,4,4,4,4,4,4,4,4],\"CoinName\":[\"EliteCoin\",\"Bitshares\",\"CasinoCoin\",\"TittieCoin\",\"BurstCoin\",\"Hitcoin\",\"ZeitCoin\",\"SafeExchangeCoin\",\"Swiscoin\",\"BuzzCoin\",\"LanaCoin\",\"ARK\",\"EmberCoin\",\"XenixCoin\",\"PandaCoin\",\"ProCurrency\",\"HTML5 Coin\",\"Espers\",\"Linda\",\"DeepOnion\",\"Draftcoin\",\"Cardano\",\"WomenCoin\",\"Infinity Economics\",\"Lamden Tau\",\"Electra\",\"GermanCoin\",\"BiblePay\",\"Ontology\",\"Semux\",\"Swisscoin\",\"Lynx\",\"ThunderStake\",\"Kcash\",\"BitMoney\",\"Credit\",\"Titan Coin\",\"ALAX\",\"LiteDoge\",\"Lisk\",\"HiCoin\",\"BitTorrent\",\"Nxt\",\"ZEPHYR\"],\"TotalCoinSupply_log\":{\"__ndarray__\":\"W2cokKoYQ0AGH1053r4/QCcG7GURnEFAR1WAMVcZP0CNotp78QE/QBFUghFiUEFAms1ON2tDQkBXHf3///8+QMW2FD+Vhz9AJwbsZREcQUDfVu1AF2dAQODXqOq45TpAhGx0ALOpPUBNpGEc/zlIQG3MjhnPdUFASZ6gYyYQQkD9ASaA0TFCQF6gg1ZGxUFAXqCDVkbFQUAN3dRNbrZHQC0W25dyUElA/QEmgNGxQUBeoINWRkVBQMZnjo+ciEBA4Neo6rjlPEASBAlz8WZBQF6gg1ZGxUFA3O/1hk8jQEDg16jquOU9QHGjeQlPkzpALTRXjbmfQEDaxFeJ4DVCQMZnjo+cCEFA4Neo6rjlPUBqRuHNaANCQBac+ieoD0JAJwbsZREcQEDg16jquOU9QGpG4c1og0FAnQnl7LRAO0ABB0QmO5xAQNJn5ieg7ENA4Neo6rjlPUDg16jquOU+QA==\",\"dtype\":\"float64\",\"shape\":[44]},\"TotalCoinsMined_log\":{\"__ndarray__\":\"Of0cGnRiQUCSobLyM1o/QAnjGmURnEFA595VQG2YPkDFpyNoecE+QBIfk0mbrUBAauqLD4eNQUBXHf3///8+QIsHJ5YoTz1Aj0xpuSAYQUC5CWOa4gI+QMIcf1VssDpAvdHLg0M2QkAopUkvr+A1QD1adeoJfUFAf12roFGVOkBPPRHrFZ9BQPEG9Y9HNEFAYQ9m+4eJQEDdUDpJs2I4QI3IhutYJzhAw7lsrf9LQUDRs+7hfr9BQIX2io+ciEBA0gfvNRkaPEDO2n0E0VxBQEFOKyfFGEBA6q1C0Am5PkAAawZqGkc9QLiawkZIOzRALTRXjbmfQECBcJ7pFhdCQJ/9aw46+z1A4Neo6rjlPUCHjv9+taI7QBDqbQb1a0FAleiXMVC9PUDg16jquOU9QBpMzezT6kBA3o8S067WOkDZQgiOEpxAQINh7Z2f7ENA4Neo6rjlPUCbTJrquOU+QA==\",\"dtype\":\"float64\",\"shape\":[44]}},\"selected\":{\"id\":\"4459\"},\"selection_policy\":{\"id\":\"4494\"}},\"id\":\"4458\",\"type\":\"ColumnDataSource\"},{\"attributes\":{\"align\":null,\"below\":[{\"id\":\"4360\"}],\"center\":[{\"id\":\"4363\"},{\"id\":\"4367\"}],\"left\":[{\"id\":\"4364\"}],\"margin\":null,\"min_border_bottom\":10,\"min_border_left\":10,\"min_border_right\":10,\"min_border_top\":10,\"plot_height\":300,\"plot_width\":700,\"renderers\":[{\"id\":\"4391\"},{\"id\":\"4407\"},{\"id\":\"4424\"},{\"id\":\"4443\"},{\"id\":\"4464\"}],\"right\":[{\"id\":\"4399\"}],\"sizing_mode\":\"fixed\",\"title\":{\"id\":\"4352\"},\"toolbar\":{\"id\":\"4374\"},\"x_range\":{\"id\":\"4344\"},\"x_scale\":{\"id\":\"4356\"},\"y_range\":{\"id\":\"4345\"},\"y_scale\":{\"id\":\"4358\"}},\"id\":\"4351\",\"subtype\":\"Figure\",\"type\":\"Plot\"},{\"attributes\":{\"axis_label\":\"TotalCoinsMined_log\",\"bounds\":\"auto\",\"formatter\":{\"id\":\"4381\"},\"major_label_orientation\":\"horizontal\",\"ticker\":{\"id\":\"4361\"}},\"id\":\"4360\",\"type\":\"LinearAxis\"},{\"attributes\":{},\"id\":\"4414\",\"type\":\"UnionRenderers\"},{\"attributes\":{},\"id\":\"4459\",\"type\":\"Selection\"},{\"attributes\":{\"fill_alpha\":{\"value\":0.2},\"fill_color\":{\"value\":\"#1f77b3\"},\"line_alpha\":{\"value\":0.2},\"line_color\":{\"value\":\"#1f77b3\"},\"size\":{\"units\":\"screen\",\"value\":5.477225575051661},\"x\":{\"field\":\"TotalCoinsMined_log\"},\"y\":{\"field\":\"TotalCoinSupply_log\"}},\"id\":\"4390\",\"type\":\"Scatter\"},{\"attributes\":{\"label\":{\"value\":\"1\"},\"renderers\":[{\"id\":\"4407\"}]},\"id\":\"4417\",\"type\":\"LegendItem\"},{\"attributes\":{},\"id\":\"4368\",\"type\":\"SaveTool\"},{\"attributes\":{\"data_source\":{\"id\":\"4385\"},\"glyph\":{\"id\":\"4388\"},\"hover_glyph\":null,\"muted_glyph\":{\"id\":\"4390\"},\"nonselection_glyph\":{\"id\":\"4389\"},\"selection_glyph\":null,\"view\":{\"id\":\"4392\"}},\"id\":\"4391\",\"type\":\"GlyphRenderer\"},{\"attributes\":{\"end\":55.15211507490417,\"reset_end\":55.15211507490417,\"reset_start\":0.868699454403723,\"start\":0.868699454403723,\"tags\":[[[\"TotalCoinSupply_log\",\"TotalCoinSupply_log\",null]]]},\"id\":\"4345\",\"type\":\"Range1d\"},{\"attributes\":{},\"id\":\"4494\",\"type\":\"UnionRenderers\"},{\"attributes\":{\"fill_alpha\":{\"value\":0.2},\"fill_color\":{\"value\":\"#9367bc\"},\"line_alpha\":{\"value\":0.2},\"line_color\":{\"value\":\"#9367bc\"},\"size\":{\"units\":\"screen\",\"value\":5.477225575051661},\"x\":{\"field\":\"TotalCoinsMined_log\"},\"y\":{\"field\":\"TotalCoinSupply_log\"}},\"id\":\"4463\",\"type\":\"Scatter\"},{\"attributes\":{\"source\":{\"id\":\"4418\"}},\"id\":\"4425\",\"type\":\"CDSView\"},{\"attributes\":{\"data\":{\"Class\":[2,2,2,2],\"CoinName\":[\"LitecoinCash\",\"Poa Network\",\"Acute Angle Cloud\",\"Waves\"],\"TotalCoinSupply_log\":{\"__ndarray__\":\"X+tuElSlPUAScIsGV+k7QODXqOq45T1AcaN5CU+TOkA=\",\"dtype\":\"float64\",\"shape\":[4]},\"TotalCoinsMined_log\":{\"__ndarray__\":\"eRWk3/U/PUDKnTQbfZs7QODXqOq45T1AcaN5CU+TOkA=\",\"dtype\":\"float64\",\"shape\":[4]}},\"selected\":{\"id\":\"4419\"},\"selection_policy\":{\"id\":\"4454\"}},\"id\":\"4418\",\"type\":\"ColumnDataSource\"},{\"attributes\":{\"axis_label\":\"TotalCoinSupply_log\",\"bounds\":\"auto\",\"formatter\":{\"id\":\"4383\"},\"major_label_orientation\":\"horizontal\",\"ticker\":{\"id\":\"4365\"}},\"id\":\"4364\",\"type\":\"LinearAxis\"},{\"attributes\":{\"fill_color\":{\"value\":\"#d62628\"},\"line_color\":{\"value\":\"#d62628\"},\"size\":{\"units\":\"screen\",\"value\":5.477225575051661},\"x\":{\"field\":\"TotalCoinsMined_log\"},\"y\":{\"field\":\"TotalCoinSupply_log\"}},\"id\":\"4440\",\"type\":\"Scatter\"},{\"attributes\":{\"margin\":[5,5,5,5],\"name\":\"HSpacer10695\",\"sizing_mode\":\"stretch_width\"},\"id\":\"4343\",\"type\":\"Spacer\"},{\"attributes\":{\"fill_color\":{\"value\":\"#ff7e0e\"},\"line_color\":{\"value\":\"#ff7e0e\"},\"size\":{\"units\":\"screen\",\"value\":5.477225575051661},\"x\":{\"field\":\"TotalCoinsMined_log\"},\"y\":{\"field\":\"TotalCoinSupply_log\"}},\"id\":\"4404\",\"type\":\"Scatter\"},{\"attributes\":{\"source\":{\"id\":\"4401\"}},\"id\":\"4408\",\"type\":\"CDSView\"},{\"attributes\":{\"fill_alpha\":{\"value\":0.1},\"fill_color\":{\"value\":\"#d62628\"},\"line_alpha\":{\"value\":0.1},\"line_color\":{\"value\":\"#d62628\"},\"size\":{\"units\":\"screen\",\"value\":5.477225575051661},\"x\":{\"field\":\"TotalCoinsMined_log\"},\"y\":{\"field\":\"TotalCoinSupply_log\"}},\"id\":\"4441\",\"type\":\"Scatter\"},{\"attributes\":{\"source\":{\"id\":\"4385\"}},\"id\":\"4392\",\"type\":\"CDSView\"},{\"attributes\":{\"data\":{\"Class\":[0,0,0,0,0,0,0,0,0,0,0,0,0,0,0,0,0,0,0,0,0,0,0,0,0,0,0,0,0,0,0,0,0,0,0,0,0,0,0,0,0,0,0,0,0,0,0,0,0,0,0,0,0,0,0,0,0,0,0,0,0,0,0,0,0,0,0,0,0,0,0,0,0,0,0,0,0,0,0,0,0,0,0,0,0,0,0,0,0,0,0,0,0,0,0,0,0,0,0,0,0,0,0,0,0,0,0,0,0,0,0,0,0,0,0,0,0,0,0,0,0,0,0,0,0,0,0,0,0,0,0,0,0,0,0,0,0,0,0,0,0,0,0,0,0,0,0,0,0,0,0,0,0,0,0,0,0,0,0,0,0,0,0,0,0,0,0,0,0,0,0,0,0,0,0,0,0,0,0,0,0,0,0,0,0,0,0,0,0,0,0,0,0,0,0,0,0,0,0,0,0,0,0,0,0,0,0,0,0,0,0,0,0,0,0,0,0,0,0,0,0,0,0,0,0,0,0,0,0,0],\"CoinName\":[\"Bitcoin\",\"Litecoin\",\"Ethereum Classic\",\"ZCash\",\"DigiByte\",\"ProsperCoin\",\"Spreadcoin\",\"Argentum\",\"MyriadCoin\",\"MoonCoin\",\"ZetaCoin\",\"SexCoin\",\"Quatloo\",\"QuarkCoin\",\"Riecoin\",\"Digitalcoin \",\"Catcoin\",\"CannaCoin\",\"CryptCoin\",\"Verge\",\"DevCoin\",\"EarthCoin\",\"E-Gulden\",\"Einsteinium\",\"Emerald\",\"Franko\",\"FeatherCoin\",\"GrandCoin\",\"GlobalCoin\",\"GoldCoin\",\"Infinite Coin\",\"IXcoin\",\"KrugerCoin\",\"LuckyCoin\",\"Litebar \",\"MegaCoin\",\"MediterraneanCoin\",\"MinCoin\",\"NobleCoin\",\"Namecoin\",\"NyanCoin\",\"RonPaulCoin\",\"StableCoin\",\"SmartCoin\",\"SysCoin\",\"TeslaCoin\",\"TigerCoin\",\"TerraCoin\",\"UnbreakableCoin\",\"Unobtanium\",\"ViaCoin\",\"Vertcoin\",\"WorldCoin\",\"JouleCoin\",\"ByteCoin\",\"DigitalNote \",\"MonaCoin\",\"Gulden\",\"PesetaCoin\",\"Wild Beast Coin\",\"Flo\",\"ArtByte\",\"Folding Coin\",\"OmniCron\",\"GreenCoin\",\"Cryptonite\",\"MasterCoin\",\"SoonCoin\",\"1Credit\",\"MarsCoin \",\"Crypto\",\"Anarchists Prime\",\"BowsCoin\",\"Song Coin\",\"BitZeny\",\"Expanse\",\"MindCoin\",\"I0coin\",\"Revolution VR\",\"HOdlcoin\",\"Gamecredits\",\"CarpeDiemCoin\",\"Adzcoin\",\"SoilCoin\",\"YoCoin\",\"SibCoin\",\"Francs\",\"BolivarCoin\",\"Omni\",\"PizzaCoin\",\"Komodo\",\"Karbo\",\"ZayedCoin\",\"Circuits of Value\",\"DopeCoin\",\"DollarCoin\",\"Shilling\",\"ZCoin\",\"Elementrem\",\"ZClassic\",\"KiloCoin\",\"ArtexCoin\",\"Kurrent\",\"Cannabis Industry Coin\",\"OsmiumCoin\",\"Bikercoins\",\"HexxCoin\",\"PacCoin\",\"Citadel\",\"BeaverCoin\",\"VaultCoin\",\"Zero\",\"Canada eCoin\",\"Zoin\",\"DubaiCoin\",\"EB3coin\",\"Coinonat\",\"BenjiRolls\",\"ILCoin\",\"EquiTrader\",\"Quantum Resistant Ledger\",\"Nano\",\"ChanCoin\",\"Dinastycoin\",\"DigitalPrice\",\"Unify\",\"SocialCoin\",\"ArcticCoin\",\"DAS\",\"LeviarCoin\",\"Bitcore\",\"gCn Coin\",\"SmartCash\",\"Onix\",\"Bitcoin Cash\",\"Sojourn Coin\",\"FrazCoin\",\"Kronecoin\",\"AdCoin\",\"Linx\",\"Sumokoin\",\"BitcoinZ\",\"Elements\",\"VIVO Coin\",\"Bitcoin Gold\",\"Pirl\",\"eBoost\",\"Pura\",\"Innova\",\"Ellaism\",\"GoByte\",\"SHIELD\",\"UltraNote\",\"BitCoal\",\"DaxxCoin\",\"AC3\",\"Lethean\",\"PopularCoin\",\"Photon\",\"Sucre\",\"SparksPay\",\"GunCoin\",\"IrishCoin\",\"Pioneer Coin\",\"UnitedBitcoin\",\"Interzone\",\"TurtleCoin\",\"MUNcoin\",\"Niobio Cash\",\"ShareChain\",\"Travelflex\",\"KREDS\",\"BitFlip\",\"LottoCoin\",\"Crypto Improvement Fund\",\"Callisto Network\",\"BitTube\",\"Poseidon\",\"Aidos Kuneen\",\"Bitrolium\",\"Alpenschillling\",\"FuturoCoin\",\"Monero Classic\",\"Jumpcoin\",\"Infinex\",\"KEYCO\",\"GINcoin\",\"PlatinCoin\",\"Loki\",\"Newton Coin\",\"MassGrid\",\"PluraCoin\",\"Motion\",\"PlusOneCoin\",\"Axe\",\"HexCoin\",\"Webchain\",\"Ryo\",\"Urals Coin\",\"Qwertycoin\",\"Project Pai\",\"Azart\",\"Xchange\",\"CrypticCoin\",\"Actinium\",\"Bitcoin SV\",\"FREDEnergy\",\"Universal Molecule\",\"Lithium\",\"Exosis\",\"Block-Logic\",\"Beam\",\"Bithereum\",\"SLICE\",\"BLAST\",\"GlobalToken\",\"SolarCoin\",\"UFO Coin\",\"BlakeCoin\",\"Crypto Escudo\",\"Crown Coin\",\"SmileyCoin\",\"Groestlcoin\",\"Bata\",\"Pakcoin\",\"JoinCoin\",\"Vollar\",\"Reality Clash\",\"Beldex\",\"Horizen\"],\"TotalCoinSupply_log\":{\"__ndarray__\":\"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\",\"dtype\":\"float64\",\"shape\":[230]},\"TotalCoinsMined_log\":{\"__ndarray__\":\"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\",\"dtype\":\"float64\",\"shape\":[230]}},\"selected\":{\"id\":\"4386\"},\"selection_policy\":{\"id\":\"4414\"}},\"id\":\"4385\",\"type\":\"ColumnDataSource\"},{\"attributes\":{},\"id\":\"4433\",\"type\":\"UnionRenderers\"},{\"attributes\":{\"source\":{\"id\":\"4437\"}},\"id\":\"4444\",\"type\":\"CDSView\"},{\"attributes\":{\"label\":{\"value\":\"2\"},\"renderers\":[{\"id\":\"4424\"}]},\"id\":\"4436\",\"type\":\"LegendItem\"},{\"attributes\":{},\"id\":\"4356\",\"type\":\"LinearScale\"},{\"attributes\":{\"bottom_units\":\"screen\",\"fill_alpha\":0.5,\"fill_color\":\"lightgrey\",\"left_units\":\"screen\",\"level\":\"overlay\",\"line_alpha\":1.0,\"line_color\":\"black\",\"line_dash\":[4,4],\"line_width\":2,\"render_mode\":\"css\",\"right_units\":\"screen\",\"top_units\":\"screen\"},\"id\":\"4373\",\"type\":\"BoxAnnotation\"},{\"attributes\":{},\"id\":\"4419\",\"type\":\"Selection\"},{\"attributes\":{\"margin\":[5,5,5,5],\"name\":\"HSpacer10696\",\"sizing_mode\":\"stretch_width\"},\"id\":\"4609\",\"type\":\"Spacer\"},{\"attributes\":{\"text\":\"\",\"text_color\":{\"value\":\"black\"},\"text_font_size\":{\"value\":\"12pt\"}},\"id\":\"4352\",\"type\":\"Title\"},{\"attributes\":{\"end\":41.32531991922553,\"reset_end\":41.32531991922553,\"reset_start\":3.915617038937744,\"start\":3.915617038937744,\"tags\":[[[\"TotalCoinsMined_log\",\"TotalCoinsMined_log\",null]]]},\"id\":\"4344\",\"type\":\"Range1d\"},{\"attributes\":{},\"id\":\"4358\",\"type\":\"LinearScale\"},{\"attributes\":{\"source\":{\"id\":\"4458\"}},\"id\":\"4465\",\"type\":\"CDSView\"},{\"attributes\":{},\"id\":\"4402\",\"type\":\"Selection\"},{\"attributes\":{},\"id\":\"4381\",\"type\":\"BasicTickFormatter\"},{\"attributes\":{\"callback\":null,\"renderers\":[{\"id\":\"4391\"},{\"id\":\"4407\"},{\"id\":\"4424\"},{\"id\":\"4443\"},{\"id\":\"4464\"}],\"tags\":[\"hv_created\"],\"tooltips\":[[\"Class\",\"@{Class}\"],[\"TotalCoinsMined_log\",\"@{TotalCoinsMined_log}\"],[\"TotalCoinSupply_log\",\"@{TotalCoinSupply_log}\"],[\"CoinName\",\"@{CoinName}\"]]},\"id\":\"4346\",\"type\":\"HoverTool\"},{\"attributes\":{\"fill_alpha\":{\"value\":0.2},\"fill_color\":{\"value\":\"#d62628\"},\"line_alpha\":{\"value\":0.2},\"line_color\":{\"value\":\"#d62628\"},\"size\":{\"units\":\"screen\",\"value\":5.477225575051661},\"x\":{\"field\":\"TotalCoinsMined_log\"},\"y\":{\"field\":\"TotalCoinSupply_log\"}},\"id\":\"4442\",\"type\":\"Scatter\"},{\"attributes\":{\"children\":[{\"id\":\"4343\"},{\"id\":\"4351\"},{\"id\":\"4609\"}],\"margin\":[0,0,0,0],\"name\":\"Row10691\",\"tags\":[\"embedded\"]},\"id\":\"4342\",\"type\":\"Row\"}],\"root_ids\":[\"4342\"]},\"title\":\"Bokeh Application\",\"version\":\"2.0.2\"}};\n",
       "  var render_items = [{\"docid\":\"e4526940-fc93-42b2-90f0-b3275686d6a6\",\"root_ids\":[\"4342\"],\"roots\":{\"4342\":\"30677f43-16e4-4e52-a6e0-ba5050b49037\"}}];\n",
       "  root.Bokeh.embed.embed_items_notebook(docs_json, render_items);\n",
       "  }\n",
       "if (root.Bokeh !== undefined) {\n",
       "    embed_document(root);\n",
       "  } else {\n",
       "    var attempts = 0;\n",
       "    var timer = setInterval(function(root) {\n",
       "      if (root.Bokeh !== undefined) {\n",
       "        clearInterval(timer);\n",
       "        embed_document(root);\n",
       "      } else if (document.readyState == \"complete\") {\n",
       "        attempts++;\n",
       "        if (attempts > 100) {\n",
       "          clearInterval(timer);\n",
       "          console.log(\"Bokeh: ERROR: Unable to run BokehJS code because BokehJS library is missing\");\n",
       "        }\n",
       "      }\n",
       "    }, 10, root)\n",
       "  }\n",
       "})(window);</script>"
      ],
      "text/plain": [
       ":NdOverlay   [Class]\n",
       "   :Scatter   [TotalCoinsMined_log]   (TotalCoinSupply_log,CoinName)"
      ]
     },
     "execution_count": 414,
     "metadata": {
      "application/vnd.holoviews_exec.v0+json": {
       "id": "4342"
      }
     },
     "output_type": "execute_result"
    }
   ],
   "source": [
    "clustered_df.hvplot.scatter(\n",
    "    x=\"TotalCoinsMined_log\",\n",
    "    y=\"TotalCoinSupply_log\",\n",
    "    hover_cols=[\"CoinName\"],\n",
    "    by=\"Class\",\n",
    ")"
   ]
  },
  {
   "cell_type": "code",
   "execution_count": null,
   "metadata": {},
   "outputs": [],
   "source": []
  }
 ],
 "metadata": {
  "kernelspec": {
   "display_name": "PythonData",
   "language": "python",
   "name": "pythondata"
  },
  "language_info": {
   "codemirror_mode": {
    "name": "ipython",
    "version": 3
   },
   "file_extension": ".py",
   "mimetype": "text/x-python",
   "name": "python",
   "nbconvert_exporter": "python",
   "pygments_lexer": "ipython3",
   "version": "3.7.7"
  }
 },
 "nbformat": 4,
 "nbformat_minor": 4
}
